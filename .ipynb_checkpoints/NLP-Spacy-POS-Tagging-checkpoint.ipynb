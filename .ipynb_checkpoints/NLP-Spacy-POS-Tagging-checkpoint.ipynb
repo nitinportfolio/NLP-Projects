{
 "cells": [
  {
   "cell_type": "code",
   "execution_count": 1,
   "id": "138f159f",
   "metadata": {},
   "outputs": [],
   "source": [
    "import spacy"
   ]
  },
  {
   "cell_type": "code",
   "execution_count": 2,
   "id": "04e8bcee",
   "metadata": {},
   "outputs": [],
   "source": [
    "nlp = spacy.load(\"en_core_web_lg\")"
   ]
  },
  {
   "cell_type": "code",
   "execution_count": 3,
   "id": "74804070",
   "metadata": {},
   "outputs": [],
   "source": [
    "doc = nlp(\"I will pitch to the google employes\")"
   ]
  },
  {
   "cell_type": "code",
   "execution_count": 4,
   "id": "8db3a601",
   "metadata": {},
   "outputs": [
    {
     "data": {
      "text/plain": [
       "'I will pitch to the google employes'"
      ]
     },
     "execution_count": 4,
     "metadata": {},
     "output_type": "execute_result"
    }
   ],
   "source": [
    "doc.text"
   ]
  },
  {
   "cell_type": "code",
   "execution_count": 5,
   "id": "6b77c7fa",
   "metadata": {},
   "outputs": [
    {
     "data": {
      "text/plain": [
       "employes"
      ]
     },
     "execution_count": 5,
     "metadata": {},
     "output_type": "execute_result"
    }
   ],
   "source": [
    "doc[-1]"
   ]
  },
  {
   "cell_type": "code",
   "execution_count": 9,
   "id": "7cf36a61",
   "metadata": {},
   "outputs": [
    {
     "data": {
      "text/plain": [
       "(google,)"
      ]
     },
     "execution_count": 9,
     "metadata": {},
     "output_type": "execute_result"
    }
   ],
   "source": [
    "doc.ents"
   ]
  },
  {
   "cell_type": "code",
   "execution_count": 10,
   "id": "b5a9b2b2",
   "metadata": {},
   "outputs": [
    {
     "data": {
      "text/plain": [
       "'PRON'"
      ]
     },
     "execution_count": 10,
     "metadata": {},
     "output_type": "execute_result"
    }
   ],
   "source": [
    "doc[0].pos_"
   ]
  },
  {
   "cell_type": "code",
   "execution_count": 11,
   "id": "9ef7fe50",
   "metadata": {},
   "outputs": [
    {
     "data": {
      "text/plain": [
       "'NOUN'"
      ]
     },
     "execution_count": 11,
     "metadata": {},
     "output_type": "execute_result"
    }
   ],
   "source": [
    "doc[-1].pos_"
   ]
  },
  {
   "cell_type": "code",
   "execution_count": 12,
   "id": "1ccb8b9b",
   "metadata": {},
   "outputs": [
    {
     "data": {
      "text/plain": [
       "'NNS'"
      ]
     },
     "execution_count": 12,
     "metadata": {},
     "output_type": "execute_result"
    }
   ],
   "source": [
    "doc[-1].tag_"
   ]
  },
  {
   "cell_type": "code",
   "execution_count": 13,
   "id": "b7bf6d84",
   "metadata": {},
   "outputs": [
    {
     "data": {
      "text/plain": [
       "'verb, base form'"
      ]
     },
     "execution_count": 13,
     "metadata": {},
     "output_type": "execute_result"
    }
   ],
   "source": [
    "\n",
    "spacy.explain('VB')"
   ]
  },
  {
   "cell_type": "code",
   "execution_count": 14,
   "id": "9473a68a",
   "metadata": {},
   "outputs": [
    {
     "data": {
      "text/plain": [
       "'noun, plural'"
      ]
     },
     "execution_count": 14,
     "metadata": {},
     "output_type": "execute_result"
    }
   ],
   "source": [
    "spacy.explain('NNS')"
   ]
  },
  {
   "cell_type": "code",
   "execution_count": 18,
   "id": "d3718952",
   "metadata": {},
   "outputs": [
    {
     "name": "stdout",
     "output_type": "stream",
     "text": [
      "I ------> \n",
      " PRON PRP\n",
      "pronoun, personal\n",
      "\n",
      "will ------> \n",
      " VERB MD\n",
      "verb, modal auxiliary\n",
      "\n",
      "pitch ------> \n",
      " VERB VB\n",
      "verb, base form\n",
      "\n",
      "to ------> \n",
      " ADP IN\n",
      "conjunction, subordinating or preposition\n",
      "\n",
      "the ------> \n",
      " DET DT\n",
      "determiner\n",
      "\n",
      "google ------> \n",
      " PROPN NNP\n",
      "noun, proper singular\n",
      "\n",
      "employes ------> \n",
      " NOUN NNS\n",
      "noun, plural\n",
      "\n"
     ]
    }
   ],
   "source": [
    "for word in doc:\n",
    "    print(word.text,\"------>\",\"\\n\", word.pos_,word.tag_)\n",
    "    print(spacy.explain(word.tag_))\n",
    "    print()"
   ]
  },
  {
   "cell_type": "code",
   "execution_count": null,
   "id": "837d3f66",
   "metadata": {},
   "outputs": [],
   "source": []
  }
 ],
 "metadata": {
  "kernelspec": {
   "display_name": "Python 3 (ipykernel)",
   "language": "python",
   "name": "python3"
  },
  "language_info": {
   "codemirror_mode": {
    "name": "ipython",
    "version": 3
   },
   "file_extension": ".py",
   "mimetype": "text/x-python",
   "name": "python",
   "nbconvert_exporter": "python",
   "pygments_lexer": "ipython3",
   "version": "3.10.9"
  }
 },
 "nbformat": 4,
 "nbformat_minor": 5
}
