{
 "cells": [
  {
   "cell_type": "markdown",
   "id": "f6da25d2",
   "metadata": {},
   "source": [
    "# Word Embeddings\n",
    "- Converting words into real value vector that encodes the meaning of the word such that the words that are closer in the vector speace are expected to be similar in meaning."
   ]
  },
  {
   "cell_type": "markdown",
   "id": "3ed55519",
   "metadata": {},
   "source": [
    "# Types \n",
    "1. **Frequency** \n",
    "-    a. Bag of Words\n",
    "-    b. tfidf\n",
    "-   c. Glove - Global Vector\n",
    "-   d. Matrix Factorization\n",
    "2. **Prediction usign ML/DL model**\n",
    "-    a. Word2Vec - Deep Learing Based\n"
   ]
  },
  {
   "cell_type": "markdown",
   "id": "b77f6719",
   "metadata": {},
   "source": [
    "# Word2Vec\n",
    "- Can find out semantic meaning such as happy & job are close to each other in the vector space\n",
    "- Low dimensional vector - Fast computation\n",
    "- Dense Vector (Not sparse) so no over fitting\n",
    "- Use Deeplearning technique\n",
    "\n",
    "## Types \n",
    "- Pretrained Model\n",
    "- Self Trained Model"
   ]
  },
  {
   "cell_type": "code",
   "execution_count": 2,
   "id": "85492536",
   "metadata": {},
   "outputs": [],
   "source": [
    "### Here we will use pre-trained weights of word2Vec that was trained on Google News dataset corpus containing 3 billion words.\n",
    "### This model consists of 300-dimensional vectors for 3 million words & phrases\n",
    "### We will use Gensim library for this"
   ]
  },
  {
   "cell_type": "markdown",
   "id": "260e7a0d",
   "metadata": {},
   "source": [
    "## Building Google's Gensim model on Google's News Data"
   ]
  },
  {
   "cell_type": "code",
   "execution_count": 2,
   "id": "ad7f79ba",
   "metadata": {},
   "outputs": [],
   "source": [
    "import gensim\n",
    "from gensim.models import word2vec, keyedvectors"
   ]
  },
  {
   "cell_type": "code",
   "execution_count": 3,
   "id": "4cfa41d4",
   "metadata": {},
   "outputs": [],
   "source": [
    "model = keyedvectors.load_word2vec_format(\"./largedata/GoogleNews-vectors-negative300.bin.gz\", binary = True, limit = 500000)"
   ]
  },
  {
   "cell_type": "code",
   "execution_count": 14,
   "id": "cfa5b29b",
   "metadata": {},
   "outputs": [
    {
     "data": {
      "text/plain": [
       "array([ 1.38671875e-01,  2.04101562e-01,  2.89306641e-02,  1.53320312e-01,\n",
       "       -2.98828125e-01,  7.69042969e-03,  2.77343750e-01, -1.75781250e-01,\n",
       "        4.85839844e-02, -2.33154297e-02,  1.62109375e-01, -2.79296875e-01,\n",
       "       -2.55859375e-01, -1.31835938e-01,  8.98437500e-02,  1.79687500e-01,\n",
       "       -2.03125000e-01,  1.46484375e-01,  1.50390625e-01, -4.02832031e-02,\n",
       "       -1.76757812e-01, -2.35351562e-01, -1.02050781e-01,  1.98242188e-01,\n",
       "       -3.27148438e-02, -2.45117188e-01,  7.51953125e-02,  1.89453125e-01,\n",
       "        9.47265625e-02,  2.58789062e-02, -6.44531250e-02,  3.34472656e-02,\n",
       "       -4.85229492e-03,  7.95898438e-02, -1.59179688e-01, -1.96533203e-02,\n",
       "        6.15234375e-02, -1.06933594e-01,  1.34765625e-01, -2.55126953e-02,\n",
       "        6.44531250e-02,  1.60156250e-01, -1.44531250e-01,  2.85156250e-01,\n",
       "       -1.40625000e-01, -1.71875000e-01,  3.78417969e-03,  6.54296875e-02,\n",
       "       -7.56835938e-02, -1.76757812e-01, -8.64257812e-02, -5.12695312e-02,\n",
       "       -4.02832031e-02, -4.34570312e-02,  1.06933594e-01,  2.77343750e-01,\n",
       "        1.31835938e-01, -2.67578125e-01, -9.57031250e-02,  4.12597656e-02,\n",
       "        7.53784180e-03,  4.83398438e-02,  1.04492188e-01, -1.15722656e-01,\n",
       "       -2.55859375e-01, -1.26953125e-01, -1.56250000e-02,  3.04687500e-01,\n",
       "       -1.36718750e-01, -4.76074219e-02,  1.03515625e-01, -5.34667969e-02,\n",
       "       -7.11059570e-03, -4.34570312e-02,  4.19921875e-02, -1.20849609e-02,\n",
       "        1.85546875e-01, -2.31933594e-02,  4.41894531e-02,  1.58203125e-01,\n",
       "       -3.11279297e-03, -7.51953125e-02,  1.83593750e-01, -2.46093750e-01,\n",
       "        3.83300781e-02, -1.69921875e-01, -2.69531250e-01,  1.92382812e-01,\n",
       "        6.91413879e-05, -1.29882812e-01,  1.80664062e-01,  1.23046875e-01,\n",
       "       -1.00585938e-01, -4.83398438e-02,  2.19726562e-01, -2.71606445e-03,\n",
       "       -1.83593750e-01, -1.07421875e-01,  4.12597656e-02, -1.21582031e-01,\n",
       "       -1.17675781e-01,  1.44531250e-01,  6.29882812e-02,  1.34765625e-01,\n",
       "       -2.73132324e-03, -6.03027344e-02, -5.24902344e-02,  8.25195312e-02,\n",
       "       -1.85546875e-01, -9.37500000e-02, -1.96289062e-01,  2.86865234e-03,\n",
       "        1.04492188e-01, -3.49121094e-02,  1.37695312e-01, -2.01416016e-03,\n",
       "        6.64062500e-02, -2.29492188e-01,  1.03027344e-01,  3.67187500e-01,\n",
       "       -1.12792969e-01,  4.17480469e-02,  8.54492188e-02,  2.83203125e-01,\n",
       "       -6.49414062e-02,  2.55859375e-01, -1.97265625e-01, -5.46875000e-02,\n",
       "       -4.80957031e-02, -1.13281250e-01, -9.61914062e-02, -7.71484375e-02,\n",
       "       -1.20605469e-01, -4.85839844e-02, -1.10839844e-01, -1.02050781e-01,\n",
       "        7.47070312e-02, -6.29882812e-02,  6.39648438e-02, -4.88281250e-02,\n",
       "        1.99218750e-01,  1.50756836e-02,  8.93554688e-02,  2.08007812e-01,\n",
       "       -9.96093750e-02, -5.37109375e-03, -2.77099609e-02, -5.29785156e-02,\n",
       "       -2.21679688e-01,  2.88085938e-02,  1.13769531e-01,  6.64062500e-02,\n",
       "       -9.47265625e-02,  4.68750000e-02, -5.12695312e-02, -1.41601562e-01,\n",
       "        1.39648438e-01, -1.28906250e-01,  6.39648438e-02,  2.17285156e-02,\n",
       "        1.11816406e-01,  7.03125000e-02, -2.42919922e-02, -4.66308594e-02,\n",
       "       -1.59179688e-01,  1.88476562e-01,  3.66210938e-02, -1.58203125e-01,\n",
       "       -1.13769531e-01,  1.38671875e-01,  1.24511719e-02, -1.04003906e-01,\n",
       "       -3.39355469e-02, -1.95312500e-02,  1.27929688e-01, -1.78222656e-02,\n",
       "       -9.13085938e-02, -5.15136719e-02, -1.64062500e-01, -1.66015625e-01,\n",
       "       -8.49609375e-02, -4.63867188e-02,  2.47070312e-01, -2.24609375e-01,\n",
       "       -1.91406250e-01,  2.01416016e-02, -4.00390625e-02,  9.47265625e-02,\n",
       "        1.05957031e-01,  3.33984375e-01, -3.36914062e-02, -5.27954102e-03,\n",
       "        3.12500000e-02,  3.63769531e-02, -1.55273438e-01,  2.19726562e-02,\n",
       "       -4.80957031e-02,  5.46875000e-02, -2.11181641e-02,  3.58886719e-02,\n",
       "        4.02832031e-02,  1.71875000e-01, -1.52343750e-01, -2.29492188e-02,\n",
       "       -4.56542969e-02,  2.05078125e-02,  1.54296875e-01,  3.02734375e-02,\n",
       "       -2.53906250e-01, -3.83300781e-02, -2.31445312e-01, -7.71484375e-02,\n",
       "        1.03027344e-01,  4.49218750e-02, -9.21630859e-03, -9.66796875e-02,\n",
       "        1.77734375e-01,  1.17187500e-01, -1.61132812e-01, -1.00097656e-01,\n",
       "        2.42187500e-01,  1.03027344e-01, -2.00195312e-01, -7.86132812e-02,\n",
       "       -7.76367188e-02,  1.16699219e-01,  3.96484375e-01, -4.37011719e-02,\n",
       "        8.25195312e-02,  2.96875000e-01, -1.00585938e-01,  2.59765625e-01,\n",
       "       -2.02636719e-02, -1.57226562e-01,  2.40234375e-01, -1.78710938e-01,\n",
       "        1.05957031e-01, -5.66406250e-02,  7.22656250e-02, -5.21850586e-03,\n",
       "       -5.22460938e-02,  1.16210938e-01, -8.88671875e-02, -1.45507812e-01,\n",
       "        1.76757812e-01,  1.16699219e-01, -1.07421875e-01,  5.34667969e-02,\n",
       "       -4.93164062e-02,  8.25195312e-02,  6.25000000e-02,  1.60156250e-01,\n",
       "        5.12695312e-02, -5.73730469e-02,  6.78710938e-02, -2.13623047e-03,\n",
       "        1.07421875e-01, -9.71679688e-02, -8.30078125e-02,  2.07031250e-01,\n",
       "        2.41088867e-03, -1.66992188e-01, -2.05078125e-01,  1.95312500e-01,\n",
       "       -9.27734375e-02,  2.45117188e-01, -2.00195312e-02, -1.50390625e-01,\n",
       "       -1.45507812e-01,  6.13403320e-03, -1.22070312e-01,  4.83398438e-02,\n",
       "        9.91210938e-02,  2.59765625e-01,  1.26953125e-01, -8.69140625e-02,\n",
       "       -8.69140625e-02, -2.39562988e-03, -2.05078125e-01,  1.48437500e-01,\n",
       "        2.48046875e-01,  5.90820312e-02,  2.10937500e-01, -1.58203125e-01,\n",
       "        1.87500000e-01, -2.03125000e-01,  1.09252930e-02, -1.18652344e-01,\n",
       "       -1.11328125e-01,  2.85156250e-01, -2.35351562e-01,  1.78222656e-02,\n",
       "        1.00585938e-01, -1.78710938e-01, -1.67968750e-01, -8.10546875e-02,\n",
       "        1.97265625e-01,  8.15429688e-02,  3.95507812e-02, -8.54492188e-02],\n",
       "      dtype=float32)"
      ]
     },
     "execution_count": 14,
     "metadata": {},
     "output_type": "execute_result"
    }
   ],
   "source": [
    "model[\"nature\"]"
   ]
  },
  {
   "cell_type": "markdown",
   "id": "3585a2fa",
   "metadata": {},
   "source": [
    "# # Most similar words Vectors to the given word"
   ]
  },
  {
   "cell_type": "code",
   "execution_count": 15,
   "id": "cf36d013",
   "metadata": {},
   "outputs": [
    {
     "data": {
      "text/plain": [
       "[('ocean', 0.7643541693687439),\n",
       " ('seas', 0.6712585091590881),\n",
       " ('oceans', 0.6193016171455383),\n",
       " ('waters', 0.5993286371231079),\n",
       " ('coastal_waters', 0.5737729072570801),\n",
       " ('oceanic', 0.5628669261932373),\n",
       " ('seabed', 0.5483793020248413),\n",
       " ('seawater', 0.5449961423873901),\n",
       " ('Pacific_Ocean', 0.5177162885665894),\n",
       " ('coastal', 0.5130411386489868)]"
      ]
     },
     "execution_count": 15,
     "metadata": {},
     "output_type": "execute_result"
    }
   ],
   "source": [
    "model.most_similar(\"sea\")"
   ]
  },
  {
   "cell_type": "code",
   "execution_count": 16,
   "id": "4c05a4c0",
   "metadata": {},
   "outputs": [
    {
     "data": {
      "text/plain": [
       "[('Indias', 0.7384199500083923),\n",
       " ('Indiaâ_€_™', 0.6843487024307251),\n",
       " ('Pakistan', 0.6706861257553101),\n",
       " ('Delhi', 0.6632035374641418),\n",
       " ('Bangalore', 0.6583030819892883),\n",
       " ('subcontinent', 0.6579218506813049),\n",
       " ('Bangladesh', 0.6527796983718872),\n",
       " ('sub_continent', 0.650303840637207),\n",
       " ('Mumbai', 0.6495688557624817),\n",
       " ('Sri_Lanka', 0.6445952653884888)]"
      ]
     },
     "execution_count": 16,
     "metadata": {},
     "output_type": "execute_result"
    }
   ],
   "source": [
    "model.most_similar(\"India\")"
   ]
  },
  {
   "cell_type": "code",
   "execution_count": 17,
   "id": "7c17884c",
   "metadata": {},
   "outputs": [
    {
     "data": {
      "text/plain": [
       "[('US.', 0.6528201103210449),\n",
       " ('U.S.', 0.5224751830101013),\n",
       " ('multinational', 0.49057596921920776),\n",
       " ('United_States', 0.4522322118282318),\n",
       " ('U.S', 0.42425569891929626),\n",
       " ('Indo_US', 0.40519604086875916),\n",
       " ('Sino', 0.4028245508670807),\n",
       " ('overthrew_Saddam_Hussein', 0.40034154057502747),\n",
       " ('depose_Saddam_Hussein', 0.3972216844558716),\n",
       " ('foreign', 0.39127039909362793)]"
      ]
     },
     "execution_count": 17,
     "metadata": {},
     "output_type": "execute_result"
    }
   ],
   "source": [
    "model.most_similar(\"US\")"
   ]
  },
  {
   "cell_type": "code",
   "execution_count": 21,
   "id": "2edbe49a",
   "metadata": {},
   "outputs": [
    {
     "data": {
      "text/plain": [
       "[('traveling', 0.6823130249977112),\n",
       " ('Travel', 0.6577276587486267),\n",
       " ('travelers', 0.5849088430404663),\n",
       " ('trips', 0.5770835280418396),\n",
       " ('travels', 0.5704988241195679),\n",
       " ('trip', 0.569098174571991),\n",
       " ('journeys', 0.5535728335380554),\n",
       " ('airfare', 0.5398489236831665),\n",
       " ('Travelling', 0.5369202494621277),\n",
       " ('Traveling', 0.5305293798446655)]"
      ]
     },
     "execution_count": 21,
     "metadata": {},
     "output_type": "execute_result"
    }
   ],
   "source": [
    "model.most_similar(\"travel\")"
   ]
  },
  {
   "cell_type": "code",
   "execution_count": 24,
   "id": "1a77942f",
   "metadata": {},
   "outputs": [
    {
     "data": {
      "text/plain": [
       "[('finest', 0.6383626461029053),\n",
       " ('worst', 0.5835110545158386),\n",
       " ('greatest', 0.5824128985404968),\n",
       " ('strongest', 0.5785794258117676),\n",
       " ('smartest', 0.5695626735687256),\n",
       " ('easiest', 0.5528990626335144),\n",
       " ('good', 0.5467195510864258),\n",
       " ('quickest', 0.5399829745292664),\n",
       " ('healthiest', 0.5372903347015381),\n",
       " ('terrific', 0.5293141007423401)]"
      ]
     },
     "execution_count": 24,
     "metadata": {},
     "output_type": "execute_result"
    }
   ],
   "source": [
    "model.most_similar(\"best\")"
   ]
  },
  {
   "cell_type": "code",
   "execution_count": 27,
   "id": "592aa235",
   "metadata": {},
   "outputs": [
    {
     "data": {
      "text/plain": [
       "[('Trading', 0.6618927717208862),\n",
       " ('traded', 0.64118891954422),\n",
       " ('trades', 0.6264050602912903),\n",
       " ('trade', 0.5736494660377502),\n",
       " ('Stock_Exchange', 0.5286506414413452),\n",
       " ('futures', 0.5278360843658447),\n",
       " ('stock', 0.5212361812591553),\n",
       " ('bourses', 0.5164941549301147),\n",
       " ('thinly_traded', 0.5040901303291321),\n",
       " ('intraday', 0.4988253116607666)]"
      ]
     },
     "execution_count": 27,
     "metadata": {},
     "output_type": "execute_result"
    }
   ],
   "source": [
    "model.most_similar(\"trading\")"
   ]
  },
  {
   "cell_type": "code",
   "execution_count": 28,
   "id": "3d851d0e",
   "metadata": {},
   "outputs": [
    {
     "data": {
      "text/plain": [
       "[('google.com', 0.6711485981941223),\n",
       " ('wikipedia', 0.6436079740524292),\n",
       " ('www.google.com', 0.6258558630943298),\n",
       " ('googled', 0.6166062951087952),\n",
       " ('googling', 0.6086059212684631),\n",
       " ('slashdot', 0.5964587926864624),\n",
       " ('yahoo', 0.5857012867927551),\n",
       " ('youtube', 0.5856686234474182),\n",
       " ('gmail', 0.5797291994094849),\n",
       " ('Googling', 0.5774115324020386)]"
      ]
     },
     "execution_count": 28,
     "metadata": {},
     "output_type": "execute_result"
    }
   ],
   "source": [
    "model.most_similar(\"google\")"
   ]
  },
  {
   "cell_type": "code",
   "execution_count": 79,
   "id": "abb36e17",
   "metadata": {},
   "outputs": [
    {
     "data": {
      "text/plain": [
       "[('startups', 0.7577222585678101),\n",
       " ('venture_capital', 0.617608368396759),\n",
       " ('tech_startups', 0.6171241402626038),\n",
       " ('Startup', 0.6064909100532532),\n",
       " ('angel_investor', 0.5992188453674316),\n",
       " ('serial_entrepreneur', 0.582551121711731),\n",
       " ('venture_capitalist', 0.5825412273406982),\n",
       " ('Startups', 0.5708916783332825),\n",
       " ('venture_capitalists', 0.5656944513320923),\n",
       " ('bootstrapped', 0.562889039516449)]"
      ]
     },
     "execution_count": 79,
     "metadata": {},
     "output_type": "execute_result"
    }
   ],
   "source": [
    "model.most_similar(\"startup\")"
   ]
  },
  {
   "cell_type": "code",
   "execution_count": 77,
   "id": "e9293575",
   "metadata": {},
   "outputs": [
    {
     "data": {
      "text/plain": [
       "([('apples', 0.720359742641449),\n",
       "  ('pear', 0.6450697183609009),\n",
       "  ('fruit', 0.6410146355628967),\n",
       "  ('berry', 0.6302295327186584),\n",
       "  ('pears', 0.613396167755127),\n",
       "  ('strawberry', 0.6058261394500732),\n",
       "  ('peach', 0.6025872230529785),\n",
       "  ('potato', 0.5960935354232788),\n",
       "  ('grape', 0.5935863852500916),\n",
       "  ('blueberry', 0.5866668224334717)],\n",
       " [('Facebook', 0.7563533186912537),\n",
       "  ('FaceBook', 0.7076998353004456),\n",
       "  ('twitter', 0.6988552212715149),\n",
       "  ('myspace', 0.6941817998886108),\n",
       "  ('Twitter', 0.664244532585144),\n",
       "  ('Facebook.com', 0.6529868245124817),\n",
       "  ('FacebookFacebook', 0.6162721514701843),\n",
       "  ('facebook.com', 0.6135972142219543),\n",
       "  ('Twitter.com', 0.6102107763290405),\n",
       "  ('TwitterTwitter', 0.6085205674171448)])"
      ]
     },
     "execution_count": 77,
     "metadata": {},
     "output_type": "execute_result"
    }
   ],
   "source": [
    "model.most_similar(\"apple\")"
   ]
  },
  {
   "cell_type": "markdown",
   "id": "947787a5",
   "metadata": {},
   "source": [
    "# Similarity score between two given words Vectors"
   ]
  },
  {
   "cell_type": "code",
   "execution_count": 35,
   "id": "9fe447d0",
   "metadata": {},
   "outputs": [
    {
     "data": {
      "text/plain": [
       "0.48623595"
      ]
     },
     "execution_count": 35,
     "metadata": {},
     "output_type": "execute_result"
    }
   ],
   "source": [
    "model.similarity(\"movie\",\"imdb\")"
   ]
  },
  {
   "cell_type": "code",
   "execution_count": 36,
   "id": "c028ce18",
   "metadata": {},
   "outputs": [
    {
     "data": {
      "text/plain": [
       "0.19214496"
      ]
     },
     "execution_count": 36,
     "metadata": {},
     "output_type": "execute_result"
    }
   ],
   "source": [
    "model.similarity(\"song\",\"imdb\")"
   ]
  },
  {
   "cell_type": "code",
   "execution_count": 40,
   "id": "f7c7c19a",
   "metadata": {},
   "outputs": [
    {
     "data": {
      "text/plain": [
       "0.18412219"
      ]
     },
     "execution_count": 40,
     "metadata": {},
     "output_type": "execute_result"
    }
   ],
   "source": [
    "model.similarity(\"trading\",\"bull\")"
   ]
  },
  {
   "cell_type": "code",
   "execution_count": 41,
   "id": "933b8a84",
   "metadata": {},
   "outputs": [
    {
     "data": {
      "text/plain": [
       "-0.0075830165"
      ]
     },
     "execution_count": 41,
     "metadata": {},
     "output_type": "execute_result"
    }
   ],
   "source": [
    "model.similarity(\"trading\",\"python\")"
   ]
  },
  {
   "cell_type": "code",
   "execution_count": 46,
   "id": "aeb7a718",
   "metadata": {},
   "outputs": [
    {
     "data": {
      "text/plain": [
       "(0.3056777, 0.19504723, 0.109661475)"
      ]
     },
     "execution_count": 46,
     "metadata": {},
     "output_type": "execute_result"
    }
   ],
   "source": [
    "model.similarity(\"code\",\"javascript\"), model.similarity(\"code\",\"java\"),model.similarity(\"code\",\"python\")"
   ]
  },
  {
   "cell_type": "code",
   "execution_count": 64,
   "id": "eb4f0bb5",
   "metadata": {},
   "outputs": [
    {
     "data": {
      "text/plain": [
       "0.17121245"
      ]
     },
     "execution_count": 64,
     "metadata": {},
     "output_type": "execute_result"
    }
   ],
   "source": [
    "model.similarity(\"pizza\",\"Italy\")"
   ]
  },
  {
   "cell_type": "markdown",
   "id": "c719bcb6",
   "metadata": {},
   "source": [
    "# Word Vectors that doesn't match"
   ]
  },
  {
   "cell_type": "code",
   "execution_count": 65,
   "id": "b0a2e876",
   "metadata": {},
   "outputs": [
    {
     "data": {
      "text/plain": [
       "'Tree'"
      ]
     },
     "execution_count": 65,
     "metadata": {},
     "output_type": "execute_result"
    }
   ],
   "source": [
    "model.doesnt_match([\"India\",\"GOA\",\"Tree\"])"
   ]
  },
  {
   "cell_type": "code",
   "execution_count": 66,
   "id": "0f55ba87",
   "metadata": {},
   "outputs": [
    {
     "data": {
      "text/plain": [
       "'GOA'"
      ]
     },
     "execution_count": 66,
     "metadata": {},
     "output_type": "execute_result"
    }
   ],
   "source": [
    "model.doesnt_match([\"India\",\"GOA\",\"US\"])"
   ]
  },
  {
   "cell_type": "code",
   "execution_count": null,
   "id": "ee5df272",
   "metadata": {},
   "outputs": [],
   "source": []
  }
 ],
 "metadata": {
  "kernelspec": {
   "display_name": "Python 3 (ipykernel)",
   "language": "python",
   "name": "python3"
  },
  "language_info": {
   "codemirror_mode": {
    "name": "ipython",
    "version": 3
   },
   "file_extension": ".py",
   "mimetype": "text/x-python",
   "name": "python",
   "nbconvert_exporter": "python",
   "pygments_lexer": "ipython3",
   "version": "3.10.9"
  }
 },
 "nbformat": 4,
 "nbformat_minor": 5
}
