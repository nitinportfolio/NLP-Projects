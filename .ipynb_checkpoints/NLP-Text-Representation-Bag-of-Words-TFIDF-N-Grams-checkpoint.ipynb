{
 "cells": [
  {
   "cell_type": "markdown",
   "id": "d456803b",
   "metadata": {},
   "source": [
    "# Text-Representation-BagOfWords-TFIDF-NGrams\n",
    "\n",
    "\n",
    "## Feature Exraction - Text to Numbers in NLP\n",
    "- Also called Text Represntation or Text Vectorization\n",
    "- Vectorization should be in such a way thay it tells  the hidden meaning - semantic meaning"
   ]
  },
  {
   "cell_type": "markdown",
   "id": "5b29d0ca",
   "metadata": {},
   "source": [
    "## Techniques for Vectorization\n",
    "1. One Hot Encoding - Not used - Disadvantage - Sparsity & overfitting, No Fixed Size, OOV (out of vocabulary problem), no capturing sematic meaning\n",
    "2. Bag of Words - Text classification perform good - Based on Frequency of words - DisAdv - Sparsity, OOV, Ordering of word (meaning changes), Not able to capture small changes like (i am going & I am not going) both are very different meaning.\n",
    "3. ngrams - Able to capture semantic better if we take value 2 or 3. DisAdv - Slow, more sparsity, \n",
    "4. TFIDF - Term frequency & Inverse Doc frequency. Get the wt & multiplied together\n",
    "5. Custom Features\n",
    "6. Word2Vec - Embedding - Deep learning (Best)"
   ]
  },
  {
   "cell_type": "markdown",
   "id": "47ea645b",
   "metadata": {},
   "source": [
    "# Say that we have dataset of 5000 reviews\n",
    "- Corpus - All the text - reviews combined together or dataset joined together\n",
    "- Vocabulary - All unique words that  you have in a corpus\n",
    "- Document - All the individual reviews are individual documents\n",
    "- Word - simple individual words"
   ]
  },
  {
   "cell_type": "markdown",
   "id": "ab7c11f5",
   "metadata": {},
   "source": [
    "# Bag of Words"
   ]
  },
  {
   "cell_type": "code",
   "execution_count": 13,
   "id": "02309a73",
   "metadata": {},
   "outputs": [],
   "source": [
    "from sklearn.feature_extraction.text import CountVectorizer\n",
    "import pandas as pd\n",
    "import numpy as np"
   ]
  },
  {
   "cell_type": "code",
   "execution_count": 6,
   "id": "620747bc",
   "metadata": {},
   "outputs": [],
   "source": [
    "text = [\"I like reading book\", \"Which book are you reading, is this good book\" ]"
   ]
  },
  {
   "cell_type": "code",
   "execution_count": 7,
   "id": "a7b41af6",
   "metadata": {},
   "outputs": [],
   "source": [
    "cv = CountVectorizer()\n",
    "count = cv.fit_transform(text)"
   ]
  },
  {
   "cell_type": "code",
   "execution_count": 8,
   "id": "84adfb36",
   "metadata": {},
   "outputs": [
    {
     "data": {
      "text/plain": [
       "array([[0, 1, 0, 0, 1, 1, 0, 0, 0],\n",
       "       [1, 2, 1, 1, 0, 1, 1, 1, 1]], dtype=int64)"
      ]
     },
     "execution_count": 8,
     "metadata": {},
     "output_type": "execute_result"
    }
   ],
   "source": [
    "count.toarray()"
   ]
  },
  {
   "cell_type": "code",
   "execution_count": 12,
   "id": "cac821c3",
   "metadata": {},
   "outputs": [
    {
     "data": {
      "text/plain": [
       "array(['are', 'book', 'good', 'is', 'like', 'reading', 'this', 'which',\n",
       "       'you'], dtype=object)"
      ]
     },
     "execution_count": 12,
     "metadata": {},
     "output_type": "execute_result"
    }
   ],
   "source": [
    "cv.get_feature_names_out()"
   ]
  },
  {
   "cell_type": "code",
   "execution_count": 14,
   "id": "2275e1c5",
   "metadata": {},
   "outputs": [],
   "source": [
    "df = pd.DataFrame(count.toarray(), columns=cv.get_feature_names_out())"
   ]
  },
  {
   "cell_type": "code",
   "execution_count": 15,
   "id": "3cef89e1",
   "metadata": {},
   "outputs": [
    {
     "data": {
      "text/html": [
       "<div>\n",
       "<style scoped>\n",
       "    .dataframe tbody tr th:only-of-type {\n",
       "        vertical-align: middle;\n",
       "    }\n",
       "\n",
       "    .dataframe tbody tr th {\n",
       "        vertical-align: top;\n",
       "    }\n",
       "\n",
       "    .dataframe thead th {\n",
       "        text-align: right;\n",
       "    }\n",
       "</style>\n",
       "<table border=\"1\" class=\"dataframe\">\n",
       "  <thead>\n",
       "    <tr style=\"text-align: right;\">\n",
       "      <th></th>\n",
       "      <th>are</th>\n",
       "      <th>book</th>\n",
       "      <th>good</th>\n",
       "      <th>is</th>\n",
       "      <th>like</th>\n",
       "      <th>reading</th>\n",
       "      <th>this</th>\n",
       "      <th>which</th>\n",
       "      <th>you</th>\n",
       "    </tr>\n",
       "  </thead>\n",
       "  <tbody>\n",
       "    <tr>\n",
       "      <th>0</th>\n",
       "      <td>0</td>\n",
       "      <td>1</td>\n",
       "      <td>0</td>\n",
       "      <td>0</td>\n",
       "      <td>1</td>\n",
       "      <td>1</td>\n",
       "      <td>0</td>\n",
       "      <td>0</td>\n",
       "      <td>0</td>\n",
       "    </tr>\n",
       "    <tr>\n",
       "      <th>1</th>\n",
       "      <td>1</td>\n",
       "      <td>2</td>\n",
       "      <td>1</td>\n",
       "      <td>1</td>\n",
       "      <td>0</td>\n",
       "      <td>1</td>\n",
       "      <td>1</td>\n",
       "      <td>1</td>\n",
       "      <td>1</td>\n",
       "    </tr>\n",
       "  </tbody>\n",
       "</table>\n",
       "</div>"
      ],
      "text/plain": [
       "   are  book  good  is  like  reading  this  which  you\n",
       "0    0     1     0   0     1        1     0      0    0\n",
       "1    1     2     1   1     0        1     1      1    1"
      ]
     },
     "execution_count": 15,
     "metadata": {},
     "output_type": "execute_result"
    }
   ],
   "source": [
    "df"
   ]
  },
  {
   "cell_type": "code",
   "execution_count": 26,
   "id": "c0c02c2b",
   "metadata": {},
   "outputs": [
    {
     "data": {
      "text/plain": [
       "array([[0, 1, 2, 1, 0, 1, 0, 0, 0]], dtype=int64)"
      ]
     },
     "execution_count": 26,
     "metadata": {},
     "output_type": "execute_result"
    }
   ],
   "source": [
    "val = cv.transform([\"Reading a good book is good for the brain\"]).toarray()\n",
    "val\n",
    "# The word that is not the part of vocabulary will not be considered, "
   ]
  },
  {
   "cell_type": "code",
   "execution_count": 27,
   "id": "90f6fcd8",
   "metadata": {},
   "outputs": [],
   "source": [
    "#df.loc[len(df.index)] = ['Amy', 89, 93] \n",
    "df1 = pd.DataFrame(val,columns=cv.get_feature_names_out() )"
   ]
  },
  {
   "cell_type": "code",
   "execution_count": 28,
   "id": "0fb4ae2f",
   "metadata": {},
   "outputs": [
    {
     "data": {
      "text/html": [
       "<div>\n",
       "<style scoped>\n",
       "    .dataframe tbody tr th:only-of-type {\n",
       "        vertical-align: middle;\n",
       "    }\n",
       "\n",
       "    .dataframe tbody tr th {\n",
       "        vertical-align: top;\n",
       "    }\n",
       "\n",
       "    .dataframe thead th {\n",
       "        text-align: right;\n",
       "    }\n",
       "</style>\n",
       "<table border=\"1\" class=\"dataframe\">\n",
       "  <thead>\n",
       "    <tr style=\"text-align: right;\">\n",
       "      <th></th>\n",
       "      <th>are</th>\n",
       "      <th>book</th>\n",
       "      <th>good</th>\n",
       "      <th>is</th>\n",
       "      <th>like</th>\n",
       "      <th>reading</th>\n",
       "      <th>this</th>\n",
       "      <th>which</th>\n",
       "      <th>you</th>\n",
       "    </tr>\n",
       "  </thead>\n",
       "  <tbody>\n",
       "    <tr>\n",
       "      <th>0</th>\n",
       "      <td>0</td>\n",
       "      <td>1</td>\n",
       "      <td>2</td>\n",
       "      <td>1</td>\n",
       "      <td>0</td>\n",
       "      <td>1</td>\n",
       "      <td>0</td>\n",
       "      <td>0</td>\n",
       "      <td>0</td>\n",
       "    </tr>\n",
       "  </tbody>\n",
       "</table>\n",
       "</div>"
      ],
      "text/plain": [
       "   are  book  good  is  like  reading  this  which  you\n",
       "0    0     1     2   1     0        1     0      0    0"
      ]
     },
     "execution_count": 28,
     "metadata": {},
     "output_type": "execute_result"
    }
   ],
   "source": [
    "df1"
   ]
  },
  {
   "cell_type": "code",
   "execution_count": 29,
   "id": "a7b555e1",
   "metadata": {},
   "outputs": [
    {
     "data": {
      "text/html": [
       "<div>\n",
       "<style scoped>\n",
       "    .dataframe tbody tr th:only-of-type {\n",
       "        vertical-align: middle;\n",
       "    }\n",
       "\n",
       "    .dataframe tbody tr th {\n",
       "        vertical-align: top;\n",
       "    }\n",
       "\n",
       "    .dataframe thead th {\n",
       "        text-align: right;\n",
       "    }\n",
       "</style>\n",
       "<table border=\"1\" class=\"dataframe\">\n",
       "  <thead>\n",
       "    <tr style=\"text-align: right;\">\n",
       "      <th></th>\n",
       "      <th>are</th>\n",
       "      <th>book</th>\n",
       "      <th>good</th>\n",
       "      <th>is</th>\n",
       "      <th>like</th>\n",
       "      <th>reading</th>\n",
       "      <th>this</th>\n",
       "      <th>which</th>\n",
       "      <th>you</th>\n",
       "    </tr>\n",
       "  </thead>\n",
       "  <tbody>\n",
       "    <tr>\n",
       "      <th>0</th>\n",
       "      <td>0</td>\n",
       "      <td>1</td>\n",
       "      <td>0</td>\n",
       "      <td>0</td>\n",
       "      <td>1</td>\n",
       "      <td>1</td>\n",
       "      <td>0</td>\n",
       "      <td>0</td>\n",
       "      <td>0</td>\n",
       "    </tr>\n",
       "    <tr>\n",
       "      <th>1</th>\n",
       "      <td>1</td>\n",
       "      <td>2</td>\n",
       "      <td>1</td>\n",
       "      <td>1</td>\n",
       "      <td>0</td>\n",
       "      <td>1</td>\n",
       "      <td>1</td>\n",
       "      <td>1</td>\n",
       "      <td>1</td>\n",
       "    </tr>\n",
       "    <tr>\n",
       "      <th>0</th>\n",
       "      <td>0</td>\n",
       "      <td>1</td>\n",
       "      <td>2</td>\n",
       "      <td>1</td>\n",
       "      <td>0</td>\n",
       "      <td>1</td>\n",
       "      <td>0</td>\n",
       "      <td>0</td>\n",
       "      <td>0</td>\n",
       "    </tr>\n",
       "  </tbody>\n",
       "</table>\n",
       "</div>"
      ],
      "text/plain": [
       "   are  book  good  is  like  reading  this  which  you\n",
       "0    0     1     0   0     1        1     0      0    0\n",
       "1    1     2     1   1     0        1     1      1    1\n",
       "0    0     1     2   1     0        1     0      0    0"
      ]
     },
     "execution_count": 29,
     "metadata": {},
     "output_type": "execute_result"
    }
   ],
   "source": [
    "pd.concat([df, df1])"
   ]
  },
  {
   "cell_type": "markdown",
   "id": "a494f1a9",
   "metadata": {},
   "source": [
    "- Remember Bag of words is the N grams with paramter ngram_range=(1, 1)"
   ]
  },
  {
   "cell_type": "markdown",
   "id": "d383c70d",
   "metadata": {},
   "source": [
    "# N Grams"
   ]
  },
  {
   "cell_type": "markdown",
   "id": "ab6c3167",
   "metadata": {},
   "source": [
    " - ngram_range = (2,2) - two words will be combined for the vocab\n",
    "- ngram_range = (1,2) - bith one word & two wprds will be combined "
   ]
  },
  {
   "cell_type": "code",
   "execution_count": 40,
   "id": "64f63e10",
   "metadata": {},
   "outputs": [],
   "source": [
    "# for the same example\n",
    "cv = CountVectorizer(ngram_range=(2,2))\n",
    "count = cv.fit_transform(text)"
   ]
  },
  {
   "cell_type": "code",
   "execution_count": 41,
   "id": "154a67ea",
   "metadata": {},
   "outputs": [
    {
     "data": {
      "text/plain": [
       "array([[0, 0, 0, 0, 1, 1, 0, 0, 0, 0],\n",
       "       [1, 1, 1, 1, 0, 0, 1, 1, 1, 1]], dtype=int64)"
      ]
     },
     "execution_count": 41,
     "metadata": {},
     "output_type": "execute_result"
    }
   ],
   "source": [
    "count.toarray()"
   ]
  },
  {
   "cell_type": "code",
   "execution_count": 42,
   "id": "d2cadff1",
   "metadata": {},
   "outputs": [
    {
     "data": {
      "text/plain": [
       "array(['are you', 'book are', 'good book', 'is this', 'like reading',\n",
       "       'reading book', 'reading is', 'this good', 'which book',\n",
       "       'you reading'], dtype=object)"
      ]
     },
     "execution_count": 42,
     "metadata": {},
     "output_type": "execute_result"
    }
   ],
   "source": [
    "cv.get_feature_names_out()"
   ]
  },
  {
   "cell_type": "code",
   "execution_count": 43,
   "id": "1a1475dd",
   "metadata": {},
   "outputs": [],
   "source": [
    "df = pd.DataFrame(count.toarray(), columns=cv.get_feature_names_out())"
   ]
  },
  {
   "cell_type": "code",
   "execution_count": 44,
   "id": "cd9686fd",
   "metadata": {},
   "outputs": [
    {
     "data": {
      "text/html": [
       "<div>\n",
       "<style scoped>\n",
       "    .dataframe tbody tr th:only-of-type {\n",
       "        vertical-align: middle;\n",
       "    }\n",
       "\n",
       "    .dataframe tbody tr th {\n",
       "        vertical-align: top;\n",
       "    }\n",
       "\n",
       "    .dataframe thead th {\n",
       "        text-align: right;\n",
       "    }\n",
       "</style>\n",
       "<table border=\"1\" class=\"dataframe\">\n",
       "  <thead>\n",
       "    <tr style=\"text-align: right;\">\n",
       "      <th></th>\n",
       "      <th>are you</th>\n",
       "      <th>book are</th>\n",
       "      <th>good book</th>\n",
       "      <th>is this</th>\n",
       "      <th>like reading</th>\n",
       "      <th>reading book</th>\n",
       "      <th>reading is</th>\n",
       "      <th>this good</th>\n",
       "      <th>which book</th>\n",
       "      <th>you reading</th>\n",
       "    </tr>\n",
       "  </thead>\n",
       "  <tbody>\n",
       "    <tr>\n",
       "      <th>0</th>\n",
       "      <td>0</td>\n",
       "      <td>0</td>\n",
       "      <td>0</td>\n",
       "      <td>0</td>\n",
       "      <td>1</td>\n",
       "      <td>1</td>\n",
       "      <td>0</td>\n",
       "      <td>0</td>\n",
       "      <td>0</td>\n",
       "      <td>0</td>\n",
       "    </tr>\n",
       "    <tr>\n",
       "      <th>1</th>\n",
       "      <td>1</td>\n",
       "      <td>1</td>\n",
       "      <td>1</td>\n",
       "      <td>1</td>\n",
       "      <td>0</td>\n",
       "      <td>0</td>\n",
       "      <td>1</td>\n",
       "      <td>1</td>\n",
       "      <td>1</td>\n",
       "      <td>1</td>\n",
       "    </tr>\n",
       "  </tbody>\n",
       "</table>\n",
       "</div>"
      ],
      "text/plain": [
       "   are you  book are  good book  is this  like reading  reading book  \\\n",
       "0        0         0          0        0             1             1   \n",
       "1        1         1          1        1             0             0   \n",
       "\n",
       "   reading is  this good  which book  you reading  \n",
       "0           0          0           0            0  \n",
       "1           1          1           1            1  "
      ]
     },
     "execution_count": 44,
     "metadata": {},
     "output_type": "execute_result"
    }
   ],
   "source": [
    "df"
   ]
  },
  {
   "cell_type": "markdown",
   "id": "60bdfbb2",
   "metadata": {},
   "source": [
    "# Tf-TDF\n",
    "Term Frequency(t,d) = freq. of term t in document d **/ total number of terms in document d**\n",
    "- TF - acts like a probability\n",
    "\n",
    "Inverse Document Frequency = **log**(Total no. of documents in the corpus **/ No. of documents with term t in them**)\n",
    "- IDF - Gives less wt to the common words\n",
    "- We take log so that value of idf is comparable to value of tf. Reducing hte value of idf by taking the log\n",
    "- Used in search engine to get the key word retrival\n",
    "- Sparsity, OOV, Dimension, No semantic, not capturing the meaning"
   ]
  },
  {
   "cell_type": "code",
   "execution_count": 46,
   "id": "13216250",
   "metadata": {},
   "outputs": [],
   "source": [
    "from sklearn.feature_extraction.text import TfidfVectorizer"
   ]
  },
  {
   "cell_type": "code",
   "execution_count": 50,
   "id": "11b15166",
   "metadata": {},
   "outputs": [
    {
     "data": {
      "text/plain": [
       "['I like reading book', 'Which book are you reading, is this good book']"
      ]
     },
     "execution_count": 50,
     "metadata": {},
     "output_type": "execute_result"
    }
   ],
   "source": [
    "text"
   ]
  },
  {
   "cell_type": "code",
   "execution_count": 48,
   "id": "9b4813b3",
   "metadata": {},
   "outputs": [
    {
     "data": {
      "text/plain": [
       "array([[0.        , 0.50154891, 0.        , 0.        , 0.70490949,\n",
       "        0.50154891, 0.        , 0.        , 0.        ],\n",
       "       [0.342369  , 0.48719673, 0.342369  , 0.342369  , 0.        ,\n",
       "        0.24359836, 0.342369  , 0.342369  , 0.342369  ]])"
      ]
     },
     "execution_count": 48,
     "metadata": {},
     "output_type": "execute_result"
    }
   ],
   "source": [
    "tfidf = TfidfVectorizer()\n",
    "tfidf.fit_transform(text).toarray()"
   ]
  },
  {
   "cell_type": "code",
   "execution_count": 49,
   "id": "bd1fd14a",
   "metadata": {},
   "outputs": [
    {
     "data": {
      "text/plain": [
       "(2, 9)"
      ]
     },
     "execution_count": 49,
     "metadata": {},
     "output_type": "execute_result"
    }
   ],
   "source": [
    "tfidf.fit_transform(text).toarray().shape"
   ]
  },
  {
   "cell_type": "code",
   "execution_count": 53,
   "id": "6766c585",
   "metadata": {},
   "outputs": [
    {
     "data": {
      "text/plain": [
       "array([1.40546511, 1.        , 1.40546511, 1.40546511, 1.40546511,\n",
       "       1.        , 1.40546511, 1.40546511, 1.40546511])"
      ]
     },
     "execution_count": 53,
     "metadata": {},
     "output_type": "execute_result"
    }
   ],
   "source": [
    "tfidf.idf_"
   ]
  },
  {
   "cell_type": "code",
   "execution_count": 54,
   "id": "21dd6511",
   "metadata": {},
   "outputs": [
    {
     "data": {
      "text/plain": [
       "array(['are', 'book', 'good', 'is', 'like', 'reading', 'this', 'which',\n",
       "       'you'], dtype=object)"
      ]
     },
     "execution_count": 54,
     "metadata": {},
     "output_type": "execute_result"
    }
   ],
   "source": [
    "tfidf.get_feature_names_out()"
   ]
  },
  {
   "cell_type": "code",
   "execution_count": 55,
   "id": "065033db",
   "metadata": {},
   "outputs": [
    {
     "name": "stdout",
     "output_type": "stream",
     "text": [
      "[1.40546511 1.         1.40546511 1.40546511 1.40546511 1.\n",
      " 1.40546511 1.40546511 1.40546511]\n",
      "['are' 'book' 'good' 'is' 'like' 'reading' 'this' 'which' 'you']\n"
     ]
    }
   ],
   "source": [
    "print(tfidf.idf_)\n",
    "print(tfidf.get_feature_names_out())"
   ]
  },
  {
   "cell_type": "markdown",
   "id": "0d7bb288",
   "metadata": {},
   "source": [
    "# Custom Features -\n",
    "- **Hybrid Features** Generally we use both custom features & feature technique above \n",
    "- You create your features based on your requirement or domain knowledge such as number of positive words in the document or no. of negative words or ratio or positive & negative word or word count (postive review are lengthy compared to negative)"
   ]
  },
  {
   "cell_type": "code",
   "execution_count": null,
   "id": "560a8302",
   "metadata": {},
   "outputs": [],
   "source": []
  }
 ],
 "metadata": {
  "kernelspec": {
   "display_name": "Python 3 (ipykernel)",
   "language": "python",
   "name": "python3"
  },
  "language_info": {
   "codemirror_mode": {
    "name": "ipython",
    "version": 3
   },
   "file_extension": ".py",
   "mimetype": "text/x-python",
   "name": "python",
   "nbconvert_exporter": "python",
   "pygments_lexer": "ipython3",
   "version": "3.10.9"
  }
 },
 "nbformat": 4,
 "nbformat_minor": 5
}
