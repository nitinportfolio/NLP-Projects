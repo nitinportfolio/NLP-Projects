{
 "cells": [
  {
   "cell_type": "code",
   "execution_count": 3,
   "id": "be09b2eb",
   "metadata": {},
   "outputs": [],
   "source": [
    "import numpy as np \n",
    "import pandas as pd \n",
    "import random as rn\n",
    "import re\n",
    "import nltk\n",
    "import os\n",
    "\n",
    "import matplotlib.pyplot as plt\n",
    "import seaborn as sns\n",
    "from plotly import graph_objs as go\n",
    "import plotly.express as px\n",
    "import plotly.figure_factory as ff\n",
    "\n",
    "from nltk.corpus import stopwords\n",
    "from wordcloud import WordCloud\n",
    "\n",
    "import umap # dimensionality reduction\n",
    "import hdbscan # clustering\n",
    "from functools import partial\n",
    "\n",
    "# To perform the Bayesian Optimization for searching the optimum hyperparameters, \n",
    "# we use hyperopt package:\n",
    "from hyperopt import fmin, tpe, hp, STATUS_OK, space_eval, Trials\n",
    "\n",
    "import collections\n",
    "import spacy\n",
    "from spacy import displacy\n",
    "nlp = spacy.load(\"en_core_web_sm\")\n",
    "\n",
    "import utils\n",
    "\n",
    "os.environ['TF_CPP_MIN_LOG_LEVEL'] = '3' \n",
    "\n",
    "pd.set_option(\"display.max_rows\", 600)\n",
    "pd.set_option(\"display.max_columns\", 500)\n",
    "pd.set_option(\"max_colwidth\", 400)"
   ]
  },
  {
   "cell_type": "code",
   "execution_count": 9,
   "id": "9768bb19",
   "metadata": {},
   "outputs": [
    {
     "data": {
      "text/plain": [
       "<function __main__.<lambda>(i)>"
      ]
     },
     "execution_count": 9,
     "metadata": {},
     "output_type": "execute_result"
    }
   ],
   "source": [
    "(rn.random()>0.04) and (lambda i : i>0)"
   ]
  },
  {
   "cell_type": "code",
   "execution_count": 27,
   "id": "a198cde7",
   "metadata": {},
   "outputs": [
    {
     "name": "stdout",
     "output_type": "stream",
     "text": [
      "(25436, 4)\n"
     ]
    },
    {
     "data": {
      "text/html": [
       "<div>\n",
       "<style scoped>\n",
       "    .dataframe tbody tr th:only-of-type {\n",
       "        vertical-align: middle;\n",
       "    }\n",
       "\n",
       "    .dataframe tbody tr th {\n",
       "        vertical-align: top;\n",
       "    }\n",
       "\n",
       "    .dataframe thead th {\n",
       "        text-align: right;\n",
       "    }\n",
       "</style>\n",
       "<table border=\"1\" class=\"dataframe\">\n",
       "  <thead>\n",
       "    <tr style=\"text-align: right;\">\n",
       "      <th></th>\n",
       "      <th>0</th>\n",
       "      <th>1</th>\n",
       "      <th>2</th>\n",
       "      <th>3</th>\n",
       "    </tr>\n",
       "  </thead>\n",
       "  <tbody>\n",
       "    <tr>\n",
       "      <th>0</th>\n",
       "      <td>10</td>\n",
       "      <td>Ruined my life.</td>\n",
       "      <td>1</td>\n",
       "      <td>0</td>\n",
       "    </tr>\n",
       "    <tr>\n",
       "      <th>1</th>\n",
       "      <td>10</td>\n",
       "      <td>Think you got skills because you came from CS:GO?  Think you got skills cause you came from COD?  Think you got skills cause you just bought fallout 4 and still got money left on your steam account?   Well let me tell you a story.         You're going to suck ♥♥♥.       Alot of ♥♥♥.</td>\n",
       "      <td>1</td>\n",
       "      <td>1</td>\n",
       "    </tr>\n",
       "    <tr>\n",
       "      <th>2</th>\n",
       "      <td>10</td>\n",
       "      <td>(I've deleted all the comments on this because I wanted to give a serious review about this game and delete my older one, so here ya go)  This is the older Counter-Strike as most people know it. Some people usually don't find enjoyment in playing it due to it being either 'out-dated' or 'glitchy'. I personally tend to enjoy this game from time to time because it's an original game made from th...</td>\n",
       "      <td>1</td>\n",
       "      <td>0</td>\n",
       "    </tr>\n",
       "    <tr>\n",
       "      <th>3</th>\n",
       "      <td>10</td>\n",
       "      <td>Game will be played forever</td>\n",
       "      <td>1</td>\n",
       "      <td>0</td>\n",
       "    </tr>\n",
       "    <tr>\n",
       "      <th>4</th>\n",
       "      <td>10</td>\n",
       "      <td>i can't stop playing :D</td>\n",
       "      <td>1</td>\n",
       "      <td>0</td>\n",
       "    </tr>\n",
       "  </tbody>\n",
       "</table>\n",
       "</div>"
      ],
      "text/plain": [
       "    0  \\\n",
       "0  10   \n",
       "1  10   \n",
       "2  10   \n",
       "3  10   \n",
       "4  10   \n",
       "\n",
       "                                                                                                                                                                                                                                                                                                                                                                                                                 1  \\\n",
       "0                                                                                                                                                                                                                                                                                                                                                                                                  Ruined my life.   \n",
       "1                                                                                                                      Think you got skills because you came from CS:GO?  Think you got skills cause you came from COD?  Think you got skills cause you just bought fallout 4 and still got money left on your steam account?   Well let me tell you a story.         You're going to suck ♥♥♥.       Alot of ♥♥♥.   \n",
       "2  (I've deleted all the comments on this because I wanted to give a serious review about this game and delete my older one, so here ya go)  This is the older Counter-Strike as most people know it. Some people usually don't find enjoyment in playing it due to it being either 'out-dated' or 'glitchy'. I personally tend to enjoy this game from time to time because it's an original game made from th...   \n",
       "3                                                                                                                                                                                                                                                                                                                                                                                      Game will be played forever   \n",
       "4                                                                                                                                                                                                                                                                                                                                                                                          i can't stop playing :D   \n",
       "\n",
       "   2  3  \n",
       "0  1  0  \n",
       "1  1  1  \n",
       "2  1  0  \n",
       "3  1  0  \n",
       "4  1  0  "
      ]
     },
     "metadata": {},
     "output_type": "display_data"
    }
   ],
   "source": [
    "rn.seed(a=42)\n",
    "\n",
    "p = 0.004  # to randomly select 0.4% of the rows dataset is large\n",
    "\n",
    "df_reviews = pd.read_csv(\"../largedata/steam.csv\", skiprows=lambda i: i>0 and rn.random() > p, header=None)\n",
    "\n",
    "# size of dataframe\n",
    "print(df_reviews.shape)\n",
    "# display the head of data\n",
    "display(df_reviews.head())"
   ]
  },
  {
   "cell_type": "code",
   "execution_count": 16,
   "id": "7aba4a48",
   "metadata": {},
   "outputs": [
    {
     "data": {
      "text/plain": [
       "0.36756528879936134"
      ]
     },
     "execution_count": 16,
     "metadata": {},
     "output_type": "execute_result"
    }
   ],
   "source": [
    "rn.random()"
   ]
  },
  {
   "cell_type": "code",
   "execution_count": 13,
   "id": "36f1f979",
   "metadata": {},
   "outputs": [
    {
     "name": "stdout",
     "output_type": "stream",
     "text": [
      "Help on built-in function random:\n",
      "\n",
      "random() method of random.Random instance\n",
      "    random() -> x in the interval [0, 1).\n",
      "\n"
     ]
    }
   ],
   "source": [
    "help(rn.random)"
   ]
  },
  {
   "cell_type": "code",
   "execution_count": 29,
   "id": "8ad09987",
   "metadata": {},
   "outputs": [],
   "source": [
    "df_reviews.columns = [\"app_id\",\"review_text\",\"review_score\",\"review_votes\"]"
   ]
  },
  {
   "cell_type": "code",
   "execution_count": 30,
   "id": "afaeba53",
   "metadata": {},
   "outputs": [
    {
     "data": {
      "text/html": [
       "<div>\n",
       "<style scoped>\n",
       "    .dataframe tbody tr th:only-of-type {\n",
       "        vertical-align: middle;\n",
       "    }\n",
       "\n",
       "    .dataframe tbody tr th {\n",
       "        vertical-align: top;\n",
       "    }\n",
       "\n",
       "    .dataframe thead th {\n",
       "        text-align: right;\n",
       "    }\n",
       "</style>\n",
       "<table border=\"1\" class=\"dataframe\">\n",
       "  <thead>\n",
       "    <tr style=\"text-align: right;\">\n",
       "      <th></th>\n",
       "      <th>app_id</th>\n",
       "      <th>review_text</th>\n",
       "      <th>review_score</th>\n",
       "      <th>review_votes</th>\n",
       "    </tr>\n",
       "  </thead>\n",
       "  <tbody>\n",
       "    <tr>\n",
       "      <th>0</th>\n",
       "      <td>10</td>\n",
       "      <td>Ruined my life.</td>\n",
       "      <td>1</td>\n",
       "      <td>0</td>\n",
       "    </tr>\n",
       "    <tr>\n",
       "      <th>1</th>\n",
       "      <td>10</td>\n",
       "      <td>Think you got skills because you came from CS:GO?  Think you got skills cause you came from COD?  Think you got skills cause you just bought fallout 4 and still got money left on your steam account?   Well let me tell you a story.         You're going to suck ♥♥♥.       Alot of ♥♥♥.</td>\n",
       "      <td>1</td>\n",
       "      <td>1</td>\n",
       "    </tr>\n",
       "    <tr>\n",
       "      <th>2</th>\n",
       "      <td>10</td>\n",
       "      <td>(I've deleted all the comments on this because I wanted to give a serious review about this game and delete my older one, so here ya go)  This is the older Counter-Strike as most people know it. Some people usually don't find enjoyment in playing it due to it being either 'out-dated' or 'glitchy'. I personally tend to enjoy this game from time to time because it's an original game made from th...</td>\n",
       "      <td>1</td>\n",
       "      <td>0</td>\n",
       "    </tr>\n",
       "    <tr>\n",
       "      <th>3</th>\n",
       "      <td>10</td>\n",
       "      <td>Game will be played forever</td>\n",
       "      <td>1</td>\n",
       "      <td>0</td>\n",
       "    </tr>\n",
       "    <tr>\n",
       "      <th>4</th>\n",
       "      <td>10</td>\n",
       "      <td>i can't stop playing :D</td>\n",
       "      <td>1</td>\n",
       "      <td>0</td>\n",
       "    </tr>\n",
       "  </tbody>\n",
       "</table>\n",
       "</div>"
      ],
      "text/plain": [
       "   app_id  \\\n",
       "0      10   \n",
       "1      10   \n",
       "2      10   \n",
       "3      10   \n",
       "4      10   \n",
       "\n",
       "                                                                                                                                                                                                                                                                                                                                                                                                       review_text  \\\n",
       "0                                                                                                                                                                                                                                                                                                                                                                                                  Ruined my life.   \n",
       "1                                                                                                                      Think you got skills because you came from CS:GO?  Think you got skills cause you came from COD?  Think you got skills cause you just bought fallout 4 and still got money left on your steam account?   Well let me tell you a story.         You're going to suck ♥♥♥.       Alot of ♥♥♥.   \n",
       "2  (I've deleted all the comments on this because I wanted to give a serious review about this game and delete my older one, so here ya go)  This is the older Counter-Strike as most people know it. Some people usually don't find enjoyment in playing it due to it being either 'out-dated' or 'glitchy'. I personally tend to enjoy this game from time to time because it's an original game made from th...   \n",
       "3                                                                                                                                                                                                                                                                                                                                                                                      Game will be played forever   \n",
       "4                                                                                                                                                                                                                                                                                                                                                                                          i can't stop playing :D   \n",
       "\n",
       "   review_score  review_votes  \n",
       "0             1             0  \n",
       "1             1             1  \n",
       "2             1             0  \n",
       "3             1             0  \n",
       "4             1             0  "
      ]
     },
     "execution_count": 30,
     "metadata": {},
     "output_type": "execute_result"
    }
   ],
   "source": [
    "df_reviews.head()"
   ]
  },
  {
   "cell_type": "code",
   "execution_count": 31,
   "id": "9740f564",
   "metadata": {},
   "outputs": [
    {
     "data": {
      "text/plain": [
       "<Axes: xlabel='review_score', ylabel='count'>"
      ]
     },
     "execution_count": 31,
     "metadata": {},
     "output_type": "execute_result"
    },
    {
     "data": {
      "image/png": "[encoded data removed]",
      "text/plain": [
       "<Figure size 640x480 with 1 Axes>"
      ]
     },
     "metadata": {},
     "output_type": "display_data"
    }
   ],
   "source": [
    "sns.countplot(x = \"review_score\", data = df_reviews)"
   ]
  },
  {
   "cell_type": "code",
   "execution_count": 32,
   "id": "2b0c483f",
   "metadata": {},
   "outputs": [
    {
     "data": {
      "text/plain": [
       "review_score\n",
       " 1    20799\n",
       "-1     4637\n",
       "Name: count, dtype: int64"
      ]
     },
     "execution_count": 32,
     "metadata": {},
     "output_type": "execute_result"
    }
   ],
   "source": [
    "df_reviews[\"review_score\"].value_counts()"
   ]
  },
  {
   "cell_type": "code",
   "execution_count": 34,
   "id": "c3f7156d",
   "metadata": {},
   "outputs": [
    {
     "data": {
      "text/plain": [
       "app_id           int64\n",
       "review_text     object\n",
       "review_score     int64\n",
       "review_votes     int64\n",
       "dtype: object"
      ]
     },
     "execution_count": 34,
     "metadata": {},
     "output_type": "execute_result"
    }
   ],
   "source": [
    "df_reviews.dtypes"
   ]
  },
  {
   "cell_type": "code",
   "execution_count": 35,
   "id": "934cd7fa",
   "metadata": {},
   "outputs": [],
   "source": [
    "# Flushing df data from RAM\n",
    "#del df"
   ]
  },
  {
   "cell_type": "code",
   "execution_count": 36,
   "id": "7c118762",
   "metadata": {},
   "outputs": [],
   "source": [
    "df_reviews['review_text'] = df_reviews['review_text'].astype(str)\n",
    "df_reviews['review_votes'] = df_reviews['review_votes'].astype(str)"
   ]
  },
  {
   "cell_type": "code",
   "execution_count": 37,
   "id": "60803d17",
   "metadata": {},
   "outputs": [
    {
     "data": {
      "text/plain": [
       "app_id           int64\n",
       "review_text     object\n",
       "review_score     int64\n",
       "review_votes    object\n",
       "dtype: object"
      ]
     },
     "execution_count": 37,
     "metadata": {},
     "output_type": "execute_result"
    }
   ],
   "source": [
    "df_reviews.dtypes"
   ]
  },
  {
   "cell_type": "code",
   "execution_count": 38,
   "id": "408df71e",
   "metadata": {},
   "outputs": [
    {
     "data": {
      "text/html": [
       "<div>\n",
       "<style scoped>\n",
       "    .dataframe tbody tr th:only-of-type {\n",
       "        vertical-align: middle;\n",
       "    }\n",
       "\n",
       "    .dataframe tbody tr th {\n",
       "        vertical-align: top;\n",
       "    }\n",
       "\n",
       "    .dataframe thead th {\n",
       "        text-align: right;\n",
       "    }\n",
       "</style>\n",
       "<table border=\"1\" class=\"dataframe\">\n",
       "  <thead>\n",
       "    <tr style=\"text-align: right;\">\n",
       "      <th></th>\n",
       "      <th>app_id</th>\n",
       "      <th>review_text</th>\n",
       "      <th>review_score</th>\n",
       "      <th>review_votes</th>\n",
       "    </tr>\n",
       "  </thead>\n",
       "  <tbody>\n",
       "    <tr>\n",
       "      <th>0</th>\n",
       "      <td>10</td>\n",
       "      <td>Ruined my life.</td>\n",
       "      <td>1</td>\n",
       "      <td>0</td>\n",
       "    </tr>\n",
       "    <tr>\n",
       "      <th>1</th>\n",
       "      <td>10</td>\n",
       "      <td>Think you got skills because you came from CS:GO?  Think you got skills cause you came from COD?  Think you got skills cause you just bought fallout 4 and still got money left on your steam account?   Well let me tell you a story.         You're going to suck ♥♥♥.       Alot of ♥♥♥.</td>\n",
       "      <td>1</td>\n",
       "      <td>1</td>\n",
       "    </tr>\n",
       "    <tr>\n",
       "      <th>2</th>\n",
       "      <td>10</td>\n",
       "      <td>(I've deleted all the comments on this because I wanted to give a serious review about this game and delete my older one, so here ya go)  This is the older Counter-Strike as most people know it. Some people usually don't find enjoyment in playing it due to it being either 'out-dated' or 'glitchy'. I personally tend to enjoy this game from time to time because it's an original game made from th...</td>\n",
       "      <td>1</td>\n",
       "      <td>0</td>\n",
       "    </tr>\n",
       "    <tr>\n",
       "      <th>3</th>\n",
       "      <td>10</td>\n",
       "      <td>Game will be played forever</td>\n",
       "      <td>1</td>\n",
       "      <td>0</td>\n",
       "    </tr>\n",
       "    <tr>\n",
       "      <th>4</th>\n",
       "      <td>10</td>\n",
       "      <td>i can't stop playing :D</td>\n",
       "      <td>1</td>\n",
       "      <td>0</td>\n",
       "    </tr>\n",
       "  </tbody>\n",
       "</table>\n",
       "</div>"
      ],
      "text/plain": [
       "   app_id  \\\n",
       "0      10   \n",
       "1      10   \n",
       "2      10   \n",
       "3      10   \n",
       "4      10   \n",
       "\n",
       "                                                                                                                                                                                                                                                                                                                                                                                                       review_text  \\\n",
       "0                                                                                                                                                                                                                                                                                                                                                                                                  Ruined my life.   \n",
       "1                                                                                                                      Think you got skills because you came from CS:GO?  Think you got skills cause you came from COD?  Think you got skills cause you just bought fallout 4 and still got money left on your steam account?   Well let me tell you a story.         You're going to suck ♥♥♥.       Alot of ♥♥♥.   \n",
       "2  (I've deleted all the comments on this because I wanted to give a serious review about this game and delete my older one, so here ya go)  This is the older Counter-Strike as most people know it. Some people usually don't find enjoyment in playing it due to it being either 'out-dated' or 'glitchy'. I personally tend to enjoy this game from time to time because it's an original game made from th...   \n",
       "3                                                                                                                                                                                                                                                                                                                                                                                      Game will be played forever   \n",
       "4                                                                                                                                                                                                                                                                                                                                                                                          i can't stop playing :D   \n",
       "\n",
       "   review_score review_votes  \n",
       "0             1            0  \n",
       "1             1            1  \n",
       "2             1            0  \n",
       "3             1            0  \n",
       "4             1            0  "
      ]
     },
     "execution_count": 38,
     "metadata": {},
     "output_type": "execute_result"
    }
   ],
   "source": [
    "df_reviews.head()"
   ]
  },
  {
   "cell_type": "code",
   "execution_count": 48,
   "id": "fac80a13",
   "metadata": {},
   "outputs": [
    {
     "data": {
      "text/html": [
       "<div>\n",
       "<style scoped>\n",
       "    .dataframe tbody tr th:only-of-type {\n",
       "        vertical-align: middle;\n",
       "    }\n",
       "\n",
       "    .dataframe tbody tr th {\n",
       "        vertical-align: top;\n",
       "    }\n",
       "\n",
       "    .dataframe thead th {\n",
       "        text-align: right;\n",
       "    }\n",
       "</style>\n",
       "<table border=\"1\" class=\"dataframe\">\n",
       "  <thead>\n",
       "    <tr style=\"text-align: right;\">\n",
       "      <th></th>\n",
       "      <th>app_id</th>\n",
       "      <th>review_text</th>\n",
       "      <th>review_score</th>\n",
       "      <th>review_votes</th>\n",
       "    </tr>\n",
       "  </thead>\n",
       "  <tbody>\n",
       "    <tr>\n",
       "      <th>0</th>\n",
       "      <td>10</td>\n",
       "      <td>Ruined my life.</td>\n",
       "      <td>1</td>\n",
       "      <td>0</td>\n",
       "    </tr>\n",
       "    <tr>\n",
       "      <th>1</th>\n",
       "      <td>10</td>\n",
       "      <td>Think you got skills because you came from CS:GO?  Think you got skills cause you came from COD?  Think you got skills cause you just bought fallout 4 and still got money left on your steam account?   Well let me tell you a story.         You're going to suck ♥♥♥.       Alot of ♥♥♥.</td>\n",
       "      <td>1</td>\n",
       "      <td>1</td>\n",
       "    </tr>\n",
       "    <tr>\n",
       "      <th>2</th>\n",
       "      <td>10</td>\n",
       "      <td>(I've deleted all the comments on this because I wanted to give a serious review about this game and delete my older one, so here ya go)  This is the older Counter-Strike as most people know it. Some people usually don't find enjoyment in playing it due to it being either 'out-dated' or 'glitchy'. I personally tend to enjoy this game from time to time because it's an original game made from th...</td>\n",
       "      <td>1</td>\n",
       "      <td>0</td>\n",
       "    </tr>\n",
       "    <tr>\n",
       "      <th>3</th>\n",
       "      <td>10</td>\n",
       "      <td>Game will be played forever</td>\n",
       "      <td>1</td>\n",
       "      <td>0</td>\n",
       "    </tr>\n",
       "    <tr>\n",
       "      <th>4</th>\n",
       "      <td>10</td>\n",
       "      <td>i can't stop playing :D</td>\n",
       "      <td>1</td>\n",
       "      <td>0</td>\n",
       "    </tr>\n",
       "  </tbody>\n",
       "</table>\n",
       "</div>"
      ],
      "text/plain": [
       "   app_id  \\\n",
       "0      10   \n",
       "1      10   \n",
       "2      10   \n",
       "3      10   \n",
       "4      10   \n",
       "\n",
       "                                                                                                                                                                                                                                                                                                                                                                                                       review_text  \\\n",
       "0                                                                                                                                                                                                                                                                                                                                                                                                  Ruined my life.   \n",
       "1                                                                                                                      Think you got skills because you came from CS:GO?  Think you got skills cause you came from COD?  Think you got skills cause you just bought fallout 4 and still got money left on your steam account?   Well let me tell you a story.         You're going to suck ♥♥♥.       Alot of ♥♥♥.   \n",
       "2  (I've deleted all the comments on this because I wanted to give a serious review about this game and delete my older one, so here ya go)  This is the older Counter-Strike as most people know it. Some people usually don't find enjoyment in playing it due to it being either 'out-dated' or 'glitchy'. I personally tend to enjoy this game from time to time because it's an original game made from th...   \n",
       "3                                                                                                                                                                                                                                                                                                                                                                                      Game will be played forever   \n",
       "4                                                                                                                                                                                                                                                                                                                                                                                          i can't stop playing :D   \n",
       "\n",
       "   review_score review_votes  \n",
       "0             1            0  \n",
       "1             1            1  \n",
       "2             1            0  \n",
       "3             1            0  \n",
       "4             1            0  "
      ]
     },
     "execution_count": 48,
     "metadata": {},
     "output_type": "execute_result"
    }
   ],
   "source": [
    "# Return a copy of the string with leading and trailing whitespace removed.\n",
    "df_reviews[\"review_text\"] = df_reviews[\"review_text\"].apply(lambda s : s.strip())\n",
    "\n",
    "df_reviews_2 = df_reviews[df_reviews['review_score'].notnull()]\n",
    "\n",
    "df_reviews_2['review_score'] = np.where(df_reviews_2['review_score'] == -1, 0, df_reviews_2['review_score'])\n",
    "\n",
    "df_reviews_2.head()"
   ]
  },
  {
   "cell_type": "code",
   "execution_count": 47,
   "id": "5abed561",
   "metadata": {},
   "outputs": [
    {
     "data": {
      "text/html": [
       "<div>\n",
       "<style scoped>\n",
       "    .dataframe tbody tr th:only-of-type {\n",
       "        vertical-align: middle;\n",
       "    }\n",
       "\n",
       "    .dataframe tbody tr th {\n",
       "        vertical-align: top;\n",
       "    }\n",
       "\n",
       "    .dataframe thead th {\n",
       "        text-align: right;\n",
       "    }\n",
       "</style>\n",
       "<table border=\"1\" class=\"dataframe\">\n",
       "  <thead>\n",
       "    <tr style=\"text-align: right;\">\n",
       "      <th></th>\n",
       "      <th>app_id</th>\n",
       "      <th>review_text</th>\n",
       "      <th>review_score</th>\n",
       "      <th>review_votes</th>\n",
       "    </tr>\n",
       "  </thead>\n",
       "  <tbody>\n",
       "  </tbody>\n",
       "</table>\n",
       "</div>"
      ],
      "text/plain": [
       "Empty DataFrame\n",
       "Columns: [app_id, review_text, review_score, review_votes]\n",
       "Index: []"
      ]
     },
     "execution_count": 47,
     "metadata": {},
     "output_type": "execute_result"
    }
   ],
   "source": [
    "df_reviews[df_reviews['review_score'].isnull()]"
   ]
  },
  {
   "cell_type": "markdown",
   "id": "dc509895",
   "metadata": {},
   "source": [
    "# WordCloud"
   ]
  },
  {
   "cell_type": "code",
   "execution_count": 49,
   "id": "dfdf0547",
   "metadata": {},
   "outputs": [
    {
     "data": {
      "image/png": "[encoded data removed]",
      "text/plain": [
       "<Figure size 1500x800 with 1 Axes>"
      ]
     },
     "metadata": {},
     "output_type": "display_data"
    }
   ],
   "source": [
    "# concatinating the text for wordcloud\n",
    "\n",
    "txt = ' '.join(rev for rev in df_reviews_2.review_text )\n",
    "\n",
    "plt.figure(figsize=(15, 8))\n",
    "\n",
    "wordcloud = WordCloud(\n",
    "    background_color='black',\n",
    "    max_font_size=100,\n",
    "    max_words=100, \n",
    "    width=1000, \n",
    "    height=700\n",
    ").generate(txt)\n",
    "\n",
    "plt.imshow(wordcloud, interpolation='bilinear')\n",
    "\n",
    "plt.axis('off')\n",
    "\n",
    "plt.show()"
   ]
  },
  {
   "cell_type": "code",
   "execution_count": 51,
   "id": "b4c6c514",
   "metadata": {},
   "outputs": [
    {
     "data": {
      "text/html": [
       "<div>\n",
       "<style scoped>\n",
       "    .dataframe tbody tr th:only-of-type {\n",
       "        vertical-align: middle;\n",
       "    }\n",
       "\n",
       "    .dataframe tbody tr th {\n",
       "        vertical-align: top;\n",
       "    }\n",
       "\n",
       "    .dataframe thead th {\n",
       "        text-align: right;\n",
       "    }\n",
       "</style>\n",
       "<table border=\"1\" class=\"dataframe\">\n",
       "  <thead>\n",
       "    <tr style=\"text-align: right;\">\n",
       "      <th></th>\n",
       "      <th>app_id</th>\n",
       "      <th>review_text</th>\n",
       "      <th>review_score</th>\n",
       "      <th>review_votes</th>\n",
       "    </tr>\n",
       "  </thead>\n",
       "  <tbody>\n",
       "    <tr>\n",
       "      <th>820</th>\n",
       "      <td>108600</td>\n",
       "      <td>Early Access Review</td>\n",
       "      <td>0</td>\n",
       "      <td>1</td>\n",
       "    </tr>\n",
       "    <tr>\n",
       "      <th>821</th>\n",
       "      <td>108600</td>\n",
       "      <td>Early Access Review</td>\n",
       "      <td>1</td>\n",
       "      <td>0</td>\n",
       "    </tr>\n",
       "    <tr>\n",
       "      <th>822</th>\n",
       "      <td>108600</td>\n",
       "      <td>Early Access Review</td>\n",
       "      <td>1</td>\n",
       "      <td>0</td>\n",
       "    </tr>\n",
       "    <tr>\n",
       "      <th>823</th>\n",
       "      <td>108600</td>\n",
       "      <td>Early Access Review</td>\n",
       "      <td>1</td>\n",
       "      <td>0</td>\n",
       "    </tr>\n",
       "    <tr>\n",
       "      <th>824</th>\n",
       "      <td>108600</td>\n",
       "      <td>Early Access Review</td>\n",
       "      <td>1</td>\n",
       "      <td>0</td>\n",
       "    </tr>\n",
       "    <tr>\n",
       "      <th>...</th>\n",
       "      <td>...</td>\n",
       "      <td>...</td>\n",
       "      <td>...</td>\n",
       "      <td>...</td>\n",
       "    </tr>\n",
       "    <tr>\n",
       "      <th>23565</th>\n",
       "      <td>538100</td>\n",
       "      <td>Early Access Review</td>\n",
       "      <td>1</td>\n",
       "      <td>0</td>\n",
       "    </tr>\n",
       "    <tr>\n",
       "      <th>23573</th>\n",
       "      <td>544840</td>\n",
       "      <td>Early Access Review</td>\n",
       "      <td>1</td>\n",
       "      <td>1</td>\n",
       "    </tr>\n",
       "    <tr>\n",
       "      <th>23574</th>\n",
       "      <td>545050</td>\n",
       "      <td>Early Access Review</td>\n",
       "      <td>1</td>\n",
       "      <td>1</td>\n",
       "    </tr>\n",
       "    <tr>\n",
       "      <th>23575</th>\n",
       "      <td>545050</td>\n",
       "      <td>Early Access Review</td>\n",
       "      <td>1</td>\n",
       "      <td>0</td>\n",
       "    </tr>\n",
       "    <tr>\n",
       "      <th>23829</th>\n",
       "      <td>556340</td>\n",
       "      <td>Early Access Review</td>\n",
       "      <td>1</td>\n",
       "      <td>0</td>\n",
       "    </tr>\n",
       "  </tbody>\n",
       "</table>\n",
       "<p>3972 rows × 4 columns</p>\n",
       "</div>"
      ],
      "text/plain": [
       "       app_id          review_text  review_score review_votes\n",
       "820    108600  Early Access Review             0            1\n",
       "821    108600  Early Access Review             1            0\n",
       "822    108600  Early Access Review             1            0\n",
       "823    108600  Early Access Review             1            0\n",
       "824    108600  Early Access Review             1            0\n",
       "...       ...                  ...           ...          ...\n",
       "23565  538100  Early Access Review             1            0\n",
       "23573  544840  Early Access Review             1            1\n",
       "23574  545050  Early Access Review             1            1\n",
       "23575  545050  Early Access Review             1            0\n",
       "23829  556340  Early Access Review             1            0\n",
       "\n",
       "[3972 rows x 4 columns]"
      ]
     },
     "execution_count": 51,
     "metadata": {},
     "output_type": "execute_result"
    }
   ],
   "source": [
    "# THere are many text that has same text that is Early Access Review more of a hard coded text\n",
    "df_reviews_2[df_reviews_2.review_text == 'Early Access Review']"
   ]
  },
  {
   "cell_type": "code",
   "execution_count": 52,
   "id": "ef6fe248",
   "metadata": {},
   "outputs": [
    {
     "data": {
      "text/html": [
       "<div>\n",
       "<style scoped>\n",
       "    .dataframe tbody tr th:only-of-type {\n",
       "        vertical-align: middle;\n",
       "    }\n",
       "\n",
       "    .dataframe tbody tr th {\n",
       "        vertical-align: top;\n",
       "    }\n",
       "\n",
       "    .dataframe thead th {\n",
       "        text-align: right;\n",
       "    }\n",
       "</style>\n",
       "<table border=\"1\" class=\"dataframe\">\n",
       "  <thead>\n",
       "    <tr style=\"text-align: right;\">\n",
       "      <th></th>\n",
       "      <th>app_id</th>\n",
       "      <th>review_text</th>\n",
       "      <th>review_score</th>\n",
       "      <th>review_votes</th>\n",
       "    </tr>\n",
       "  </thead>\n",
       "  <tbody>\n",
       "    <tr>\n",
       "      <th>0</th>\n",
       "      <td>10</td>\n",
       "      <td>Ruined my life.</td>\n",
       "      <td>1</td>\n",
       "      <td>0</td>\n",
       "    </tr>\n",
       "    <tr>\n",
       "      <th>1</th>\n",
       "      <td>10</td>\n",
       "      <td>Think you got skills because you came from CS:GO?  Think you got skills cause you came from COD?  Think you got skills cause you just bought fallout 4 and still got money left on your steam account?   Well let me tell you a story.         You're going to suck ♥♥♥.       Alot of ♥♥♥.</td>\n",
       "      <td>1</td>\n",
       "      <td>1</td>\n",
       "    </tr>\n",
       "    <tr>\n",
       "      <th>2</th>\n",
       "      <td>10</td>\n",
       "      <td>(I've deleted all the comments on this because I wanted to give a serious review about this game and delete my older one, so here ya go)  This is the older Counter-Strike as most people know it. Some people usually don't find enjoyment in playing it due to it being either 'out-dated' or 'glitchy'. I personally tend to enjoy this game from time to time because it's an original game made from th...</td>\n",
       "      <td>1</td>\n",
       "      <td>0</td>\n",
       "    </tr>\n",
       "    <tr>\n",
       "      <th>3</th>\n",
       "      <td>10</td>\n",
       "      <td>Game will be played forever</td>\n",
       "      <td>1</td>\n",
       "      <td>0</td>\n",
       "    </tr>\n",
       "    <tr>\n",
       "      <th>4</th>\n",
       "      <td>10</td>\n",
       "      <td>i can't stop playing :D</td>\n",
       "      <td>1</td>\n",
       "      <td>0</td>\n",
       "    </tr>\n",
       "    <tr>\n",
       "      <th>...</th>\n",
       "      <td>...</td>\n",
       "      <td>...</td>\n",
       "      <td>...</td>\n",
       "      <td>...</td>\n",
       "    </tr>\n",
       "    <tr>\n",
       "      <th>25431</th>\n",
       "      <td>99810</td>\n",
       "      <td>Hilarious game with great gameplay</td>\n",
       "      <td>1</td>\n",
       "      <td>0</td>\n",
       "    </tr>\n",
       "    <tr>\n",
       "      <th>25432</th>\n",
       "      <td>99810</td>\n",
       "      <td>I guess manually updating GFWL makes me a computer genuis or something.</td>\n",
       "      <td>1</td>\n",
       "      <td>0</td>\n",
       "    </tr>\n",
       "    <tr>\n",
       "      <th>25433</th>\n",
       "      <td>99910</td>\n",
       "      <td>nice game to play</td>\n",
       "      <td>1</td>\n",
       "      <td>0</td>\n",
       "    </tr>\n",
       "    <tr>\n",
       "      <th>25434</th>\n",
       "      <td>99910</td>\n",
       "      <td>This was my favorite game when the game was still building up 10ish years ago. The game now shows many signs of being dated and is no longer receiving regular content updates. The people running the game are recycling ideas month after month and are still running events that were popular when I first started. The game could use a major refresh and I hope to see this game become great once again.</td>\n",
       "      <td>0</td>\n",
       "      <td>0</td>\n",
       "    </tr>\n",
       "    <tr>\n",
       "      <th>25435</th>\n",
       "      <td>99910</td>\n",
       "      <td>I know I am not the first person to complain about how responding in kind to an offensive statement from a bully will allow them to complain about you, getting your account suspended while they carry on to their next victum. YPP has a an awful habit of punishing the wrong people. I have played this game since the beggining but I think this game is done. There is not enough people playing this ...</td>\n",
       "      <td>0</td>\n",
       "      <td>0</td>\n",
       "    </tr>\n",
       "  </tbody>\n",
       "</table>\n",
       "<p>25394 rows × 4 columns</p>\n",
       "</div>"
      ],
      "text/plain": [
       "       app_id  \\\n",
       "0          10   \n",
       "1          10   \n",
       "2          10   \n",
       "3          10   \n",
       "4          10   \n",
       "...       ...   \n",
       "25431   99810   \n",
       "25432   99810   \n",
       "25433   99910   \n",
       "25434   99910   \n",
       "25435   99910   \n",
       "\n",
       "                                                                                                                                                                                                                                                                                                                                                                                                           review_text  \\\n",
       "0                                                                                                                                                                                                                                                                                                                                                                                                      Ruined my life.   \n",
       "1                                                                                                                          Think you got skills because you came from CS:GO?  Think you got skills cause you came from COD?  Think you got skills cause you just bought fallout 4 and still got money left on your steam account?   Well let me tell you a story.         You're going to suck ♥♥♥.       Alot of ♥♥♥.   \n",
       "2      (I've deleted all the comments on this because I wanted to give a serious review about this game and delete my older one, so here ya go)  This is the older Counter-Strike as most people know it. Some people usually don't find enjoyment in playing it due to it being either 'out-dated' or 'glitchy'. I personally tend to enjoy this game from time to time because it's an original game made from th...   \n",
       "3                                                                                                                                                                                                                                                                                                                                                                                          Game will be played forever   \n",
       "4                                                                                                                                                                                                                                                                                                                                                                                              i can't stop playing :D   \n",
       "...                                                                                                                                                                                                                                                                                                                                                                                                                ...   \n",
       "25431                                                                                                                                                                                                                                                                                                                                                                               Hilarious game with great gameplay   \n",
       "25432                                                                                                                                                                                                                                                                                                                                          I guess manually updating GFWL makes me a computer genuis or something.   \n",
       "25433                                                                                                                                                                                                                                                                                                                                                                                                nice game to play   \n",
       "25434   This was my favorite game when the game was still building up 10ish years ago. The game now shows many signs of being dated and is no longer receiving regular content updates. The people running the game are recycling ideas month after month and are still running events that were popular when I first started. The game could use a major refresh and I hope to see this game become great once again.   \n",
       "25435  I know I am not the first person to complain about how responding in kind to an offensive statement from a bully will allow them to complain about you, getting your account suspended while they carry on to their next victum. YPP has a an awful habit of punishing the wrong people. I have played this game since the beggining but I think this game is done. There is not enough people playing this ...   \n",
       "\n",
       "       review_score review_votes  \n",
       "0                 1            0  \n",
       "1                 1            1  \n",
       "2                 1            0  \n",
       "3                 1            0  \n",
       "4                 1            0  \n",
       "...             ...          ...  \n",
       "25431             1            0  \n",
       "25432             1            0  \n",
       "25433             1            0  \n",
       "25434             0            0  \n",
       "25435             0            0  \n",
       "\n",
       "[25394 rows x 4 columns]"
      ]
     },
     "execution_count": 52,
     "metadata": {},
     "output_type": "execute_result"
    }
   ],
   "source": [
    "# reviews that are not nan\n",
    "df_reviews_2[~df_reviews_2.review_text.isin(['nan'])]"
   ]
  },
  {
   "cell_type": "code",
   "execution_count": 53,
   "id": "e9f07183",
   "metadata": {},
   "outputs": [
    {
     "data": {
      "text/plain": [
       "0"
      ]
     },
     "execution_count": 53,
     "metadata": {},
     "output_type": "execute_result"
    }
   ],
   "source": [
    "df_reviews_2.review_text.isna().sum()"
   ]
  },
  {
   "cell_type": "code",
   "execution_count": 54,
   "id": "2c48b025",
   "metadata": {},
   "outputs": [
    {
     "name": "stdout",
     "output_type": "stream",
     "text": [
      "(21179, 4)\n"
     ]
    }
   ],
   "source": [
    "df_reviews_2 = df_reviews_2[df_reviews_2.review_text != 'Early Access Review']\n",
    "\n",
    "df_reviews_2 = df_reviews_2[~df_reviews_2.review_text.isin(['nan'])]\n",
    "\n",
    "\n",
    "\n",
    "df_reviews_2.drop_duplicates(['review_text', 'review_score' ], inplace = True )\n",
    "\n",
    "print(df_reviews_2.shape)"
   ]
  },
  {
   "cell_type": "code",
   "execution_count": 55,
   "id": "2cd238af",
   "metadata": {},
   "outputs": [
    {
     "data": {
      "text/html": [
       "<div>\n",
       "<style scoped>\n",
       "    .dataframe tbody tr th:only-of-type {\n",
       "        vertical-align: middle;\n",
       "    }\n",
       "\n",
       "    .dataframe tbody tr th {\n",
       "        vertical-align: top;\n",
       "    }\n",
       "\n",
       "    .dataframe thead th {\n",
       "        text-align: right;\n",
       "    }\n",
       "</style>\n",
       "<table border=\"1\" class=\"dataframe\">\n",
       "  <thead>\n",
       "    <tr style=\"text-align: right;\">\n",
       "      <th></th>\n",
       "      <th>app_id</th>\n",
       "      <th>review_text</th>\n",
       "      <th>review_score</th>\n",
       "      <th>review_votes</th>\n",
       "    </tr>\n",
       "  </thead>\n",
       "  <tbody>\n",
       "    <tr>\n",
       "      <th>0</th>\n",
       "      <td>10</td>\n",
       "      <td>Ruined my life.</td>\n",
       "      <td>1</td>\n",
       "      <td>0</td>\n",
       "    </tr>\n",
       "    <tr>\n",
       "      <th>1</th>\n",
       "      <td>10</td>\n",
       "      <td>Think you got skills because you came from CS:GO?  Think you got skills cause you came from COD?  Think you got skills cause you just bought fallout 4 and still got money left on your steam account?   Well let me tell you a story.         You're going to suck ♥♥♥.       Alot of ♥♥♥.</td>\n",
       "      <td>1</td>\n",
       "      <td>1</td>\n",
       "    </tr>\n",
       "    <tr>\n",
       "      <th>2</th>\n",
       "      <td>10</td>\n",
       "      <td>(I've deleted all the comments on this because I wanted to give a serious review about this game and delete my older one, so here ya go)  This is the older Counter-Strike as most people know it. Some people usually don't find enjoyment in playing it due to it being either 'out-dated' or 'glitchy'. I personally tend to enjoy this game from time to time because it's an original game made from th...</td>\n",
       "      <td>1</td>\n",
       "      <td>0</td>\n",
       "    </tr>\n",
       "    <tr>\n",
       "      <th>3</th>\n",
       "      <td>10</td>\n",
       "      <td>Game will be played forever</td>\n",
       "      <td>1</td>\n",
       "      <td>0</td>\n",
       "    </tr>\n",
       "    <tr>\n",
       "      <th>4</th>\n",
       "      <td>10</td>\n",
       "      <td>i can't stop playing :D</td>\n",
       "      <td>1</td>\n",
       "      <td>0</td>\n",
       "    </tr>\n",
       "  </tbody>\n",
       "</table>\n",
       "</div>"
      ],
      "text/plain": [
       "   app_id  \\\n",
       "0      10   \n",
       "1      10   \n",
       "2      10   \n",
       "3      10   \n",
       "4      10   \n",
       "\n",
       "                                                                                                                                                                                                                                                                                                                                                                                                       review_text  \\\n",
       "0                                                                                                                                                                                                                                                                                                                                                                                                  Ruined my life.   \n",
       "1                                                                                                                      Think you got skills because you came from CS:GO?  Think you got skills cause you came from COD?  Think you got skills cause you just bought fallout 4 and still got money left on your steam account?   Well let me tell you a story.         You're going to suck ♥♥♥.       Alot of ♥♥♥.   \n",
       "2  (I've deleted all the comments on this because I wanted to give a serious review about this game and delete my older one, so here ya go)  This is the older Counter-Strike as most people know it. Some people usually don't find enjoyment in playing it due to it being either 'out-dated' or 'glitchy'. I personally tend to enjoy this game from time to time because it's an original game made from th...   \n",
       "3                                                                                                                                                                                                                                                                                                                                                                                      Game will be played forever   \n",
       "4                                                                                                                                                                                                                                                                                                                                                                                          i can't stop playing :D   \n",
       "\n",
       "   review_score review_votes  \n",
       "0             1            0  \n",
       "1             1            1  \n",
       "2             1            0  \n",
       "3             1            0  \n",
       "4             1            0  "
      ]
     },
     "execution_count": 55,
     "metadata": {},
     "output_type": "execute_result"
    }
   ],
   "source": [
    "df_reviews_2.head()"
   ]
  },
  {
   "cell_type": "code",
   "execution_count": 56,
   "id": "833d9082",
   "metadata": {},
   "outputs": [
    {
     "data": {
      "text/html": [
       "<div>\n",
       "<style scoped>\n",
       "    .dataframe tbody tr th:only-of-type {\n",
       "        vertical-align: middle;\n",
       "    }\n",
       "\n",
       "    .dataframe tbody tr th {\n",
       "        vertical-align: top;\n",
       "    }\n",
       "\n",
       "    .dataframe thead th {\n",
       "        text-align: right;\n",
       "    }\n",
       "</style>\n",
       "<table border=\"1\" class=\"dataframe\">\n",
       "  <thead>\n",
       "    <tr style=\"text-align: right;\">\n",
       "      <th></th>\n",
       "      <th>app_id</th>\n",
       "      <th>review_text</th>\n",
       "      <th>review_score</th>\n",
       "      <th>review_votes</th>\n",
       "    </tr>\n",
       "  </thead>\n",
       "  <tbody>\n",
       "    <tr>\n",
       "      <th>0</th>\n",
       "      <td>10</td>\n",
       "      <td>Ruined my life.</td>\n",
       "      <td>1</td>\n",
       "      <td>0</td>\n",
       "    </tr>\n",
       "    <tr>\n",
       "      <th>1</th>\n",
       "      <td>10</td>\n",
       "      <td>Think you got skills because you came from CS:GO?  Think you got skills cause you came from COD?  Think you got skills cause you just bought fallout 4 and still got money left on your steam account?   Well let me tell you a story.         You're going to suck ♥♥♥.       Alot of ♥♥♥.</td>\n",
       "      <td>1</td>\n",
       "      <td>1</td>\n",
       "    </tr>\n",
       "    <tr>\n",
       "      <th>2</th>\n",
       "      <td>10</td>\n",
       "      <td>(I've deleted all the comments on this because I wanted to give a serious review about this game and delete my older one, so here ya go)  This is the older Counter-Strike as most people know it. Some people usually don't find enjoyment in playing it due to it being either 'out-dated' or 'glitchy'. I personally tend to enjoy this game from time to time because it's an original game made from th...</td>\n",
       "      <td>1</td>\n",
       "      <td>0</td>\n",
       "    </tr>\n",
       "    <tr>\n",
       "      <th>3</th>\n",
       "      <td>10</td>\n",
       "      <td>Game will be played forever</td>\n",
       "      <td>1</td>\n",
       "      <td>0</td>\n",
       "    </tr>\n",
       "    <tr>\n",
       "      <th>4</th>\n",
       "      <td>10</td>\n",
       "      <td>i can't stop playing :D</td>\n",
       "      <td>1</td>\n",
       "      <td>0</td>\n",
       "    </tr>\n",
       "  </tbody>\n",
       "</table>\n",
       "</div>"
      ],
      "text/plain": [
       "   app_id  \\\n",
       "0      10   \n",
       "1      10   \n",
       "2      10   \n",
       "3      10   \n",
       "4      10   \n",
       "\n",
       "                                                                                                                                                                                                                                                                                                                                                                                                       review_text  \\\n",
       "0                                                                                                                                                                                                                                                                                                                                                                                                  Ruined my life.   \n",
       "1                                                                                                                      Think you got skills because you came from CS:GO?  Think you got skills cause you came from COD?  Think you got skills cause you just bought fallout 4 and still got money left on your steam account?   Well let me tell you a story.         You're going to suck ♥♥♥.       Alot of ♥♥♥.   \n",
       "2  (I've deleted all the comments on this because I wanted to give a serious review about this game and delete my older one, so here ya go)  This is the older Counter-Strike as most people know it. Some people usually don't find enjoyment in playing it due to it being either 'out-dated' or 'glitchy'. I personally tend to enjoy this game from time to time because it's an original game made from th...   \n",
       "3                                                                                                                                                                                                                                                                                                                                                                                      Game will be played forever   \n",
       "4                                                                                                                                                                                                                                                                                                                                                                                          i can't stop playing :D   \n",
       "\n",
       "   review_score review_votes  \n",
       "0             1            0  \n",
       "1             1            1  \n",
       "2             1            0  \n",
       "3             1            0  \n",
       "4             1            0  "
      ]
     },
     "execution_count": 56,
     "metadata": {},
     "output_type": "execute_result"
    }
   ],
   "source": [
    "df_reviews_2.head()\n"
   ]
  },
  {
   "cell_type": "code",
   "execution_count": 57,
   "id": "bbfdf427",
   "metadata": {},
   "outputs": [],
   "source": [
    "def replace_hearts_with_PAD(text):\n",
    "    return re.sub(r\"[♥]+\", ' **** ' ,text)\n",
    "\n",
    "# df_reviews_2['review_text_clean'] = df_reviews_2.review_text.apply(replace_hearts_with_PAD)\n",
    "\n",
    "# df_reviews_2.head()"
   ]
  },
  {
   "cell_type": "markdown",
   "id": "856bcca0",
   "metadata": {},
   "source": [
    "# Function to remove emoji"
   ]
  },
  {
   "cell_type": "code",
   "execution_count": 58,
   "id": "cc72b44b",
   "metadata": {},
   "outputs": [],
   "source": [
    "def deEmojify(x):\n",
    "    regrex_pattern = re.compile(pattern = \"[\"\n",
    "        u\"\\U0001F600-\\U0001F64F\"  # emoticons\n",
    "        u\"\\U0001F300-\\U0001F5FF\"  # symbols & pictographs\n",
    "        u\"\\U0001F680-\\U0001F6FF\"  # transport & map symbols\n",
    "        u\"\\U0001F1E0-\\U0001F1FF\"  # flags (iOS)\n",
    "                           \"]+\", flags = re.UNICODE)\n",
    "    return regrex_pattern.sub(r'', x)"
   ]
  },
  {
   "cell_type": "markdown",
   "id": "2145f843",
   "metadata": {},
   "source": [
    "# Clean some basic characters"
   ]
  },
  {
   "cell_type": "code",
   "execution_count": 59,
   "id": "99f6f09f",
   "metadata": {},
   "outputs": [],
   "source": [
    "def clean(raw):\n",
    "    \"\"\" Remove hyperlinks and markup \"\"\"\n",
    "    result = re.sub(\"<[a][^>]*>(.+?)</[a]>\", 'Link.', raw)\n",
    "    result = re.sub('&gt;', \"\", result)\n",
    "    result = re.sub('&#x27;', \"'\", result)\n",
    "    result = re.sub('&quot;', '\"', result)\n",
    "    result = re.sub('&#x2F;', ' ', result)\n",
    "    result = re.sub('<p>', ' ', result)\n",
    "    result = re.sub('</i>', '', result)\n",
    "    result = re.sub('&#62;', '', result)\n",
    "    result = re.sub('<i>', ' ', result)\n",
    "    result = re.sub(\"\\n\", '', result)\n",
    "    return result"
   ]
  },
  {
   "cell_type": "markdown",
   "id": "e2337962",
   "metadata": {},
   "source": [
    "# Remove numeric"
   ]
  },
  {
   "cell_type": "code",
   "execution_count": 60,
   "id": "05d2d80a",
   "metadata": {},
   "outputs": [],
   "source": [
    "def remove_num(texts):\n",
    "    output = re.sub(r'\\d+', '', texts )\n",
    "    return output"
   ]
  },
  {
   "cell_type": "markdown",
   "id": "7b772ee0",
   "metadata": {},
   "source": [
    "# Function to unify whitespaces"
   ]
  },
  {
   "cell_type": "code",
   "execution_count": 61,
   "id": "4497f91a",
   "metadata": {},
   "outputs": [],
   "source": [
    "# multiple white spaces\n",
    "def unify_whitespaces(text):\n",
    "    cleaned_string = re.sub(' +', ' ', text )\n",
    "    return cleaned_string"
   ]
  },
  {
   "cell_type": "code",
   "execution_count": 62,
   "id": "4059591d",
   "metadata": {},
   "outputs": [
    {
     "data": {
      "text/plain": [
       "'hi world'"
      ]
     },
     "execution_count": 62,
     "metadata": {},
     "output_type": "execute_result"
    }
   ],
   "source": [
    "re.sub(' +',\" \",\"hi     world\")"
   ]
  },
  {
   "cell_type": "markdown",
   "id": "f1d693a4",
   "metadata": {},
   "source": [
    "# Function to remove punctuation"
   ]
  },
  {
   "cell_type": "code",
   "execution_count": 63,
   "id": "023eb657",
   "metadata": {},
   "outputs": [],
   "source": [
    "\n",
    "def remove_punctuation(text):\n",
    "    result = \"\".join(u for u in text if u not in (\"?\", \".\", \";\", \":\",  \"!\",'\"',',') )\n",
    "    return result"
   ]
  },
  {
   "cell_type": "markdown",
   "id": "d02fbb46",
   "metadata": {},
   "source": [
    "# Remove stopwords"
   ]
  },
  {
   "cell_type": "code",
   "execution_count": 64,
   "id": "81a34be7",
   "metadata": {},
   "outputs": [
    {
     "name": "stderr",
     "output_type": "stream",
     "text": [
      "[nltk_data] Downloading package stopwords to\n",
      "[nltk_data]     C:\\Users\\Admin\\AppData\\Roaming\\nltk_data...\n",
      "[nltk_data]   Package stopwords is already up-to-date!\n"
     ]
    }
   ],
   "source": [
    "from nltk.corpus import stopwords\n",
    "from nltk import WordNetLemmatizer\n",
    "nltk.download('stopwords')\n",
    "from nltk.stem import PorterStemmer\n",
    "\n",
    "stop = set(stopwords.words('english'))\n",
    "stemmer = PorterStemmer()\n",
    "lemma = WordNetLemmatizer()\n",
    "\n",
    "def remove_stopwords(text):\n",
    "    text = [word.lower() for word in text.split() if word.lower() not in stop ]\n",
    "    return ' '.join(text)"
   ]
  },
  {
   "cell_type": "markdown",
   "id": "dce0eb1d",
   "metadata": {},
   "source": [
    "# Function to use stemming to normalize words"
   ]
  },
  {
   "cell_type": "code",
   "execution_count": 65,
   "id": "58dda71b",
   "metadata": {},
   "outputs": [],
   "source": [
    "from nltk.corpus import stopwords\n",
    "from nltk.stem import SnowballStemmer\n",
    "\n",
    "def Stemming(text):\n",
    "    stem = []\n",
    "    stopword = stopwords.words('english')\n",
    "    snowball_stemmer = SnowballStemmer('english')\n",
    "    word_tokens = nltk.word_tokenize(text)\n",
    "    stemmed_word = [ snowball_stemmer.stem(word) for word in word_tokens ]\n",
    "    stem = ' '.join(stemmed_word)\n",
    "    return stem"
   ]
  },
  {
   "cell_type": "markdown",
   "id": "8e7e5e2f",
   "metadata": {},
   "source": [
    "# Applying all the cleaning util methods"
   ]
  },
  {
   "cell_type": "code",
   "execution_count": 66,
   "id": "3a2746d4",
   "metadata": {},
   "outputs": [],
   "source": [
    "def cleaning(df, review):\n",
    "    df_processed = df.copy()\n",
    "    df_processed[review] = df_processed['review_text']\n",
    "    df_processed[review] = df_processed[review].apply(clean)\n",
    "    df_processed[review] = df_processed[review].apply(deEmojify)\n",
    "    df_processed[review] = df_processed[review].apply(replace_hearts_with_PAD)\n",
    "    df_processed[review] = df_processed[review].apply(remove_num)\n",
    "    df_processed[review] = df_processed[review].apply(remove_punctuation)\n",
    "    df_processed[review] = df_processed[review].apply(remove_stopwords)\n",
    "    df_processed[review] = df_processed[review].apply(unify_whitespaces)\n",
    "    df_processed[review] = df_processed[review].apply(Stemming)\n",
    "    return df_processed\n",
    "\n",
    "df_processed = cleaning(df_reviews_2, 'review_text_clean' )"
   ]
  },
  {
   "cell_type": "code",
   "execution_count": 67,
   "id": "fdb4b336",
   "metadata": {},
   "outputs": [
    {
     "data": {
      "text/html": [
       "<div>\n",
       "<style scoped>\n",
       "    .dataframe tbody tr th:only-of-type {\n",
       "        vertical-align: middle;\n",
       "    }\n",
       "\n",
       "    .dataframe tbody tr th {\n",
       "        vertical-align: top;\n",
       "    }\n",
       "\n",
       "    .dataframe thead th {\n",
       "        text-align: right;\n",
       "    }\n",
       "</style>\n",
       "<table border=\"1\" class=\"dataframe\">\n",
       "  <thead>\n",
       "    <tr style=\"text-align: right;\">\n",
       "      <th></th>\n",
       "      <th>app_id</th>\n",
       "      <th>review_text</th>\n",
       "      <th>review_score</th>\n",
       "      <th>review_votes</th>\n",
       "      <th>review_text_clean</th>\n",
       "    </tr>\n",
       "  </thead>\n",
       "  <tbody>\n",
       "    <tr>\n",
       "      <th>0</th>\n",
       "      <td>10</td>\n",
       "      <td>Ruined my life.</td>\n",
       "      <td>1</td>\n",
       "      <td>0</td>\n",
       "      <td>ruin life</td>\n",
       "    </tr>\n",
       "    <tr>\n",
       "      <th>1</th>\n",
       "      <td>10</td>\n",
       "      <td>Think you got skills because you came from CS:GO?  Think you got skills cause you came from COD?  Think you got skills cause you just bought fallout 4 and still got money left on your steam account?   Well let me tell you a story.         You're going to suck ♥♥♥.       Alot of ♥♥♥.</td>\n",
       "      <td>1</td>\n",
       "      <td>1</td>\n",
       "      <td>think got skill came csgo think got skill caus came cod think got skill caus bought fallout still got money left steam account well let tell stori go suck * * * * alot * * * *</td>\n",
       "    </tr>\n",
       "    <tr>\n",
       "      <th>2</th>\n",
       "      <td>10</td>\n",
       "      <td>(I've deleted all the comments on this because I wanted to give a serious review about this game and delete my older one, so here ya go)  This is the older Counter-Strike as most people know it. Some people usually don't find enjoyment in playing it due to it being either 'out-dated' or 'glitchy'. I personally tend to enjoy this game from time to time because it's an original game made from th...</td>\n",
       "      <td>1</td>\n",
       "      <td>0</td>\n",
       "      <td>( i ve delet comment want give serious review game delet older one ya go ) older counter-strik peopl know peopl usual find enjoy play due either out-dat ' glitchi ' person tend enjoy game time time origin game made first sourc engin old school shooter general ai n't shabbi either due game small amount space fill comput rare ever lag make sure interrupt enjoy also competit present counter-strik...</td>\n",
       "    </tr>\n",
       "    <tr>\n",
       "      <th>3</th>\n",
       "      <td>10</td>\n",
       "      <td>Game will be played forever</td>\n",
       "      <td>1</td>\n",
       "      <td>0</td>\n",
       "      <td>game play forev</td>\n",
       "    </tr>\n",
       "    <tr>\n",
       "      <th>4</th>\n",
       "      <td>10</td>\n",
       "      <td>i can't stop playing :D</td>\n",
       "      <td>1</td>\n",
       "      <td>0</td>\n",
       "      <td>ca n't stop play</td>\n",
       "    </tr>\n",
       "  </tbody>\n",
       "</table>\n",
       "</div>"
      ],
      "text/plain": [
       "   app_id  \\\n",
       "0      10   \n",
       "1      10   \n",
       "2      10   \n",
       "3      10   \n",
       "4      10   \n",
       "\n",
       "                                                                                                                                                                                                                                                                                                                                                                                                       review_text  \\\n",
       "0                                                                                                                                                                                                                                                                                                                                                                                                  Ruined my life.   \n",
       "1                                                                                                                      Think you got skills because you came from CS:GO?  Think you got skills cause you came from COD?  Think you got skills cause you just bought fallout 4 and still got money left on your steam account?   Well let me tell you a story.         You're going to suck ♥♥♥.       Alot of ♥♥♥.   \n",
       "2  (I've deleted all the comments on this because I wanted to give a serious review about this game and delete my older one, so here ya go)  This is the older Counter-Strike as most people know it. Some people usually don't find enjoyment in playing it due to it being either 'out-dated' or 'glitchy'. I personally tend to enjoy this game from time to time because it's an original game made from th...   \n",
       "3                                                                                                                                                                                                                                                                                                                                                                                      Game will be played forever   \n",
       "4                                                                                                                                                                                                                                                                                                                                                                                          i can't stop playing :D   \n",
       "\n",
       "   review_score review_votes  \\\n",
       "0             1            0   \n",
       "1             1            1   \n",
       "2             1            0   \n",
       "3             1            0   \n",
       "4             1            0   \n",
       "\n",
       "                                                                                                                                                                                                                                                                                                                                                                                                 review_text_clean  \n",
       "0                                                                                                                                                                                                                                                                                                                                                                                                        ruin life  \n",
       "1                                                                                                                                                                                                                                  think got skill came csgo think got skill caus came cod think got skill caus bought fallout still got money left steam account well let tell stori go suck * * * * alot * * * *  \n",
       "2  ( i ve delet comment want give serious review game delet older one ya go ) older counter-strik peopl know peopl usual find enjoy play due either out-dat ' glitchi ' person tend enjoy game time time origin game made first sourc engin old school shooter general ai n't shabbi either due game small amount space fill comput rare ever lag make sure interrupt enjoy also competit present counter-strik...  \n",
       "3                                                                                                                                                                                                                                                                                                                                                                                                  game play forev  \n",
       "4                                                                                                                                                                                                                                                                                                                                                                                                 ca n't stop play  "
      ]
     },
     "execution_count": 67,
     "metadata": {},
     "output_type": "execute_result"
    }
   ],
   "source": [
    "df_processed.head()"
   ]
  },
  {
   "cell_type": "markdown",
   "id": "48b19d85",
   "metadata": {},
   "source": [
    "# Randomly selecting 2000 negative reviews"
   ]
  },
  {
   "cell_type": "code",
   "execution_count": 68,
   "id": "d35aa466",
   "metadata": {},
   "outputs": [
    {
     "name": "stdout",
     "output_type": "stream",
     "text": [
      "(2000, 5)\n"
     ]
    }
   ],
   "source": [
    "neg_reviews = df_processed[df_processed.review_score == 0]\n",
    "\n",
    "neg_reviews = neg_reviews.sample(n = 2000, random_state=1234)\n",
    "\n",
    "all_intents = neg_reviews.review_text_clean.tolist()\n",
    "\n",
    "print(neg_reviews.shape)"
   ]
  },
  {
   "cell_type": "code",
   "execution_count": 69,
   "id": "29778f35",
   "metadata": {},
   "outputs": [
    {
     "data": {
      "text/html": [
       "<div>\n",
       "<style scoped>\n",
       "    .dataframe tbody tr th:only-of-type {\n",
       "        vertical-align: middle;\n",
       "    }\n",
       "\n",
       "    .dataframe tbody tr th {\n",
       "        vertical-align: top;\n",
       "    }\n",
       "\n",
       "    .dataframe thead th {\n",
       "        text-align: right;\n",
       "    }\n",
       "</style>\n",
       "<table border=\"1\" class=\"dataframe\">\n",
       "  <thead>\n",
       "    <tr style=\"text-align: right;\">\n",
       "      <th></th>\n",
       "      <th>app_id</th>\n",
       "      <th>review_text</th>\n",
       "      <th>review_score</th>\n",
       "      <th>review_votes</th>\n",
       "      <th>review_text_clean</th>\n",
       "    </tr>\n",
       "  </thead>\n",
       "  <tbody>\n",
       "    <tr>\n",
       "      <th>4383</th>\n",
       "      <td>218620</td>\n",
       "      <td>I used to love playing this game for its fantastic co-op, pefect for getting couple of friends and having a good time. But with the microtransactions? Seriously Overkill? Way to kill your modding community. This isn't CS:GO.</td>\n",
       "      <td>0</td>\n",
       "      <td>0</td>\n",
       "      <td>use love play game fantast co-op pefect get coupl friend good time microtransact serious overkil way kill mod communiti csgo</td>\n",
       "    </tr>\n",
       "    <tr>\n",
       "      <th>23347</th>\n",
       "      <td>50300</td>\n",
       "      <td>If you want to play the game on easy difficulty than do it, it's probably good. I tried playing it on hard difficulty and it just turns out to be impossible. Apart from the stupidly tedious controls and all but responsive animations( i.e. your character will get stuck between objects, will have an incredibly hard time deciding whether to go out of cover or reload, glitching out really bad, and...</td>\n",
       "      <td>0</td>\n",
       "      <td>0</td>\n",
       "      <td>want play game easi difficulti probabl good tri play hard difficulti turn imposs apart stupid tedious control respons anim ( ie charact get stuck object incred hard time decid whether go cover reload glitch realli bad lot troubl anyth run straight ) let finish game stun stupid suicid ai teammat anyth help time they ll go enemi fire die like * * * * es tri get better cover they ll keep shoot wa...</td>\n",
       "    </tr>\n",
       "    <tr>\n",
       "      <th>2313</th>\n",
       "      <td>204060</td>\n",
       "      <td>Bad game. Not worth any money.</td>\n",
       "      <td>0</td>\n",
       "      <td>0</td>\n",
       "      <td>bad game worth money</td>\n",
       "    </tr>\n",
       "    <tr>\n",
       "      <th>23459</th>\n",
       "      <td>51100</td>\n",
       "      <td>this is my first ever game on steam i have masterd quick scoping and what the ♥♥♥♥! they removed snipers how could they is this a glitch or a mistake if its gone this game is broken</td>\n",
       "      <td>0</td>\n",
       "      <td>0</td>\n",
       "      <td>first ever game steam masterd quick scope * * * * remov sniper could glitch mistak gone game broken</td>\n",
       "    </tr>\n",
       "    <tr>\n",
       "      <th>24870</th>\n",
       "      <td>7770</td>\n",
       "      <td>This game is one of the worst X-COM Games ever made. Horrible Graphics. Annoying Voices. Boring. Over Powered weapons can be unlocked early in-game, making the game just a matter of paitence. Window 10 user? Won't allow you to see ANYTHING OTHER THAN THE TOP LEFT CORNER. Sure, the types of weapon isn't in any other X-COM game, but then, the game is just plain off a waste of 5 dollars.</td>\n",
       "      <td>0</td>\n",
       "      <td>1</td>\n",
       "      <td>game one worst x-com game ever made horribl graphic annoy voic bore power weapon unlock earli in-gam make game matter paitenc window user allow see anyth top left corner sure type weapon x-com game game plain wast dollar</td>\n",
       "    </tr>\n",
       "  </tbody>\n",
       "</table>\n",
       "</div>"
      ],
      "text/plain": [
       "       app_id  \\\n",
       "4383   218620   \n",
       "23347   50300   \n",
       "2313   204060   \n",
       "23459   51100   \n",
       "24870    7770   \n",
       "\n",
       "                                                                                                                                                                                                                                                                                                                                                                                                           review_text  \\\n",
       "4383                                                                                                                                                                                  I used to love playing this game for its fantastic co-op, pefect for getting couple of friends and having a good time. But with the microtransactions? Seriously Overkill? Way to kill your modding community. This isn't CS:GO.   \n",
       "23347  If you want to play the game on easy difficulty than do it, it's probably good. I tried playing it on hard difficulty and it just turns out to be impossible. Apart from the stupidly tedious controls and all but responsive animations( i.e. your character will get stuck between objects, will have an incredibly hard time deciding whether to go out of cover or reload, glitching out really bad, and...   \n",
       "2313                                                                                                                                                                                                                                                                                                                                                                                    Bad game. Not worth any money.   \n",
       "23459                                                                                                                                                                                                                            this is my first ever game on steam i have masterd quick scoping and what the ♥♥♥♥! they removed snipers how could they is this a glitch or a mistake if its gone this game is broken   \n",
       "24870              This game is one of the worst X-COM Games ever made. Horrible Graphics. Annoying Voices. Boring. Over Powered weapons can be unlocked early in-game, making the game just a matter of paitence. Window 10 user? Won't allow you to see ANYTHING OTHER THAN THE TOP LEFT CORNER. Sure, the types of weapon isn't in any other X-COM game, but then, the game is just plain off a waste of 5 dollars.   \n",
       "\n",
       "       review_score review_votes  \\\n",
       "4383              0            0   \n",
       "23347             0            0   \n",
       "2313              0            0   \n",
       "23459             0            0   \n",
       "24870             0            1   \n",
       "\n",
       "                                                                                                                                                                                                                                                                                                                                                                                                     review_text_clean  \n",
       "4383                                                                                                                                                                                                                                                                                      use love play game fantast co-op pefect get coupl friend good time microtransact serious overkil way kill mod communiti csgo  \n",
       "23347  want play game easi difficulti probabl good tri play hard difficulti turn imposs apart stupid tedious control respons anim ( ie charact get stuck object incred hard time decid whether go cover reload glitch realli bad lot troubl anyth run straight ) let finish game stun stupid suicid ai teammat anyth help time they ll go enemi fire die like * * * * es tri get better cover they ll keep shoot wa...  \n",
       "2313                                                                                                                                                                                                                                                                                                                                                                                              bad game worth money  \n",
       "23459                                                                                                                                                                                                                                                                                                              first ever game steam masterd quick scope * * * * remov sniper could glitch mistak gone game broken  \n",
       "24870                                                                                                                                                                                     game one worst x-com game ever made horribl graphic annoy voic bore power weapon unlock earli in-gam make game matter paitenc window user allow see anyth top left corner sure type weapon x-com game game plain wast dollar  "
      ]
     },
     "execution_count": 69,
     "metadata": {},
     "output_type": "execute_result"
    }
   ],
   "source": [
    "neg_reviews.head()"
   ]
  },
  {
   "cell_type": "code",
   "execution_count": 71,
   "id": "174fb35d",
   "metadata": {},
   "outputs": [
    {
     "data": {
      "text/plain": [
       "2000"
      ]
     },
     "execution_count": 71,
     "metadata": {},
     "output_type": "execute_result"
    }
   ],
   "source": [
    "len(all_intents)"
   ]
  },
  {
   "cell_type": "code",
   "execution_count": 73,
   "id": "b1f91c98",
   "metadata": {},
   "outputs": [],
   "source": [
    "# We will split the reviews into sentences as few reviews are really very lengthy having multiple topics.\n",
    "# so that we can have better topics for different sentences\n",
    "# We will keep sentences only if it has more than 4 words"
   ]
  },
  {
   "cell_type": "code",
   "execution_count": 74,
   "id": "6a924c70",
   "metadata": {},
   "outputs": [
    {
     "name": "stdout",
     "output_type": "stream",
     "text": [
      "1793\n"
     ]
    }
   ],
   "source": [
    "all_sents = []\n",
    "\n",
    "for intent in all_intents:\n",
    "    for sent in nltk.sent_tokenize(intent):\n",
    "        if len(sent.split()) > 4:\n",
    "            all_sents.append(sent)\n",
    "\n",
    "print(len(all_sents))\n",
    "\n",
    "all_intent = all_sents"
   ]
  },
  {
   "cell_type": "markdown",
   "id": "493c3e02",
   "metadata": {},
   "source": [
    "# Sentence Embedding"
   ]
  },
  {
   "cell_type": "code",
   "execution_count": 76,
   "id": "f69f8a33",
   "metadata": {},
   "outputs": [],
   "source": [
    "from sentence_transformers import SentenceTransformer\n",
    "import tensorflow as tf"
   ]
  },
  {
   "cell_type": "code",
   "execution_count": 77,
   "id": "2d8693e7",
   "metadata": {},
   "outputs": [
    {
     "data": {
      "application/vnd.jupyter.widget-view+json": {
       "model_id": "900d310aed194df0abef5c9dc555fe2c",
       "version_major": 2,
       "version_minor": 0
      },
      "text/plain": [
       ".gitattributes:   0%|          | 0.00/1.18k [00:00<?, ?B/s]"
      ]
     },
     "metadata": {},
     "output_type": "display_data"
    },
    {
     "data": {
      "application/vnd.jupyter.widget-view+json": {
       "model_id": "dbc1b889b97a491192324d277a6836cb",
       "version_major": 2,
       "version_minor": 0
      },
      "text/plain": [
       "1_Pooling/config.json:   0%|          | 0.00/190 [00:00<?, ?B/s]"
      ]
     },
     "metadata": {},
     "output_type": "display_data"
    },
    {
     "data": {
      "application/vnd.jupyter.widget-view+json": {
       "model_id": "da48a066c8a649a7b669890694dd7de1",
       "version_major": 2,
       "version_minor": 0
      },
      "text/plain": [
       "README.md:   0%|          | 0.00/10.6k [00:00<?, ?B/s]"
      ]
     },
     "metadata": {},
     "output_type": "display_data"
    },
    {
     "data": {
      "application/vnd.jupyter.widget-view+json": {
       "model_id": "50417a50325541018f1e9cfa25e0227a",
       "version_major": 2,
       "version_minor": 0
      },
      "text/plain": [
       "config.json:   0%|          | 0.00/571 [00:00<?, ?B/s]"
      ]
     },
     "metadata": {},
     "output_type": "display_data"
    },
    {
     "data": {
      "application/vnd.jupyter.widget-view+json": {
       "model_id": "27a45135871d4c7da31c9fdd4924c9e8",
       "version_major": 2,
       "version_minor": 0
      },
      "text/plain": [
       "config_sentence_transformers.json:   0%|          | 0.00/116 [00:00<?, ?B/s]"
      ]
     },
     "metadata": {},
     "output_type": "display_data"
    },
    {
     "data": {
      "application/vnd.jupyter.widget-view+json": {
       "model_id": "ef8d4c72b55a444c927e85cde78d953c",
       "version_major": 2,
       "version_minor": 0
      },
      "text/plain": [
       "data_config.json:   0%|          | 0.00/39.3k [00:00<?, ?B/s]"
      ]
     },
     "metadata": {},
     "output_type": "display_data"
    },
    {
     "data": {
      "application/vnd.jupyter.widget-view+json": {
       "model_id": "ce5ff2381a0d45db913d5037ebd846c9",
       "version_major": 2,
       "version_minor": 0
      },
      "text/plain": [
       "pytorch_model.bin:   0%|          | 0.00/438M [00:00<?, ?B/s]"
      ]
     },
     "metadata": {},
     "output_type": "display_data"
    },
    {
     "data": {
      "application/vnd.jupyter.widget-view+json": {
       "model_id": "482ff2a1d5b7462c9485759d45d72594",
       "version_major": 2,
       "version_minor": 0
      },
      "text/plain": [
       "sentence_bert_config.json:   0%|          | 0.00/53.0 [00:00<?, ?B/s]"
      ]
     },
     "metadata": {},
     "output_type": "display_data"
    },
    {
     "data": {
      "application/vnd.jupyter.widget-view+json": {
       "model_id": "389da2f6c1b345cf8a585b21f38662f9",
       "version_major": 2,
       "version_minor": 0
      },
      "text/plain": [
       "special_tokens_map.json:   0%|          | 0.00/239 [00:00<?, ?B/s]"
      ]
     },
     "metadata": {},
     "output_type": "display_data"
    },
    {
     "data": {
      "application/vnd.jupyter.widget-view+json": {
       "model_id": "928a0f7d0f394fe19d0963316a02300f",
       "version_major": 2,
       "version_minor": 0
      },
      "text/plain": [
       "tokenizer.json:   0%|          | 0.00/466k [00:00<?, ?B/s]"
      ]
     },
     "metadata": {},
     "output_type": "display_data"
    },
    {
     "data": {
      "application/vnd.jupyter.widget-view+json": {
       "model_id": "7c264efe96b9430da0969730990fd1c5",
       "version_major": 2,
       "version_minor": 0
      },
      "text/plain": [
       "tokenizer_config.json:   0%|          | 0.00/363 [00:00<?, ?B/s]"
      ]
     },
     "metadata": {},
     "output_type": "display_data"
    },
    {
     "data": {
      "application/vnd.jupyter.widget-view+json": {
       "model_id": "496c50fd579f4ec8b7a502b1c26a9752",
       "version_major": 2,
       "version_minor": 0
      },
      "text/plain": [
       "train_script.py:   0%|          | 0.00/13.1k [00:00<?, ?B/s]"
      ]
     },
     "metadata": {},
     "output_type": "display_data"
    },
    {
     "data": {
      "application/vnd.jupyter.widget-view+json": {
       "model_id": "ef6bef9e7c114896a6f4a961f82e5cf9",
       "version_major": 2,
       "version_minor": 0
      },
      "text/plain": [
       "vocab.txt:   0%|          | 0.00/232k [00:00<?, ?B/s]"
      ]
     },
     "metadata": {},
     "output_type": "display_data"
    },
    {
     "data": {
      "application/vnd.jupyter.widget-view+json": {
       "model_id": "bb7bb6c1f9dd4badafac5f19cd268d1f",
       "version_major": 2,
       "version_minor": 0
      },
      "text/plain": [
       "modules.json:   0%|          | 0.00/349 [00:00<?, ?B/s]"
      ]
     },
     "metadata": {},
     "output_type": "display_data"
    }
   ],
   "source": [
    "def embed(model, model_type, sentences):\n",
    "    if model_type ==\"use\":\n",
    "        embeddings = model(sentences)\n",
    "    elif model_type == \"sentence transformer\":\n",
    "        embeddings = model.encode(sentences)\n",
    "    \n",
    "    return embeddings\n",
    "\n",
    "model_st1 = SentenceTransformer(\"all-mpnet-base-v2\", device = \"cpu\")\n",
    "embeddings_st1 = embed(model_st1, \"sentence transformer\", all_intents)"
   ]
  },
  {
   "cell_type": "code",
   "execution_count": 79,
   "id": "f94301ff",
   "metadata": {},
   "outputs": [
    {
     "data": {
      "text/plain": [
       "(2000, 768)"
      ]
     },
     "execution_count": 79,
     "metadata": {},
     "output_type": "execute_result"
    }
   ],
   "source": [
    "embeddings_st1.shape\n",
    "# 768 features - 768 dimensional vector"
   ]
  },
  {
   "cell_type": "markdown",
   "id": "bd0dec81",
   "metadata": {},
   "source": [
    "# Dimensionality Reduction"
   ]
  },
  {
   "cell_type": "markdown",
   "id": "00daed81",
   "metadata": {},
   "source": [
    "## Use Bayesian Optimization with Hyperopt"
   ]
  },
  {
   "cell_type": "markdown",
   "id": "4b29acc0",
   "metadata": {},
   "source": [
    "Following are four common methods of hyperparameter optimization for machine learning in order of increasing efficiency:\n",
    "\n",
    "1. Manual\n",
    "\n",
    "2. Grid search\n",
    "\n",
    "3. Random search\n",
    "\n",
    "4. Bayesian model-based optimization\n",
    "\n",
    "The one-sentence summary of Bayesian hyperparameter optimization is: build a probability model of the objective function and use it to select the most promising hyperparameters to evaluate in the true objective function."
   ]
  },
  {
   "cell_type": "code",
   "execution_count": 80,
   "id": "b9677e36",
   "metadata": {},
   "outputs": [],
   "source": [
    "hspace = {\n",
    "    \"n_neighbors\": hp.choice('n_neighbors', range(3,32)),\n",
    "    \"n_components\": hp.choice('n_components', range(3,32)),\n",
    "    \"min_cluster_size\": hp.choice('min_cluster_size', range(2,32)),\n",
    "    \"random_state\": 42\n",
    "}\n",
    "\n",
    "label_lower = 10\n",
    "label_upper = 100\n",
    "max_evals = 25 # change it to 50 or 100 for extra steps as you wish."
   ]
  },
  {
   "cell_type": "code",
   "execution_count": 81,
   "id": "d88fcdcc",
   "metadata": {},
   "outputs": [],
   "source": [
    "# import importlib\n",
    "# importlib.reload(utils)"
   ]
  },
  {
   "cell_type": "code",
   "execution_count": 82,
   "id": "36f566e3",
   "metadata": {},
   "outputs": [
    {
     "name": "stdout",
     "output_type": "stream",
     "text": [
      "\r",
      "  0%|                                                                              | 0/25 [00:00<?, ?trial/s, best loss=?]"
     ]
    },
    {
     "name": "stderr",
     "output_type": "stream",
     "text": [
      "C:\\Users\\Admin\\anaconda3\\lib\\site-packages\\umap\\umap_.py:1943: UserWarning: n_jobs value -1 overridden to 1 by setting random_state. Use no seed for parallelism.\n",
      "  warn(f\"n_jobs value {self.n_jobs} overridden to 1 by setting random_state. Use no seed for parallelism.\")\n",
      "\n"
     ]
    },
    {
     "name": "stdout",
     "output_type": "stream",
     "text": [
      "\r",
      "  4%|██▌                                                              | 1/25 [00:08<03:13,  8.08s/trial, best loss: 1.424]"
     ]
    },
    {
     "name": "stderr",
     "output_type": "stream",
     "text": [
      "C:\\Users\\Admin\\anaconda3\\lib\\site-packages\\umap\\umap_.py:1943: UserWarning: n_jobs value -1 overridden to 1 by setting random_state. Use no seed for parallelism.\n",
      "  warn(f\"n_jobs value {self.n_jobs} overridden to 1 by setting random_state. Use no seed for parallelism.\")\n",
      "\n"
     ]
    },
    {
     "name": "stdout",
     "output_type": "stream",
     "text": [
      "\r",
      "  8%|█████                                                           | 2/25 [00:13<02:24,  6.28s/trial, best loss: 1.3535]"
     ]
    },
    {
     "name": "stderr",
     "output_type": "stream",
     "text": [
      "C:\\Users\\Admin\\anaconda3\\lib\\site-packages\\umap\\umap_.py:1943: UserWarning: n_jobs value -1 overridden to 1 by setting random_state. Use no seed for parallelism.\n",
      "  warn(f\"n_jobs value {self.n_jobs} overridden to 1 by setting random_state. Use no seed for parallelism.\")\n",
      "\n"
     ]
    },
    {
     "name": "stdout",
     "output_type": "stream",
     "text": [
      "\r",
      " 12%|███████▋                                                        | 3/25 [00:19<02:19,  6.32s/trial, best loss: 1.3535]"
     ]
    },
    {
     "name": "stderr",
     "output_type": "stream",
     "text": [
      "C:\\Users\\Admin\\anaconda3\\lib\\site-packages\\umap\\umap_.py:1943: UserWarning: n_jobs value -1 overridden to 1 by setting random_state. Use no seed for parallelism.\n",
      "  warn(f\"n_jobs value {self.n_jobs} overridden to 1 by setting random_state. Use no seed for parallelism.\")\n",
      "\n"
     ]
    },
    {
     "name": "stdout",
     "output_type": "stream",
     "text": [
      "\r",
      " 16%|██████████▏                                                     | 4/25 [00:25<02:11,  6.28s/trial, best loss: 1.3535]"
     ]
    },
    {
     "name": "stderr",
     "output_type": "stream",
     "text": [
      "C:\\Users\\Admin\\anaconda3\\lib\\site-packages\\umap\\umap_.py:1943: UserWarning: n_jobs value -1 overridden to 1 by setting random_state. Use no seed for parallelism.\n",
      "  warn(f\"n_jobs value {self.n_jobs} overridden to 1 by setting random_state. Use no seed for parallelism.\")\n",
      "\n"
     ]
    },
    {
     "name": "stdout",
     "output_type": "stream",
     "text": [
      "\r",
      " 20%|████████████▊                                                   | 5/25 [00:33<02:18,  6.90s/trial, best loss: 1.3535]"
     ]
    },
    {
     "name": "stderr",
     "output_type": "stream",
     "text": [
      "C:\\Users\\Admin\\anaconda3\\lib\\site-packages\\umap\\umap_.py:1943: UserWarning: n_jobs value -1 overridden to 1 by setting random_state. Use no seed for parallelism.\n",
      "  warn(f\"n_jobs value {self.n_jobs} overridden to 1 by setting random_state. Use no seed for parallelism.\")\n",
      "\n"
     ]
    },
    {
     "name": "stdout",
     "output_type": "stream",
     "text": [
      "\r",
      " 24%|███████████████▎                                                | 6/25 [00:42<02:24,  7.60s/trial, best loss: 1.3535]"
     ]
    },
    {
     "name": "stderr",
     "output_type": "stream",
     "text": [
      "C:\\Users\\Admin\\anaconda3\\lib\\site-packages\\umap\\umap_.py:1943: UserWarning: n_jobs value -1 overridden to 1 by setting random_state. Use no seed for parallelism.\n",
      "  warn(f\"n_jobs value {self.n_jobs} overridden to 1 by setting random_state. Use no seed for parallelism.\")\n",
      "\n"
     ]
    },
    {
     "name": "stdout",
     "output_type": "stream",
     "text": [
      "\r",
      " 28%|█████████████████▉                                              | 7/25 [00:49<02:09,  7.20s/trial, best loss: 1.3535]"
     ]
    },
    {
     "name": "stderr",
     "output_type": "stream",
     "text": [
      "C:\\Users\\Admin\\anaconda3\\lib\\site-packages\\umap\\umap_.py:1943: UserWarning: n_jobs value -1 overridden to 1 by setting random_state. Use no seed for parallelism.\n",
      "  warn(f\"n_jobs value {self.n_jobs} overridden to 1 by setting random_state. Use no seed for parallelism.\")\n",
      "\n"
     ]
    },
    {
     "name": "stdout",
     "output_type": "stream",
     "text": [
      "\r",
      " 32%|████████████████████▊                                            | 8/25 [00:54<01:51,  6.58s/trial, best loss: 0.394]"
     ]
    },
    {
     "name": "stderr",
     "output_type": "stream",
     "text": [
      "C:\\Users\\Admin\\anaconda3\\lib\\site-packages\\umap\\umap_.py:1943: UserWarning: n_jobs value -1 overridden to 1 by setting random_state. Use no seed for parallelism.\n",
      "  warn(f\"n_jobs value {self.n_jobs} overridden to 1 by setting random_state. Use no seed for parallelism.\")\n",
      "\n"
     ]
    },
    {
     "name": "stdout",
     "output_type": "stream",
     "text": [
      "\r",
      " 36%|███████████████████████▍                                         | 9/25 [00:59<01:36,  6.02s/trial, best loss: 0.394]"
     ]
    },
    {
     "name": "stderr",
     "output_type": "stream",
     "text": [
      "C:\\Users\\Admin\\anaconda3\\lib\\site-packages\\umap\\umap_.py:1943: UserWarning: n_jobs value -1 overridden to 1 by setting random_state. Use no seed for parallelism.\n",
      "  warn(f\"n_jobs value {self.n_jobs} overridden to 1 by setting random_state. Use no seed for parallelism.\")\n",
      "\n"
     ]
    },
    {
     "name": "stdout",
     "output_type": "stream",
     "text": [
      "\r",
      " 40%|█████████████████████████▌                                      | 10/25 [01:05<01:32,  6.17s/trial, best loss: 0.394]"
     ]
    },
    {
     "name": "stderr",
     "output_type": "stream",
     "text": [
      "C:\\Users\\Admin\\anaconda3\\lib\\site-packages\\umap\\umap_.py:1943: UserWarning: n_jobs value -1 overridden to 1 by setting random_state. Use no seed for parallelism.\n",
      "  warn(f\"n_jobs value {self.n_jobs} overridden to 1 by setting random_state. Use no seed for parallelism.\")\n",
      "\n"
     ]
    },
    {
     "name": "stdout",
     "output_type": "stream",
     "text": [
      "\r",
      " 44%|████████████████████████████▏                                   | 11/25 [01:10<01:23,  5.93s/trial, best loss: 0.394]"
     ]
    },
    {
     "name": "stderr",
     "output_type": "stream",
     "text": [
      "C:\\Users\\Admin\\anaconda3\\lib\\site-packages\\umap\\umap_.py:1943: UserWarning: n_jobs value -1 overridden to 1 by setting random_state. Use no seed for parallelism.\n",
      "  warn(f\"n_jobs value {self.n_jobs} overridden to 1 by setting random_state. Use no seed for parallelism.\")\n",
      "\n"
     ]
    },
    {
     "name": "stdout",
     "output_type": "stream",
     "text": [
      "\r",
      " 48%|██████████████████████████████▋                                 | 12/25 [01:16<01:16,  5.90s/trial, best loss: 0.394]"
     ]
    },
    {
     "name": "stderr",
     "output_type": "stream",
     "text": [
      "C:\\Users\\Admin\\anaconda3\\lib\\site-packages\\umap\\umap_.py:1943: UserWarning: n_jobs value -1 overridden to 1 by setting random_state. Use no seed for parallelism.\n",
      "  warn(f\"n_jobs value {self.n_jobs} overridden to 1 by setting random_state. Use no seed for parallelism.\")\n",
      "\n"
     ]
    },
    {
     "name": "stdout",
     "output_type": "stream",
     "text": [
      "\r",
      " 52%|█████████████████████████████████▎                              | 13/25 [01:24<01:18,  6.55s/trial, best loss: 0.394]"
     ]
    },
    {
     "name": "stderr",
     "output_type": "stream",
     "text": [
      "C:\\Users\\Admin\\anaconda3\\lib\\site-packages\\umap\\umap_.py:1943: UserWarning: n_jobs value -1 overridden to 1 by setting random_state. Use no seed for parallelism.\n",
      "  warn(f\"n_jobs value {self.n_jobs} overridden to 1 by setting random_state. Use no seed for parallelism.\")\n",
      "\n"
     ]
    },
    {
     "name": "stdout",
     "output_type": "stream",
     "text": [
      "\r",
      " 56%|███████████████████████████████████▊                            | 14/25 [01:31<01:11,  6.53s/trial, best loss: 0.394]"
     ]
    },
    {
     "name": "stderr",
     "output_type": "stream",
     "text": [
      "C:\\Users\\Admin\\anaconda3\\lib\\site-packages\\umap\\umap_.py:1943: UserWarning: n_jobs value -1 overridden to 1 by setting random_state. Use no seed for parallelism.\n",
      "  warn(f\"n_jobs value {self.n_jobs} overridden to 1 by setting random_state. Use no seed for parallelism.\")\n",
      "\n"
     ]
    },
    {
     "name": "stdout",
     "output_type": "stream",
     "text": [
      "\r",
      " 60%|██████████████████████████████████████▍                         | 15/25 [01:37<01:02,  6.28s/trial, best loss: 0.394]"
     ]
    },
    {
     "name": "stderr",
     "output_type": "stream",
     "text": [
      "C:\\Users\\Admin\\anaconda3\\lib\\site-packages\\umap\\umap_.py:1943: UserWarning: n_jobs value -1 overridden to 1 by setting random_state. Use no seed for parallelism.\n",
      "  warn(f\"n_jobs value {self.n_jobs} overridden to 1 by setting random_state. Use no seed for parallelism.\")\n",
      "\n"
     ]
    },
    {
     "name": "stdout",
     "output_type": "stream",
     "text": [
      "\r",
      " 64%|████████████████████████████████████████▉                       | 16/25 [01:42<00:53,  5.93s/trial, best loss: 0.394]"
     ]
    },
    {
     "name": "stderr",
     "output_type": "stream",
     "text": [
      "C:\\Users\\Admin\\anaconda3\\lib\\site-packages\\umap\\umap_.py:1943: UserWarning: n_jobs value -1 overridden to 1 by setting random_state. Use no seed for parallelism.\n",
      "  warn(f\"n_jobs value {self.n_jobs} overridden to 1 by setting random_state. Use no seed for parallelism.\")\n",
      "\n"
     ]
    },
    {
     "name": "stdout",
     "output_type": "stream",
     "text": [
      "\r",
      " 68%|███████████████████████████████████████████▌                    | 17/25 [01:50<00:53,  6.70s/trial, best loss: 0.394]"
     ]
    },
    {
     "name": "stderr",
     "output_type": "stream",
     "text": [
      "C:\\Users\\Admin\\anaconda3\\lib\\site-packages\\umap\\umap_.py:1943: UserWarning: n_jobs value -1 overridden to 1 by setting random_state. Use no seed for parallelism.\n",
      "  warn(f\"n_jobs value {self.n_jobs} overridden to 1 by setting random_state. Use no seed for parallelism.\")\n",
      "\n"
     ]
    },
    {
     "name": "stdout",
     "output_type": "stream",
     "text": [
      "\r",
      " 72%|██████████████████████████████████████████████                  | 18/25 [01:56<00:45,  6.53s/trial, best loss: 0.394]"
     ]
    },
    {
     "name": "stderr",
     "output_type": "stream",
     "text": [
      "C:\\Users\\Admin\\anaconda3\\lib\\site-packages\\umap\\umap_.py:1943: UserWarning: n_jobs value -1 overridden to 1 by setting random_state. Use no seed for parallelism.\n",
      "  warn(f\"n_jobs value {self.n_jobs} overridden to 1 by setting random_state. Use no seed for parallelism.\")\n",
      "\n"
     ]
    },
    {
     "name": "stdout",
     "output_type": "stream",
     "text": [
      "\r",
      " 76%|████████████████████████████████████████████████▋               | 19/25 [02:03<00:39,  6.55s/trial, best loss: 0.394]"
     ]
    },
    {
     "name": "stderr",
     "output_type": "stream",
     "text": [
      "C:\\Users\\Admin\\anaconda3\\lib\\site-packages\\umap\\umap_.py:1943: UserWarning: n_jobs value -1 overridden to 1 by setting random_state. Use no seed for parallelism.\n",
      "  warn(f\"n_jobs value {self.n_jobs} overridden to 1 by setting random_state. Use no seed for parallelism.\")\n",
      "\n"
     ]
    },
    {
     "name": "stdout",
     "output_type": "stream",
     "text": [
      "\r",
      " 80%|███████████████████████████████████████████████████▏            | 20/25 [02:10<00:34,  6.85s/trial, best loss: 0.394]"
     ]
    },
    {
     "name": "stderr",
     "output_type": "stream",
     "text": [
      "C:\\Users\\Admin\\anaconda3\\lib\\site-packages\\umap\\umap_.py:1943: UserWarning: n_jobs value -1 overridden to 1 by setting random_state. Use no seed for parallelism.\n",
      "  warn(f\"n_jobs value {self.n_jobs} overridden to 1 by setting random_state. Use no seed for parallelism.\")\n",
      "\n"
     ]
    },
    {
     "name": "stdout",
     "output_type": "stream",
     "text": [
      "\r",
      " 84%|█████████████████████████████████████████████████████▊          | 21/25 [02:16<00:26,  6.57s/trial, best loss: 0.394]"
     ]
    },
    {
     "name": "stderr",
     "output_type": "stream",
     "text": [
      "C:\\Users\\Admin\\anaconda3\\lib\\site-packages\\umap\\umap_.py:1943: UserWarning: n_jobs value -1 overridden to 1 by setting random_state. Use no seed for parallelism.\n",
      "  warn(f\"n_jobs value {self.n_jobs} overridden to 1 by setting random_state. Use no seed for parallelism.\")\n",
      "\n"
     ]
    },
    {
     "name": "stdout",
     "output_type": "stream",
     "text": [
      "\r",
      " 88%|███████████████████████████████████████████████████████▍       | 22/25 [02:23<00:19,  6.62s/trial, best loss: 0.3585]"
     ]
    },
    {
     "name": "stderr",
     "output_type": "stream",
     "text": [
      "C:\\Users\\Admin\\anaconda3\\lib\\site-packages\\umap\\umap_.py:1943: UserWarning: n_jobs value -1 overridden to 1 by setting random_state. Use no seed for parallelism.\n",
      "  warn(f\"n_jobs value {self.n_jobs} overridden to 1 by setting random_state. Use no seed for parallelism.\")\n",
      "\n"
     ]
    },
    {
     "name": "stdout",
     "output_type": "stream",
     "text": [
      "\r",
      " 92%|█████████████████████████████████████████████████████████▉     | 23/25 [02:30<00:13,  6.66s/trial, best loss: 0.3585]"
     ]
    },
    {
     "name": "stderr",
     "output_type": "stream",
     "text": [
      "C:\\Users\\Admin\\anaconda3\\lib\\site-packages\\umap\\umap_.py:1943: UserWarning: n_jobs value -1 overridden to 1 by setting random_state. Use no seed for parallelism.\n",
      "  warn(f\"n_jobs value {self.n_jobs} overridden to 1 by setting random_state. Use no seed for parallelism.\")\n",
      "\n"
     ]
    },
    {
     "name": "stdout",
     "output_type": "stream",
     "text": [
      "\r",
      " 96%|████████████████████████████████████████████████████████████▍  | 24/25 [02:36<00:06,  6.38s/trial, best loss: 0.3585]"
     ]
    },
    {
     "name": "stderr",
     "output_type": "stream",
     "text": [
      "C:\\Users\\Admin\\anaconda3\\lib\\site-packages\\umap\\umap_.py:1943: UserWarning: n_jobs value -1 overridden to 1 by setting random_state. Use no seed for parallelism.\n",
      "  warn(f\"n_jobs value {self.n_jobs} overridden to 1 by setting random_state. Use no seed for parallelism.\")\n",
      "\n"
     ]
    },
    {
     "name": "stdout",
     "output_type": "stream",
     "text": [
      "100%|███████████████████████████████████████████████████████████████| 25/25 [02:41<00:00,  6.45s/trial, best loss: 0.3585]\n",
      "best:\n",
      "{'min_cluster_size': 13, 'n_components': 28, 'n_neighbors': 11, 'random_state': 42}\n",
      "label count: 11\n"
     ]
    },
    {
     "name": "stderr",
     "output_type": "stream",
     "text": [
      "C:\\Users\\Admin\\anaconda3\\lib\\site-packages\\umap\\umap_.py:1943: UserWarning: n_jobs value -1 overridden to 1 by setting random_state. Use no seed for parallelism.\n",
      "  warn(f\"n_jobs value {self.n_jobs} overridden to 1 by setting random_state. Use no seed for parallelism.\")\n"
     ]
    },
    {
     "name": "stdout",
     "output_type": "stream",
     "text": [
      "CPU times: total: 1min 38s\n",
      "Wall time: 2min 47s\n"
     ]
    }
   ],
   "source": [
    "%%time\n",
    "from utils import *\n",
    "best_params_use, best_clusters_use, trials_use = utils.bayesian_search(embeddings_st1, \n",
    "                                                                 space=hspace, \n",
    "                                                                 label_lower=label_lower, \n",
    "                                                                 label_upper=label_upper, \n",
    "                                                                 max_evals=max_evals)"
   ]
  },
  {
   "cell_type": "code",
   "execution_count": 83,
   "id": "3d5c6529",
   "metadata": {},
   "outputs": [
    {
     "data": {
      "text/html": [
       "<div>\n",
       "<style scoped>\n",
       "    .dataframe tbody tr th:only-of-type {\n",
       "        vertical-align: middle;\n",
       "    }\n",
       "\n",
       "    .dataframe tbody tr th {\n",
       "        vertical-align: top;\n",
       "    }\n",
       "\n",
       "    .dataframe thead th {\n",
       "        text-align: right;\n",
       "    }\n",
       "</style>\n",
       "<table border=\"1\" class=\"dataframe\">\n",
       "  <thead>\n",
       "    <tr style=\"text-align: right;\">\n",
       "      <th></th>\n",
       "      <th>text</th>\n",
       "      <th>label_st1</th>\n",
       "    </tr>\n",
       "  </thead>\n",
       "  <tbody>\n",
       "    <tr>\n",
       "      <th>0</th>\n",
       "      <td>use love play game fantast co-op pefect get coupl friend good time microtransact serious overkil way kill mod communiti csgo</td>\n",
       "      <td>1</td>\n",
       "    </tr>\n",
       "    <tr>\n",
       "      <th>1</th>\n",
       "      <td>want play game easi difficulti probabl good tri play hard difficulti turn imposs apart stupid tedious control respons anim ( ie charact get stuck object incred hard time decid whether go cover reload glitch realli bad lot troubl anyth run straight ) let finish game stun stupid suicid ai teammat anyth help time they ll go enemi fire die like * * * * es tri get better cover they ll keep shoot wa...</td>\n",
       "      <td>-1</td>\n",
       "    </tr>\n",
       "    <tr>\n",
       "      <th>2</th>\n",
       "      <td>bad game worth money</td>\n",
       "      <td>1</td>\n",
       "    </tr>\n",
       "    <tr>\n",
       "      <th>3</th>\n",
       "      <td>first ever game steam masterd quick scope * * * * remov sniper could glitch mistak gone game broken</td>\n",
       "      <td>-1</td>\n",
       "    </tr>\n",
       "    <tr>\n",
       "      <th>4</th>\n",
       "      <td>game one worst x-com game ever made horribl graphic annoy voic bore power weapon unlock earli in-gam make game matter paitenc window user allow see anyth top left corner sure type weapon x-com game game plain wast dollar</td>\n",
       "      <td>6</td>\n",
       "    </tr>\n",
       "    <tr>\n",
       "      <th>5</th>\n",
       "      <td>i ve encount level-block bug level requir re-start level mani instanc exit game re-load level side mission ( the one captain america winter solder particular ) can not complet due bug trigger next event/sequence/qt boss fight game test enough compar releas despit delay game i 'm guess ambiti make game mani platform bug test becam afterthought till they ve releas sever patch fix issu game buy</td>\n",
       "      <td>8</td>\n",
       "    </tr>\n",
       "    <tr>\n",
       "      <th>6</th>\n",
       "      <td>yeah know play much stop play fulli disgust first i ve play dnd obsidian game sinc baldur 's gate maxim difficulti level i 'm hard noobi start game mage intro bad reach end two newli found companion die that 's script scenario got feel newli found friend bad game take away unsatisfi way fun left alon especi play mage game provid friend replac everyon know usual mage meant corp corp true well a...</td>\n",
       "      <td>-1</td>\n",
       "    </tr>\n",
       "    <tr>\n",
       "      <th>7</th>\n",
       "      <td>game terribl feel cheat buy dollar like everyth promis user never ad realli terribl buy</td>\n",
       "      <td>1</td>\n",
       "    </tr>\n",
       "    <tr>\n",
       "      <th>8</th>\n",
       "      <td>awesom fun easi game way much money isnt near enough content game make worth $</td>\n",
       "      <td>1</td>\n",
       "    </tr>\n",
       "    <tr>\n",
       "      <th>9</th>\n",
       "      <td>game still cost money buy game</td>\n",
       "      <td>1</td>\n",
       "    </tr>\n",
       "  </tbody>\n",
       "</table>\n",
       "</div>"
      ],
      "text/plain": [
       "                                                                                                                                                                                                                                                                                                                                                                                                              text  \\\n",
       "0                                                                                                                                                                                                                                                                                     use love play game fantast co-op pefect get coupl friend good time microtransact serious overkil way kill mod communiti csgo   \n",
       "1  want play game easi difficulti probabl good tri play hard difficulti turn imposs apart stupid tedious control respons anim ( ie charact get stuck object incred hard time decid whether go cover reload glitch realli bad lot troubl anyth run straight ) let finish game stun stupid suicid ai teammat anyth help time they ll go enemi fire die like * * * * es tri get better cover they ll keep shoot wa...   \n",
       "2                                                                                                                                                                                                                                                                                                                                                                                             bad game worth money   \n",
       "3                                                                                                                                                                                                                                                                                                              first ever game steam masterd quick scope * * * * remov sniper could glitch mistak gone game broken   \n",
       "4                                                                                                                                                                                     game one worst x-com game ever made horribl graphic annoy voic bore power weapon unlock earli in-gam make game matter paitenc window user allow see anyth top left corner sure type weapon x-com game game plain wast dollar   \n",
       "5       i ve encount level-block bug level requir re-start level mani instanc exit game re-load level side mission ( the one captain america winter solder particular ) can not complet due bug trigger next event/sequence/qt boss fight game test enough compar releas despit delay game i 'm guess ambiti make game mani platform bug test becam afterthought till they ve releas sever patch fix issu game buy   \n",
       "6  yeah know play much stop play fulli disgust first i ve play dnd obsidian game sinc baldur 's gate maxim difficulti level i 'm hard noobi start game mage intro bad reach end two newli found companion die that 's script scenario got feel newli found friend bad game take away unsatisfi way fun left alon especi play mage game provid friend replac everyon know usual mage meant corp corp true well a...   \n",
       "7                                                                                                                                                                                                                                                                                                                          game terribl feel cheat buy dollar like everyth promis user never ad realli terribl buy   \n",
       "8                                                                                                                                                                                                                                                                                                                                   awesom fun easi game way much money isnt near enough content game make worth $   \n",
       "9                                                                                                                                                                                                                                                                                                                                                                                   game still cost money buy game   \n",
       "\n",
       "   label_st1  \n",
       "0          1  \n",
       "1         -1  \n",
       "2          1  \n",
       "3         -1  \n",
       "4          6  \n",
       "5          8  \n",
       "6         -1  \n",
       "7          1  \n",
       "8          1  \n",
       "9          1  "
      ]
     },
     "execution_count": 83,
     "metadata": {},
     "output_type": "execute_result"
    }
   ],
   "source": [
    "data_clustered = pd.DataFrame(data = list(zip(all_intents, best_clusters_use.labels_ )) , columns=['text', 'label_st1' ] )\n",
    "\n",
    "data_clustered.head(10)"
   ]
  },
  {
   "cell_type": "code",
   "execution_count": 84,
   "id": "5806dcb7",
   "metadata": {},
   "outputs": [
    {
     "data": {
      "text/html": [
       "<div>\n",
       "<style scoped>\n",
       "    .dataframe tbody tr th:only-of-type {\n",
       "        vertical-align: middle;\n",
       "    }\n",
       "\n",
       "    .dataframe tbody tr th {\n",
       "        vertical-align: top;\n",
       "    }\n",
       "\n",
       "    .dataframe thead th {\n",
       "        text-align: right;\n",
       "    }\n",
       "</style>\n",
       "<table border=\"1\" class=\"dataframe\">\n",
       "  <thead>\n",
       "    <tr style=\"text-align: right;\">\n",
       "      <th></th>\n",
       "      <th>text</th>\n",
       "      <th>label_st1</th>\n",
       "    </tr>\n",
       "  </thead>\n",
       "  <tbody>\n",
       "    <tr>\n",
       "      <th>1990</th>\n",
       "      <td>game turd giant messi dino-turd even kid hate love dinosaur noth els say</td>\n",
       "      <td>-1</td>\n",
       "    </tr>\n",
       "    <tr>\n",
       "      <th>1991</th>\n",
       "      <td>get wrong would much like play game i 'm huge fan dehr origin deus ex also fantast pick three-bundl deus ex game sale last winter complet fulli enjoy dehr thought i 'd move origin deus ex game year edit needless say fantast enjoy seri increas deus ex invis war i 'd heard review youtub main non-ign site well ( got ta keep reeeel ) expect someth great open cutscen cool interest readi play could ...</td>\n",
       "      <td>-1</td>\n",
       "    </tr>\n",
       "    <tr>\n",
       "      <th>1992</th>\n",
       "      <td>free</td>\n",
       "      <td>1</td>\n",
       "    </tr>\n",
       "    <tr>\n",
       "      <th>1993</th>\n",
       "      <td>pretti dang lifeless get money back dog</td>\n",
       "      <td>1</td>\n",
       "    </tr>\n",
       "    <tr>\n",
       "      <th>1994</th>\n",
       "      <td>game bad feel like alot fun mobil game tho</td>\n",
       "      <td>3</td>\n",
       "    </tr>\n",
       "    <tr>\n",
       "      <th>1995</th>\n",
       "      <td>total ca n't play</td>\n",
       "      <td>3</td>\n",
       "    </tr>\n",
       "    <tr>\n",
       "      <th>1996</th>\n",
       "      <td>honest like put gun togeth disassembl game say oh boy want put togeth virtual gun '</td>\n",
       "      <td>2</td>\n",
       "    </tr>\n",
       "    <tr>\n",
       "      <th>1997</th>\n",
       "      <td>free flash game internet higher qualiti</td>\n",
       "      <td>-1</td>\n",
       "    </tr>\n",
       "    <tr>\n",
       "      <th>1998</th>\n",
       "      <td>got seri fm love addict fell seri fm hate seri fm hundr hour three various club countri etc graphical/ui updat got better everi year match engin got much wors hope thing would chang fm gave everi chanc februari let go give franchis shame</td>\n",
       "      <td>3</td>\n",
       "    </tr>\n",
       "    <tr>\n",
       "      <th>1999</th>\n",
       "      <td>love get mutliplay game close give error wast money</td>\n",
       "      <td>8</td>\n",
       "    </tr>\n",
       "  </tbody>\n",
       "</table>\n",
       "</div>"
      ],
      "text/plain": [
       "                                                                                                                                                                                                                                                                                                                                                                                                                 text  \\\n",
       "1990                                                                                                                                                                                                                                                                                                                                         game turd giant messi dino-turd even kid hate love dinosaur noth els say   \n",
       "1991  get wrong would much like play game i 'm huge fan dehr origin deus ex also fantast pick three-bundl deus ex game sale last winter complet fulli enjoy dehr thought i 'd move origin deus ex game year edit needless say fantast enjoy seri increas deus ex invis war i 'd heard review youtub main non-ign site well ( got ta keep reeeel ) expect someth great open cutscen cool interest readi play could ...   \n",
       "1992                                                                                                                                                                                                                                                                                                                                                                                                             free   \n",
       "1993                                                                                                                                                                                                                                                                                                                                                                          pretti dang lifeless get money back dog   \n",
       "1994                                                                                                                                                                                                                                                                                                                                                                       game bad feel like alot fun mobil game tho   \n",
       "1995                                                                                                                                                                                                                                                                                                                                                                                                total ca n't play   \n",
       "1996                                                                                                                                                                                                                                                                                                                              honest like put gun togeth disassembl game say oh boy want put togeth virtual gun '   \n",
       "1997                                                                                                                                                                                                                                                                                                                                                                          free flash game internet higher qualiti   \n",
       "1998                                                                                                                                                                    got seri fm love addict fell seri fm hate seri fm hundr hour three various club countri etc graphical/ui updat got better everi year match engin got much wors hope thing would chang fm gave everi chanc februari let go give franchis shame   \n",
       "1999                                                                                                                                                                                                                                                                                                                                                              love get mutliplay game close give error wast money   \n",
       "\n",
       "      label_st1  \n",
       "1990         -1  \n",
       "1991         -1  \n",
       "1992          1  \n",
       "1993          1  \n",
       "1994          3  \n",
       "1995          3  \n",
       "1996          2  \n",
       "1997         -1  \n",
       "1998          3  \n",
       "1999          8  "
      ]
     },
     "execution_count": 84,
     "metadata": {},
     "output_type": "execute_result"
    }
   ],
   "source": [
    "data_clustered.tail(10)"
   ]
  },
  {
   "cell_type": "code",
   "execution_count": 85,
   "id": "a5f5201a",
   "metadata": {},
   "outputs": [
    {
     "data": {
      "text/plain": [
       "label_st1\n",
       "-1    717\n",
       " 6    508\n",
       " 8    307\n",
       " 3    232\n",
       " 1    120\n",
       " 9     23\n",
       " 4     23\n",
       " 0     21\n",
       " 7     17\n",
       " 2     17\n",
       " 5     15\n",
       "Name: count, dtype: int64"
      ]
     },
     "execution_count": 85,
     "metadata": {},
     "output_type": "execute_result"
    }
   ],
   "source": [
    "data_clustered[\"label_st1\"].value_counts()"
   ]
  },
  {
   "cell_type": "code",
   "execution_count": 87,
   "id": "b4ea838d",
   "metadata": {},
   "outputs": [
    {
     "data": {
      "text/plain": [
       "array([ 1, -1,  1, ..., -1,  3,  8], dtype=int64)"
      ]
     },
     "execution_count": 87,
     "metadata": {},
     "output_type": "execute_result"
    }
   ],
   "source": [
    "\n",
    "best_clusters_use.labels_"
   ]
  },
  {
   "cell_type": "markdown",
   "id": "bc69684c",
   "metadata": {},
   "source": [
    "# Automatic Clustering Labeling"
   ]
  },
  {
   "cell_type": "code",
   "execution_count": 89,
   "id": "96c2cdc5",
   "metadata": {},
   "outputs": [],
   "source": [
    "#list(zip(all_intents, best_clusters_use.labels_ ))"
   ]
  },
  {
   "cell_type": "code",
   "execution_count": 90,
   "id": "3527383c",
   "metadata": {},
   "outputs": [
    {
     "data": {
      "text/html": [
       "<div>\n",
       "<style scoped>\n",
       "    .dataframe tbody tr th:only-of-type {\n",
       "        vertical-align: middle;\n",
       "    }\n",
       "\n",
       "    .dataframe tbody tr th {\n",
       "        vertical-align: top;\n",
       "    }\n",
       "\n",
       "    .dataframe thead th {\n",
       "        text-align: right;\n",
       "    }\n",
       "</style>\n",
       "<table border=\"1\" class=\"dataframe\">\n",
       "  <thead>\n",
       "    <tr style=\"text-align: right;\">\n",
       "      <th></th>\n",
       "      <th>text</th>\n",
       "      <th>label_st1</th>\n",
       "    </tr>\n",
       "  </thead>\n",
       "  <tbody>\n",
       "    <tr>\n",
       "      <th>0</th>\n",
       "      <td>use love play game fantast co-op pefect get coupl friend good time microtransact serious overkil way kill mod communiti csgo</td>\n",
       "      <td>1</td>\n",
       "    </tr>\n",
       "    <tr>\n",
       "      <th>1</th>\n",
       "      <td>want play game easi difficulti probabl good tri play hard difficulti turn imposs apart stupid tedious control respons anim ( ie charact get stuck object incred hard time decid whether go cover reload glitch realli bad lot troubl anyth run straight ) let finish game stun stupid suicid ai teammat anyth help time they ll go enemi fire die like * * * * es tri get better cover they ll keep shoot wa...</td>\n",
       "      <td>-1</td>\n",
       "    </tr>\n",
       "    <tr>\n",
       "      <th>2</th>\n",
       "      <td>bad game worth money</td>\n",
       "      <td>1</td>\n",
       "    </tr>\n",
       "    <tr>\n",
       "      <th>3</th>\n",
       "      <td>first ever game steam masterd quick scope * * * * remov sniper could glitch mistak gone game broken</td>\n",
       "      <td>-1</td>\n",
       "    </tr>\n",
       "    <tr>\n",
       "      <th>4</th>\n",
       "      <td>game one worst x-com game ever made horribl graphic annoy voic bore power weapon unlock earli in-gam make game matter paitenc window user allow see anyth top left corner sure type weapon x-com game game plain wast dollar</td>\n",
       "      <td>6</td>\n",
       "    </tr>\n",
       "  </tbody>\n",
       "</table>\n",
       "</div>"
      ],
      "text/plain": [
       "                                                                                                                                                                                                                                                                                                                                                                                                              text  \\\n",
       "0                                                                                                                                                                                                                                                                                     use love play game fantast co-op pefect get coupl friend good time microtransact serious overkil way kill mod communiti csgo   \n",
       "1  want play game easi difficulti probabl good tri play hard difficulti turn imposs apart stupid tedious control respons anim ( ie charact get stuck object incred hard time decid whether go cover reload glitch realli bad lot troubl anyth run straight ) let finish game stun stupid suicid ai teammat anyth help time they ll go enemi fire die like * * * * es tri get better cover they ll keep shoot wa...   \n",
       "2                                                                                                                                                                                                                                                                                                                                                                                             bad game worth money   \n",
       "3                                                                                                                                                                                                                                                                                                              first ever game steam masterd quick scope * * * * remov sniper could glitch mistak gone game broken   \n",
       "4                                                                                                                                                                                     game one worst x-com game ever made horribl graphic annoy voic bore power weapon unlock earli in-gam make game matter paitenc window user allow see anyth top left corner sure type weapon x-com game game plain wast dollar   \n",
       "\n",
       "   label_st1  \n",
       "0          1  \n",
       "1         -1  \n",
       "2          1  \n",
       "3         -1  \n",
       "4          6  "
      ]
     },
     "execution_count": 90,
     "metadata": {},
     "output_type": "execute_result"
    }
   ],
   "source": [
    "data_clustered = pd.DataFrame(data = list(zip(all_intents, best_clusters_use.labels_ )) , columns=['text', 'label_st1' ] )\n",
    "\n",
    "data_clustered.head()"
   ]
  },
  {
   "cell_type": "code",
   "execution_count": 93,
   "id": "5aae9010",
   "metadata": {},
   "outputs": [
    {
     "data": {
      "text/html": [
       "<div>\n",
       "<style scoped>\n",
       "    .dataframe tbody tr th:only-of-type {\n",
       "        vertical-align: middle;\n",
       "    }\n",
       "\n",
       "    .dataframe tbody tr th {\n",
       "        vertical-align: top;\n",
       "    }\n",
       "\n",
       "    .dataframe thead th {\n",
       "        text-align: right;\n",
       "    }\n",
       "</style>\n",
       "<table border=\"1\" class=\"dataframe\">\n",
       "  <thead>\n",
       "    <tr style=\"text-align: right;\">\n",
       "      <th></th>\n",
       "      <th>text</th>\n",
       "      <th>label_st1</th>\n",
       "    </tr>\n",
       "  </thead>\n",
       "  <tbody>\n",
       "    <tr>\n",
       "      <th>0</th>\n",
       "      <td>server like play bot need onlin ca n't even play /</td>\n",
       "      <td>7</td>\n",
       "    </tr>\n",
       "    <tr>\n",
       "      <th>1</th>\n",
       "      <td>game gone * * * * hacker griefer * * * * pay win charact better abil spend money beta good complet * * * *</td>\n",
       "      <td>7</td>\n",
       "    </tr>\n",
       "    <tr>\n",
       "      <th>2</th>\n",
       "      <td>swamp hackers/bott bother instal bad gamplay</td>\n",
       "      <td>7</td>\n",
       "    </tr>\n",
       "    <tr>\n",
       "      <th>3</th>\n",
       "      <td>kick suspect cheat stupid * * * * anti-cheat</td>\n",
       "      <td>7</td>\n",
       "    </tr>\n",
       "    <tr>\n",
       "      <th>4</th>\n",
       "      <td>sure game player found got poke * * * * told key map</td>\n",
       "      <td>7</td>\n",
       "    </tr>\n",
       "  </tbody>\n",
       "</table>\n",
       "</div>"
      ],
      "text/plain": [
       "                                                                                                         text  \\\n",
       "0                                                          server like play bot need onlin ca n't even play /   \n",
       "1  game gone * * * * hacker griefer * * * * pay win charact better abil spend money beta good complet * * * *   \n",
       "2                                                                swamp hackers/bott bother instal bad gamplay   \n",
       "3                                                                kick suspect cheat stupid * * * * anti-cheat   \n",
       "4                                                        sure game player found got poke * * * * told key map   \n",
       "\n",
       "   label_st1  \n",
       "0          7  \n",
       "1          7  \n",
       "2          7  \n",
       "3          7  \n",
       "4          7  "
      ]
     },
     "execution_count": 93,
     "metadata": {},
     "output_type": "execute_result"
    }
   ],
   "source": [
    "example_category = data_clustered[data_clustered['label_st1'] == 7 ].reset_index(drop = True)\n",
    "example_category.head()"
   ]
  },
  {
   "cell_type": "markdown",
   "id": "333d9402",
   "metadata": {},
   "source": [
    "Find the IDF (inverse document frequency) of every word\n",
    "Inverse document frequency looks at how common (or uncommon) a word is amongst the corpus. IDF is calculated as follows where t is the term (word) we are looking to measure the commonness of and N is the number of documents (d) in the corpus (D).. The denominator is simply the number of documents in which the term, t, appears in.\n",
    "\n"
   ]
  },
  {
   "cell_type": "code",
   "execution_count": 94,
   "id": "c702c7a1",
   "metadata": {},
   "outputs": [],
   "source": [
    "from collections import Counter\n",
    "\n",
    "sent_with_word_lemma = []\n",
    "\n",
    "for intent in all_intents:\n",
    "    doc = nlp(intent)\n",
    "    temp_sentence = \"\"\n",
    "    this_one = False\n",
    "    for token in doc:\n",
    "        if (token.pos_ in ['VERB', 'NOUN', 'ADJ'] or (token.dep_ == 'dobj' ) ):\n",
    "            temp_sentence += token.lemma_.lower() + \" \"\n",
    "    sent_with_word_lemma.append(temp_sentence)\n",
    "    "
   ]
  },
  {
   "cell_type": "code",
   "execution_count": 95,
   "id": "63e95781",
   "metadata": {},
   "outputs": [
    {
     "data": {
      "text/plain": [
       "['use love play game fantast co - op pefect get coupl friend good time microtransact serious way kill csgo ',\n",
       " 'want good play hard difficulti turn stupid tedious control respon anim get stuck object incre hard time decid go cover bad lot troubl run let finish game stun ai teammat help time will go fire die well cover will keep shoot result get knife stab time ca trust enemi come bad ai see game re know great stori get collect listen dialogu keep motiv play piec ',\n",
       " 'bad game worth money ']"
      ]
     },
     "execution_count": 95,
     "metadata": {},
     "output_type": "execute_result"
    }
   ],
   "source": [
    "sent_with_word_lemma[:3]"
   ]
  },
  {
   "cell_type": "code",
   "execution_count": 96,
   "id": "8b75f7d7",
   "metadata": {},
   "outputs": [
    {
     "data": {
      "text/plain": [
       "{'game': 5,\n",
       " 'csgo': 12,\n",
       " 'way': 8,\n",
       " 'friend': 9,\n",
       " 'time': 7,\n",
       " 'kill': 9,\n",
       " 'coupl': 11,\n",
       " 'good': 7,\n",
       " 'play': 6,\n",
       " 'serious': 10,\n",
       " 'fantast': 13,\n",
       " 'use': 8,\n",
       " 'get': 7,\n",
       " '-': 9,\n",
       " 'op': 11,\n",
       " 'co': 11,\n",
       " 'pefect': 15,\n",
       " 'microtransact': 11,\n",
       " 'love': 9,\n",
       " 're': 10,\n",
       " 'control': 8,\n",
       " 'stupid': 10,\n",
       " 'die': 9,\n",
       " 'piec': 12,\n",
       " 'fire': 11,\n",
       " 'bad': 7,\n",
       " 'incre': 10,\n",
       " 'motiv': 14,\n",
       " 'stuck': 11,\n",
       " 'cover': 11,\n",
       " 'turn': 9,\n",
       " 'help': 9,\n",
       " 'hard': 9,\n",
       " 'difficulti': 11,\n",
       " 'result': 11,\n",
       " 'troubl': 12,\n",
       " 'anim': 11,\n",
       " 'teammat': 13,\n",
       " 'object': 11,\n",
       " 'keep': 9,\n",
       " 'stori': 8,\n",
       " 'come': 8,\n",
       " 'will': 9,\n",
       " 'dialogu': 12,\n",
       " 'know': 8,\n",
       " 'let': 9,\n",
       " 'lot': 9,\n",
       " 'great': 8,\n",
       " 'decid': 11,\n",
       " 'want': 8,\n",
       " 'respon': 12,\n",
       " 'tedious': 12,\n",
       " 'ca': 8,\n",
       " 'see': 8,\n",
       " 'well': 8,\n",
       " 'stab': 14,\n",
       " 'enemi': 10,\n",
       " 'knife': 13,\n",
       " 'finish': 10,\n",
       " 'ai': 10,\n",
       " 'stun': 13,\n",
       " 'collect': 11,\n",
       " 'listen': 12,\n",
       " 'run': 8,\n",
       " 'go': 7,\n",
       " 'shoot': 10,\n",
       " 'trust': 12,\n",
       " 'worth': 8,\n",
       " 'money': 8,\n",
       " 'quick': 10,\n",
       " 'could': 8,\n",
       " 'remov': 12,\n",
       " 'glitch': 11,\n",
       " 'steam': 9,\n",
       " 'masterd': 15,\n",
       " 'break': 9,\n",
       " 'sniper': 13,\n",
       " 'scope': 13,\n",
       " 'com': 13,\n",
       " 'corner': 12,\n",
       " 'anyth': 9,\n",
       " 'power': 11,\n",
       " 'user': 11,\n",
       " 'make': 7,\n",
       " 'wast': 9,\n",
       " 'allow': 10,\n",
       " 'window': 10,\n",
       " 'type': 10,\n",
       " 'left': 11,\n",
       " 'sure': 10,\n",
       " 'x': 12,\n",
       " 'top': 10,\n",
       " 'plain': 12,\n",
       " 'dollar': 11,\n",
       " 'weapon': 10,\n",
       " 'bug': 9,\n",
       " 'trigger': 13,\n",
       " 'afterthought': 15,\n",
       " 'exit': 12,\n",
       " 'side': 10,\n",
       " 'solder': 15,\n",
       " 'next': 10,\n",
       " 'sequence': 15,\n",
       " 'can': 8,\n",
       " 'enough': 9,\n",
       " 'guess': 10,\n",
       " 'instanc': 14,\n",
       " 'mission': 10,\n",
       " 'buy': 7,\n",
       " 'particular': 11,\n",
       " 'compar': 10,\n",
       " 'captain': 14,\n",
       " 'encount': 12,\n",
       " 'mani': 11,\n",
       " 'due': 10,\n",
       " 'complet': 8,\n",
       " 'relea': 9,\n",
       " 'load': 10,\n",
       " 'test': 12,\n",
       " 'block': 12,\n",
       " 'event': 11,\n",
       " 've': 9,\n",
       " 'patch': 10,\n",
       " 'requir': 10,\n",
       " 'level': 8,\n",
       " 'start': 8,\n",
       " 'point': 8,\n",
       " 'poor': 9,\n",
       " 'companion': 12,\n",
       " 'disgust': 13,\n",
       " 'stop': 9,\n",
       " 'may': 8,\n",
       " 'fulli': 13,\n",
       " 'reach': 11,\n",
       " 'uninstal': 11,\n",
       " 'scenario': 12,\n",
       " 'intro': 14,\n",
       " 'meet': 12,\n",
       " 'noobi': 14,\n",
       " 'littl': 11,\n",
       " 'feel': 8,\n",
       " 'add': 10,\n",
       " 'problem': 9,\n",
       " 'everyon': 11,\n",
       " 'leave': 10,\n",
       " 'oppon': 14,\n",
       " 'especi': 11,\n",
       " 'dead': 10,\n",
       " 'regret': 12,\n",
       " 'provid': 13,\n",
       " 'usual': 11,\n",
       " 'insult': 13,\n",
       " 'find': 8,\n",
       " 'injuri': 15,\n",
       " 'surviv': 11,\n",
       " 'possibl': 13,\n",
       " 'end': 8,\n",
       " 'script': 12,\n",
       " 'mode': 10,\n",
       " 'take': 8,\n",
       " 'mage': 14,\n",
       " 'true': 11,\n",
       " 'alon': 11,\n",
       " 'newli': 15,\n",
       " 'replac': 13,\n",
       " 'set': 9,\n",
       " 'mean': 9,\n",
       " 'much': 8,\n",
       " 'cheat': 11,\n",
       " 'content': 10,\n",
       " 'cost': 10,\n",
       " 'highlight': 13,\n",
       " 'wor': 10,\n",
       " 'keyboard': 10,\n",
       " 'pain': 11,\n",
       " 'suffer': 11,\n",
       " 'shortcut': 15,\n",
       " 'system': 9,\n",
       " 'option': 9,\n",
       " 'differ': 9,\n",
       " 'version': 10,\n",
       " 'fact': 9,\n",
       " 'avail': 11,\n",
       " 'recommend': 8,\n",
       " 'display': 12,\n",
       " 'choic': 11,\n",
       " 'click': 10,\n",
       " 'predecessor': 14,\n",
       " 'give': 8,\n",
       " 'hope': 10,\n",
       " 'must': 10,\n",
       " 'navig': 13,\n",
       " 'non': 11,\n",
       " 'glare': 14,\n",
       " 'menu': 10,\n",
       " 'free': 9,\n",
       " 'law': 15,\n",
       " 'android': 14,\n",
       " 'think': 8,\n",
       " 'mother': 13,\n",
       " 'tldr': 12,\n",
       " 'bundl': 13,\n",
       " 'group': 12,\n",
       " 'age': 11,\n",
       " 'crash': 9,\n",
       " 'short': 9,\n",
       " 'style': 10,\n",
       " 'tear': 13,\n",
       " 'hear': 10,\n",
       " 'comput': 10,\n",
       " 'reward': 11,\n",
       " 'constant': 10,\n",
       " 'restart': 12,\n",
       " 'screen': 9,\n",
       " 'super': 12,\n",
       " 'cool': 10,\n",
       " 'annoy': 12,\n",
       " 'hot': 13,\n",
       " 'say': 7,\n",
       " 'instant': 12,\n",
       " 'job': 11,\n",
       " 'anymor': 11,\n",
       " 'stand': 10,\n",
       " 'open': 10,\n",
       " 'world': 10,\n",
       " 'cri': 13,\n",
       " 'mayb': 10,\n",
       " 'funner': 15,\n",
       " 'realli': 9,\n",
       " 'do': 9,\n",
       " 'hour': 8,\n",
       " 'update': 15,\n",
       " 'support': 9,\n",
       " 'platform': 10,\n",
       " 'dlc': 10,\n",
       " 'batch': 14,\n",
       " 'terribl': 11,\n",
       " 'pc': 9,\n",
       " 'none': 11,\n",
       " 'port': 10,\n",
       " 'fix': 9,\n",
       " 'drop': 10,\n",
       " 'second': 9,\n",
       " 'depth': 11,\n",
       " 'offer': 10,\n",
       " 'combat': 9,\n",
       " 'engag': 12,\n",
       " 'appreci': 15,\n",
       " 'press': 11,\n",
       " 'would': 7,\n",
       " 'rememb': 11,\n",
       " 'amount': 9,\n",
       " 'record': 12,\n",
       " 'rider': 14,\n",
       " 'look': 8,\n",
       " 'path': 12,\n",
       " 'experi': 11,\n",
       " 'wonder': 11,\n",
       " 'notic': 11,\n",
       " 'auto': 12,\n",
       " 'neverwint': 15,\n",
       " 'excit': 12,\n",
       " 'fetch': 13,\n",
       " 'itsuck': 15,\n",
       " 'ballsssssssssssss': 15,\n",
       " 'laughter': 15,\n",
       " 'chiant': 15,\n",
       " 'adapt': 15,\n",
       " 'face': 11,\n",
       " 'chain': 14,\n",
       " 'malheureu': 15,\n",
       " 'ooz': 15,\n",
       " 'enjoy': 9,\n",
       " 'dossier': 14,\n",
       " 'rigol': 15,\n",
       " 'understand': 10,\n",
       " 'qui': 15,\n",
       " 'basic': 9,\n",
       " 'useless': 11,\n",
       " \"c'est\": 15,\n",
       " 'vraiment': 15,\n",
       " 'lie': 11,\n",
       " 'main': 9,\n",
       " 'shadow': 12,\n",
       " 'jeu': 15,\n",
       " 'reason': 9,\n",
       " 'qu': 15,\n",
       " 'bite': 13,\n",
       " 'considéré': 15,\n",
       " 'mon': 14,\n",
       " 'high': 9,\n",
       " 'actual': 8,\n",
       " 'tirer': 15,\n",
       " 'smoke': 13,\n",
       " 'peopl': 8,\n",
       " 'tout': 15,\n",
       " 'black': 10,\n",
       " 'charact': 9,\n",
       " 'sheer': 13,\n",
       " 'interest': 9,\n",
       " 'avaient': 15,\n",
       " 'sleep': 13,\n",
       " 'someon': 10,\n",
       " 'difficil': 15,\n",
       " 'profound': 15,\n",
       " 'dumb': 11,\n",
       " 'girl': 12,\n",
       " 'énigm': 15,\n",
       " 'est': 15,\n",
       " 'feed': 13,\n",
       " 'draw': 12,\n",
       " 'entir': 11,\n",
       " 'bous': 15,\n",
       " 'matter': 11,\n",
       " 'conneri': 15,\n",
       " 'crap': 11,\n",
       " 'graphic': 9,\n",
       " 'pretti': 9,\n",
       " 'shooter': 11,\n",
       " 'everyth': 9,\n",
       " 'medium': 14,\n",
       " 'new': 8,\n",
       " 'vsync': 14,\n",
       " 'okay': 13,\n",
       " 'communiti': 12,\n",
       " 'gun': 10,\n",
       " 'low': 10,\n",
       " 'valv': 14,\n",
       " 'unit': 11,\n",
       " 'fun': 8,\n",
       " 'titl': 10,\n",
       " 'diver': 12,\n",
       " 'refund': 10,\n",
       " 'sinc': 10,\n",
       " 'simpli': 11,\n",
       " 'effect': 10,\n",
       " 'unbear': 13,\n",
       " 'space': 10,\n",
       " 'commodor': 15,\n",
       " 'scroll': 12,\n",
       " 'languag': 13,\n",
       " 'hundr': 13,\n",
       " 'day': 9,\n",
       " 'cutscen': 12,\n",
       " 'impress': 11,\n",
       " 'old': 9,\n",
       " 'foreign': 15,\n",
       " 'request': 12,\n",
       " 'spend': 9,\n",
       " 'watch': 11,\n",
       " 'daughter': 14,\n",
       " 'sit': 11,\n",
       " 'move': 9,\n",
       " 'scumbag': 15,\n",
       " 'follow': 11,\n",
       " 'sever': 11,\n",
       " 'key': 10,\n",
       " 'icon': 13,\n",
       " 'featur': 11,\n",
       " 'previous': 10,\n",
       " 'digit': 13,\n",
       " 'expect': 9,\n",
       " 'buddi': 13,\n",
       " 'complain': 12,\n",
       " '-coldplay': 15,\n",
       " 'wish': 11,\n",
       " 'beat': 10,\n",
       " \"'d\": 9,\n",
       " 'lack': 9,\n",
       " 'final': 10,\n",
       " 'chastis': 15,\n",
       " 'random': 10,\n",
       " 'leav': 11,\n",
       " 'similar': 11,\n",
       " 'colleg': 14,\n",
       " 'hous': 11,\n",
       " 'art': 10,\n",
       " 'walk': 10,\n",
       " 'person': 9,\n",
       " 'show': 10,\n",
       " 'thing': 8,\n",
       " 'flat': 12,\n",
       " 'bore': 10,\n",
       " 'generic': 12,\n",
       " 'unfinish': 12,\n",
       " 'arena': 13,\n",
       " 'full': 9,\n",
       " 'access': 11,\n",
       " 'wave': 13,\n",
       " 'theme': 12,\n",
       " 'grimm': 15,\n",
       " 'conti': 15,\n",
       " 'base': 10,\n",
       " 'action': 10,\n",
       " 'seri': 11,\n",
       " 'attack': 10,\n",
       " 'defend': 13,\n",
       " 'whole': 10,\n",
       " 'real': 9,\n",
       " 'optim': 11,\n",
       " 'anoth': 9,\n",
       " 'year': 9,\n",
       " 'gon': 11,\n",
       " 'ridicul': 12,\n",
       " 'half': 10,\n",
       " 'ruin': 11,\n",
       " 'milk': 14,\n",
       " 'hate': 10,\n",
       " 'total': 10,\n",
       " 'stealth': 13,\n",
       " 'imposs': 11,\n",
       " 'yea': 14,\n",
       " 'pay': 8,\n",
       " 'favor': 12,\n",
       " 'extra': 11,\n",
       " 'avoid': 11,\n",
       " 'educ': 14,\n",
       " 'pretty': 15,\n",
       " 'card': 10,\n",
       " 'prequel': 15,\n",
       " 'quaint': 15,\n",
       " 'bear': 10,\n",
       " 'unplay': 10,\n",
       " 'lag': 11,\n",
       " 'rate': 10,\n",
       " 'driver': 13,\n",
       " 'mileag': 15,\n",
       " 'vari': 13,\n",
       " 'idea': 9,\n",
       " 'broken': 11,\n",
       " 'cent': 13,\n",
       " 'proceed': 13,\n",
       " 'work': 8,\n",
       " 'drive': 10,\n",
       " 'horribl': 13,\n",
       " 'stay': 10,\n",
       " 'reccomend': 11,\n",
       " 'seem': 8,\n",
       " 'rare': 11,\n",
       " 'race': 11,\n",
       " 'diaster': 15,\n",
       " 'arcadish': 15,\n",
       " 'arcad': 13,\n",
       " 'deep': 11,\n",
       " 'comparison': 13,\n",
       " 'episod': 13,\n",
       " 'retail': 14,\n",
       " 'minut': 10,\n",
       " 'vive': 14,\n",
       " 'price': 9,\n",
       " 'doubt': 12,\n",
       " 'risk': 12,\n",
       " 'prompt': 12,\n",
       " 'anyon': 11,\n",
       " 'pull': 12,\n",
       " 'one': 10,\n",
       " 'save': 9,\n",
       " 'refu': 13,\n",
       " 'datum': 13,\n",
       " 'line': 11,\n",
       " 'purcha': 10,\n",
       " 'perform': 11,\n",
       " 'lose': 9,\n",
       " 'report': 12,\n",
       " 'treatment': 14,\n",
       " 'put': 9,\n",
       " 'list': 10,\n",
       " 'expen': 11,\n",
       " 'bottom': 13,\n",
       " 'howev': 10,\n",
       " 'communic': 14,\n",
       " 'other': 10,\n",
       " 'area': 11,\n",
       " 'zoom': 13,\n",
       " 'design': 10,\n",
       " 'campaign': 11,\n",
       " 'general': 12,\n",
       " 'limit': 10,\n",
       " 'gamessham': 15,\n",
       " 'playabl': 11,\n",
       " 'm': 11,\n",
       " 'build': 10,\n",
       " 'armi': 15,\n",
       " 'faction': 12,\n",
       " 'map': 9,\n",
       " 'macro': 15,\n",
       " 'regard': 11,\n",
       " 'fan': 10,\n",
       " 'close': 10,\n",
       " 'weak': 11,\n",
       " 'form': 12,\n",
       " 'provinc': 15,\n",
       " 'joke': 11,\n",
       " 'death': 10,\n",
       " 'float': 13,\n",
       " 'mindless': 14,\n",
       " 'mindnumbl': 15,\n",
       " 'modern': 12,\n",
       " 'model': 11,\n",
       " 'bland': 12,\n",
       " 'fight': 9,\n",
       " 'touch': 11,\n",
       " 'stamina': 14,\n",
       " '-alanrunsasfastasareallyfatchainsmokinghalfdeadwhal': 15,\n",
       " 'bonus': 13,\n",
       " 'mysteri': 14,\n",
       " 'mention': 10,\n",
       " 'utter': 11,\n",
       " 'pro': 10,\n",
       " '-interest': 15,\n",
       " 'slack': 15,\n",
       " 'front': 12,\n",
       " 'creativ': 13,\n",
       " 'recycl': 14,\n",
       " 'pure': 12,\n",
       " 'multi': 13,\n",
       " 'omdu': 15,\n",
       " 'place': 10,\n",
       " 'prefac': 14,\n",
       " 'bit': 9,\n",
       " 'crazi': 12,\n",
       " 'recent': 11,\n",
       " 'beta': 11,\n",
       " 'strike': 12,\n",
       " 'wait': 9,\n",
       " 'alien': 14,\n",
       " 'trap': 12,\n",
       " 'box': 11,\n",
       " 'liter': 11,\n",
       " 'ad': 10,\n",
       " 'fair': 11,\n",
       " 'disappoint': 11,\n",
       " 'player': 8,\n",
       " 'greed': 14,\n",
       " 'audio': 11,\n",
       " 'gaming': 15,\n",
       " 'right': 9,\n",
       " 'decent': 10,\n",
       " 'bash': 14,\n",
       " 'number': 11,\n",
       " 'damag': 11,\n",
       " 'shift': 13,\n",
       " 'boxing': 15,\n",
       " 'creat': 11,\n",
       " 'focus': 12,\n",
       " 'robot': 13,\n",
       " 'perfect': 11,\n",
       " 'mor': 15,\n",
       " 'big': 9,\n",
       " 'pick': 10,\n",
       " 'today': 12,\n",
       " 'omd': 15,\n",
       " 'absolut': 11,\n",
       " 'freedom': 13,\n",
       " 'attent': 12,\n",
       " 'rebuild': 14,\n",
       " 'happen': 9,\n",
       " 'huge': 10,\n",
       " 'trade': 11,\n",
       " 'alot': 12,\n",
       " 'suffici': 15,\n",
       " 'ezpz': 15,\n",
       " 'nerf': 14,\n",
       " 'server': 10,\n",
       " 'strenghten': 15,\n",
       " 'addit': 11,\n",
       " 'cycl': 12,\n",
       " 'conclus': 13,\n",
       " 'question': 11,\n",
       " 'satisfact': 13,\n",
       " 'ish': 13,\n",
       " 'utmost': 15,\n",
       " 'obvious': 11,\n",
       " 'respec': 15,\n",
       " 'live': 11,\n",
       " 'first': 8,\n",
       " 'increa': 11,\n",
       " 'endgam': 15,\n",
       " 'consid': 11,\n",
       " 'trashtier': 15,\n",
       " 'farm': 12,\n",
       " 'market': 11,\n",
       " 'massiv': 12,\n",
       " 'exil': 15,\n",
       " 'frustrat': 10,\n",
       " 'facebreak': 15,\n",
       " 'suffic': 15,\n",
       " 'starter': 14,\n",
       " 'blade': 14,\n",
       " 'cur': 13,\n",
       " 'eta': 15,\n",
       " 'ingamecurr': 15,\n",
       " 'ignor': 12,\n",
       " 'gem': 13,\n",
       " 'multithread': 15,\n",
       " 'meta': 14,\n",
       " 'most': 11,\n",
       " 'scale': 11,\n",
       " 'room': 11,\n",
       " 'infect': 14,\n",
       " 'gather': 13,\n",
       " 'xbox': 13,\n",
       " 'long': 9,\n",
       " 'special': 11,\n",
       " 'b': 12,\n",
       " 'kit': 14,\n",
       " 'bile': 15,\n",
       " 'explor': 11,\n",
       " 'prefer': 12,\n",
       " 'runner': 15,\n",
       " 'health': 11,\n",
       " 'quot': 14,\n",
       " 'spawn': 12,\n",
       " 'pipe': 15,\n",
       " 'saw': 13,\n",
       " 'hunter': 14,\n",
       " 'jar': 14,\n",
       " 'team': 10,\n",
       " 'pounc': 15,\n",
       " 'stuff': 9,\n",
       " 'speed': 11,\n",
       " 'bomb': 13,\n",
       " 'playtim': 13,\n",
       " 'mini': 14,\n",
       " 'rest': 10,\n",
       " 'throw': 10,\n",
       " 'various': 11,\n",
       " 'hack': 12,\n",
       " 'jump': 10,\n",
       " 'farfetch': 15,\n",
       " 'scene': 11,\n",
       " 'detail': 11,\n",
       " 'equip': 13,\n",
       " 'large': 13,\n",
       " 'import': 11,\n",
       " 'swing': 13,\n",
       " 'extrem': 10,\n",
       " 'downsid': 15,\n",
       " 'sound': 10,\n",
       " 'saver': 14,\n",
       " 'anticip': 15,\n",
       " 'water': 11,\n",
       " 'weight': 13,\n",
       " 'disappear': 12,\n",
       " 'begin': 10,\n",
       " 'potion': 14,\n",
       " 'plan': 11,\n",
       " 'encumb': 15,\n",
       " 'prison': 14,\n",
       " 'quit': 9,\n",
       " '%': 10,\n",
       " 'concept': 11,\n",
       " 'armor': 12,\n",
       " 's': 12,\n",
       " 'definit': 11,\n",
       " 'pathway': 15,\n",
       " 'blow': 12,\n",
       " 'factor': 15,\n",
       " 'boss': 10,\n",
       " 'thief': 13,\n",
       " 'deal': 11,\n",
       " 'circl': 13,\n",
       " 'major': 11,\n",
       " 'explain': 11,\n",
       " 'glove': 15,\n",
       " 'backtrack': 14,\n",
       " 'wind': 12,\n",
       " 'injur': 15,\n",
       " 'dramat': 14,\n",
       " 'medic': 14,\n",
       " 'slash': 14,\n",
       " 'monster': 11,\n",
       " 'benefit': 12,\n",
       " 'posit': 11,\n",
       " 'probabl': 10,\n",
       " 'us': 15,\n",
       " 'muggi': 15,\n",
       " 'gate': 13,\n",
       " 'read': 10,\n",
       " 'choos': 14,\n",
       " 'revolv': 14,\n",
       " 'soul': 12,\n",
       " 'antana': 15,\n",
       " 'skill': 10,\n",
       " 'locat': 13,\n",
       " 'dark': 11,\n",
       " 'slow': 10,\n",
       " 'need': 9,\n",
       " 'fall': 10,\n",
       " 'absorb': 15,\n",
       " 'nasti': 14,\n",
       " 'part': 9,\n",
       " 'includ': 12,\n",
       " 'download': 10,\n",
       " 'edit': 10,\n",
       " 'con': 11,\n",
       " 'gold': 12,\n",
       " 'sen': 11,\n",
       " 'select': 11,\n",
       " 'victori': 14,\n",
       " 'exact': 10,\n",
       " 'univers': 15,\n",
       " 'ridiculu': 15,\n",
       " 'nice': 10,\n",
       " 'order': 11,\n",
       " 'credit': 11,\n",
       " 'deck': 12,\n",
       " 'conce': 15,\n",
       " 'pass': 11,\n",
       " 'unplea': 14,\n",
       " 'mistaken': 14,\n",
       " 'worri': 14,\n",
       " 'f': 11,\n",
       " 'tutori': 11,\n",
       " 'fail': 10,\n",
       " 'virtual': 12,\n",
       " 'singl': 10,\n",
       " 'kick': 11,\n",
       " 'extent': 13,\n",
       " 'overal': 10,\n",
       " 'giver': 15,\n",
       " 'session': 13,\n",
       " 'chalk': 14,\n",
       " 'cut': 11,\n",
       " 'review': 9,\n",
       " 'loading': 15,\n",
       " 'tabl': 12,\n",
       " '*': 13,\n",
       " 'knit': 15,\n",
       " 'unavoid': 14,\n",
       " 'bring': 10,\n",
       " 'univer': 12,\n",
       " 'everi': 10,\n",
       " 'everth': 14,\n",
       " 'current': 10,\n",
       " 'goof': 15,\n",
       " 'cinemat': 13,\n",
       " 'normal': 11,\n",
       " 'escap': 13,\n",
       " 'less': 10,\n",
       " 'delet': 12,\n",
       " 'host': 12,\n",
       " 'tri': 10,\n",
       " 'etc': 12,\n",
       " 'prior': 15,\n",
       " 'hdd': 14,\n",
       " 'mere': 13,\n",
       " 'suggest': 12,\n",
       " 'date': 11,\n",
       " 'origin': 10,\n",
       " 'inher': 15,\n",
       " 'smash': 13,\n",
       " 'larg': 12,\n",
       " 'entertain': 12,\n",
       " 'setter': 15,\n",
       " 'trend': 14,\n",
       " 'join': 11,\n",
       " 'gameplay': 9,\n",
       " 'pointless': 11,\n",
       " 'hit': 9,\n",
       " 'fault': 12,\n",
       " 'later': 12,\n",
       " 'retro': 14,\n",
       " 'accompolish': 15,\n",
       " 'admit': 12,\n",
       " 'amus': 13,\n",
       " 'queue': 13,\n",
       " 'intrin': 14,\n",
       " 'gta': 14,\n",
       " 'respect': 12,\n",
       " 'recomend': 11,\n",
       " 'anybodi': 15,\n",
       " 'annom': 15,\n",
       " 'spell': 13,\n",
       " 'reposit': 14,\n",
       " 'sourc': 14,\n",
       " 'island': 13,\n",
       " 'overcom': 15,\n",
       " 'defen': 13,\n",
       " 'landmass': 15,\n",
       " 'shortcom': 15,\n",
       " 'sell': 10,\n",
       " 'last': 9,\n",
       " 'contain': 13,\n",
       " 'reduc': 13,\n",
       " 'eat': 11,\n",
       " 'nee': 11,\n",
       " 'guardian': 15,\n",
       " 'extend': 13,\n",
       " 'least': 9,\n",
       " 'heal': 13,\n",
       " 'sudden': 12,\n",
       " 'despit': 12,\n",
       " 'trial': 12,\n",
       " 'optimis': 14,\n",
       " 'viabl': 14,\n",
       " 'advanc': 12,\n",
       " 'progress': 10,\n",
       " 'transit': 14,\n",
       " 'aim': 12,\n",
       " 'height': 13,\n",
       " 'fruit': 15,\n",
       " 'pest': 15,\n",
       " 'lead': 11,\n",
       " 'threat': 13,\n",
       " 'regular': 12,\n",
       " 'foliag': 14,\n",
       " 'product': 10,\n",
       " 'error': 11,\n",
       " 'develop': 9,\n",
       " 'backstori': 14,\n",
       " 'overlook': 14,\n",
       " 'choo': 11,\n",
       " 'effort': 11,\n",
       " 'tree': 12,\n",
       " 'straw': 13,\n",
       " 'size': 12,\n",
       " 'upgrad': 11,\n",
       " 'tell': 9,\n",
       " 'livestock': 15,\n",
       " 'plant': 13,\n",
       " 'grow': 11,\n",
       " 'plot': 11,\n",
       " 'placement': 14,\n",
       " 'biomass': 15,\n",
       " 'frequent': 12,\n",
       " 'populus': 15,\n",
       " 'flame': 14,\n",
       " 'forgive': 14,\n",
       " 'process': 11,\n",
       " 'destroy': 11,\n",
       " 'amiga': 15,\n",
       " 'explan': 12,\n",
       " 'danger': 12,\n",
       " 'tire': 12,\n",
       " 'mim': 15,\n",
       " 'mous': 10,\n",
       " 'score': 12,\n",
       " 'achiev': 11,\n",
       " 'attempt': 10,\n",
       " 'reject': 15,\n",
       " 'skew': 15,\n",
       " 'strategi': 11,\n",
       " 'mathemat': 15,\n",
       " 'atleast': 14,\n",
       " 'ther': 15,\n",
       " 'past': 11,\n",
       " 'smooth': 12,\n",
       " 'rocksteadi': 14,\n",
       " 'overview': 15,\n",
       " 'hell': 11,\n",
       " 'repeat': 11,\n",
       " 'dull': 11,\n",
       " 'door': 12,\n",
       " 'ånus': 15,\n",
       " 'burnout': 14,\n",
       " 'file': 11,\n",
       " 'freddi': 14,\n",
       " 'onlin': 13,\n",
       " 'undertal': 14,\n",
       " 'trash': 11,\n",
       " 'reinstal': 13,\n",
       " 'night': 11,\n",
       " 'cach': 14,\n",
       " 'btw': 14,\n",
       " 'goe': 14,\n",
       " 'opinion': 10,\n",
       " 'wotlk': 15,\n",
       " 'twitch': 15,\n",
       " 'streamer': 15,\n",
       " 'drain': 13,\n",
       " 'paperweight': 15,\n",
       " 'figur': 11,\n",
       " 'wallet': 13,\n",
       " 'shutdown': 15,\n",
       " 'addict': 13,\n",
       " 'drunk': 12,\n",
       " 'ultimat': 15,\n",
       " 'town': 12,\n",
       " 'function': 12,\n",
       " 'that': 14,\n",
       " 'cancel': 14,\n",
       " 'unfortun': 12,\n",
       " 'simul': 11,\n",
       " 'citiesxl': 15,\n",
       " 'ok': 13,\n",
       " 'grey': 15,\n",
       " 'ship': 11,\n",
       " 'color': 12,\n",
       " 'noth': 10,\n",
       " 'liveless': 15,\n",
       " 'dodg': 12,\n",
       " 'hold': 11,\n",
       " 'ask': 10,\n",
       " 'workaround': 15,\n",
       " 'c': 12,\n",
       " 'unachiev': 15,\n",
       " 'z': 14,\n",
       " 'releas': 15,\n",
       " 'brainless': 14,\n",
       " 'mind': 10,\n",
       " 'goal': 12,\n",
       " 'direct': 10,\n",
       " 'luck': 11,\n",
       " 'kickass': 15,\n",
       " 'item': 10,\n",
       " 'act': 11,\n",
       " 'button': 11,\n",
       " 'ea': 13,\n",
       " 'rave': 15,\n",
       " 'suck': 10,\n",
       " 'funct': 15,\n",
       " 'state': 11,\n",
       " 'relat': 13,\n",
       " 'instal': 11,\n",
       " 'besid': 12,\n",
       " 'emotionless': 15,\n",
       " 'check': 11,\n",
       " 'guy': 10,\n",
       " 'steampunk': 15,\n",
       " 'be': 10,\n",
       " 'goy': 15,\n",
       " 'singleplay': 13,\n",
       " 'month': 10,\n",
       " 'endless': 12,\n",
       " 'loop': 13,\n",
       " 'bill': 15,\n",
       " 'discov': 13,\n",
       " 'artwork': 14,\n",
       " 'fier': 15,\n",
       " 'sword': 12,\n",
       " 'mash': 14,\n",
       " 'weekend': 13,\n",
       " 'repetit': 12,\n",
       " 'case': 11,\n",
       " 'like': 10,\n",
       " 'awesom': 12,\n",
       " 'longggggg': 15,\n",
       " 'dute': 15,\n",
       " 'lovee': 15,\n",
       " 'shot': 11,\n",
       " 'e': 10,\n",
       " 'pe': 15,\n",
       " 'clone': 13,\n",
       " 'hideous': 15,\n",
       " 'have': 11,\n",
       " 'everytim': 12,\n",
       " 'monochromat': 15,\n",
       " 'gray': 15,\n",
       " 'gam': 12,\n",
       " 'blue': 14,\n",
       " 'disabl': 12,\n",
       " 'manual': 13,\n",
       " 'difficult': 10,\n",
       " 'unskipp': 15,\n",
       " 'dpi': 14,\n",
       " 'sometim': 11,\n",
       " 'compat': 14,\n",
       " 'stretch': 13,\n",
       " 'length': 13,\n",
       " 'public': 12,\n",
       " 'ban': 12,\n",
       " 'stick': 10,\n",
       " 'competit': 14,\n",
       " 'vote': 13,\n",
       " 'match': 10,\n",
       " 'implement': 12,\n",
       " 'solv': 12,\n",
       " 'easi': 12,\n",
       " 'doubl': 12,\n",
       " 'consit': 15,\n",
       " 'v': 13,\n",
       " 'element': 11,\n",
       " 'bot': 12,\n",
       " 'subedit-': 15,\n",
       " '#': 14,\n",
       " 'massivli': 15,\n",
       " 'pve': 14,\n",
       " 'sprint': 13,\n",
       " 'multiplay': 10,\n",
       " 'disconnect': 13,\n",
       " 'artileri': 15,\n",
       " 'pow': 13,\n",
       " 'emerald': 15,\n",
       " 'learn': 10,\n",
       " 'obtain': 13,\n",
       " 'seper': 14,\n",
       " 'sonic': 15,\n",
       " 'hide': 11,\n",
       " 'hidden': 14,\n",
       " 'care': 10,\n",
       " 'plea': 10,\n",
       " 'yesterdi': 15,\n",
       " 'yesterday': 14,\n",
       " 'arma': 13,\n",
       " 'appar': 13,\n",
       " 'fine': 10,\n",
       " 'launcher': 13,\n",
       " 'marksman': 15,\n",
       " 'corrupt': 13,\n",
       " ...}"
      ]
     },
     "execution_count": 96,
     "metadata": {},
     "output_type": "execute_result"
    }
   ],
   "source": [
    "def compute_IDF(documents):\n",
    "    \"\"\"\n",
    "    Computes the IDF (Inverse Document Frequency) values for words in a collection of documents.\n",
    "\n",
    "    Args:\n",
    "        documents (List[str]): List of documents.\n",
    "\n",
    "    Returns:\n",
    "        dict: Dictionary mapping words to their IDF values.\n",
    "\n",
    "    \"\"\"\n",
    "    word_count = Counter()\n",
    "    for doc in documents:\n",
    "        if 'drops(players' in doc:\n",
    "            print(doc)\n",
    "        word_set = set(doc.split())\n",
    "        word_count.update(word_set)\n",
    "    # print(word_count)\n",
    "    total = sum(word_count.values())\n",
    "    word_IDF = {k : round(( np.log2(total / v ) )) for k, v in word_count.items() }\n",
    "    return word_IDF\n",
    "\n",
    "word_IDF = compute_IDF(sent_with_word_lemma)\n",
    "word_IDF\n",
    "        "
   ]
  },
  {
   "cell_type": "markdown",
   "id": "850a4a1a",
   "metadata": {},
   "source": [
    "# Automatic cluster labeling\n"
   ]
  },
  {
   "cell_type": "markdown",
   "id": "d541fe6c",
   "metadata": {},
   "source": [
    "### Here we’ll concatenate the most common verb, direct object, and top two nouns from each cluster for our Automatic cluster labeling."
   ]
  },
  {
   "cell_type": "code",
   "execution_count": 97,
   "id": "b8102f68",
   "metadata": {},
   "outputs": [],
   "source": [
    "def get_group(df, category_col, category ):\n",
    "    \"\"\"\n",
    "    The get_group function takes a DataFrame (df), a category column name (category_col), and a category value (category) as inputs. It filters the DataFrame based on the specified category and returns a subset of the DataFrame containing only the rows with that category.\n",
    "\n",
    "    Args:\n",
    "        df (pd.DataFrame): DataFrame to filter.\n",
    "        category_col (str): Name of the column containing the category.\n",
    "        category: Category value to filter on.\n",
    "\n",
    "    Returns:\n",
    "        pd.DataFrame: Subset of the DataFrame with the specified category.\n",
    "\n",
    "    \"\"\"\n",
    "    single_category = df[df[category_col] == category ].reset_index(drop = True)\n",
    "    return single_category\n",
    "\n",
    "\n",
    "def most_common(lst, n_words ):\n",
    "    \"\"\"\n",
    "    This function takes a list of words (lst) and the number of top common words to return (n_words). It uses the collections.Counter class to count the occurrences of each word in the list. If a word appears more than once (counter[k] > 1), it multiplies its count by the corresponding IDF value (word_IDF[k]). Finally, the function returns a list of tuples representing the n most common words and their counts, obtained using the counter.most_common(n_words) method.\n",
    "    \n",
    "    Arguments:\n",
    "        lst: list, each element is a word\n",
    "        n_words: number of top common words to return\n",
    "    \n",
    "    Returns:\n",
    "        counter.most_common(n_words): counter object of n most common words\n",
    "    \"\"\"\n",
    "    counter = collections.Counter(lst)\n",
    "    for k in list(counter):\n",
    "        if counter[k] == 1:\n",
    "            pass\n",
    "        else:\n",
    "            counter[k] *= word_IDF[k]\n",
    "            \n",
    "    return counter.most_common(n_words)"
   ]
  },
  {
   "cell_type": "code",
   "execution_count": 98,
   "id": "24acc38f",
   "metadata": {},
   "outputs": [],
   "source": [
    "def extract_labels(category_doc, print_word_counts = False):\n",
    "    ''' \n",
    "    Argument:\n",
    "        category_docs: list of documents, all from the same category or clustering. category_docs is a list of strings like below \n",
    "        ['fun game small amount time unless lifer..........', ....  'steem pile graphic' ]\n",
    "        \n",
    "        print_word_counts: bool, True will print word counts of each type in this category\n",
    "    '''\n",
    "    \n",
    "    verbs = []\n",
    "    dobjs = []\n",
    "    nouns = []\n",
    "    adjs = []\n",
    "    \n",
    "    verb = ''\n",
    "    dobj = ''\n",
    "    noun1 = ''\n",
    "    noun2 = ''\n",
    "    \n",
    "    for i in range(len(category_doc)):\n",
    "        doc = nlp(category_doc[i])\n",
    "        for token in doc:\n",
    "            if (token.is_stop == False ) and (len(str(token).strip()) >0 ):\n",
    "                if token.pos_ == 'VERB':\n",
    "                    verbs.extend([token.lemma_.lower()])\n",
    "                \n",
    "                elif token.dep_ == 'dobj':\n",
    "                    dobjs.extend([token.lemma_.lower()])\n",
    "                    \n",
    "                elif token.pos_ == 'NOUN':\n",
    "                    nouns.extend([token.lemma_.lower()])\n",
    "                    \n",
    "                elif token.pos_ == 'ADJ':\n",
    "                    adjs.extend([token.lemma_.lower()])\n",
    "                    \n",
    "    \n",
    "    # print('most_common(verbs, 1) ', most_common(verbs, 1))\n",
    "    # [('m', 27)]\n",
    "    \n",
    "    if print_word_counts:\n",
    "        for word_lst in [verbs, dobjs, nouns, adjs]:\n",
    "            counter = collections.Counter(word_lst)\n",
    "            print(counter)\n",
    "            \n",
    "    if len(verbs) > 0:\n",
    "        verb = most_common(verbs, 1)[0][0]\n",
    "        \n",
    "    if len(dobjs) > 0:\n",
    "        dobj = most_common(dobjs, 1)[0][0]\n",
    "        \n",
    "    if len(nouns) > 0:\n",
    "        noun1 = most_common(nouns, 1)[0][0]\n",
    "    \n",
    "    if len(set(nouns)) > 1:\n",
    "        noun2 = most_common(nouns, 2)[1][0]\n",
    "        \n",
    "        \n",
    "    # concatenate the most common verb-dobj-noun1-noun2 (if they exist)\n",
    "    label_words = [verb, dobj]\n",
    "    \n",
    "    for word in [noun1, noun2]:\n",
    "        if word not in label_words:\n",
    "            label_words.append(word)\n",
    "            \n",
    "    if '' in label_words:\n",
    "        label_words.remove('')\n",
    "        \n",
    "    label = '_'.join(label_words)\n",
    "    \n",
    "    return label    "
   ]
  },
  {
   "cell_type": "code",
   "execution_count": 99,
   "id": "6f698484",
   "metadata": {},
   "outputs": [
    {
     "data": {
      "text/plain": [
       "'be_battl_sourc_game'"
      ]
     },
     "execution_count": 99,
     "metadata": {},
     "output_type": "execute_result"
    }
   ],
   "source": [
    "current_cat = ['fun game small amount time unless lifer mean insult anyon peopl time other like anyon job kid liter anyth play video game time game made mistak play way mani hour never get past week game explain noth start understand go read watch guid even could random bad luck like spawn world row rain none stop froze death spawn summer die heat within minut game even tell take damag read guid hey im glad peopl like game unless consid hardcor gamer would avoid time sink', 'game look nice slow pace even adventur', 'good remak sound still origin half life rework sourc minus excel graphic sourc im say game bad say inferior origin that avail steam reason say unlik half life half life sourc includ hd mode hd mode basic origin hd pack includ releas blueshift made npcs weapon look consider better real advantag half life sourc origin stabl engin say there anyth wrong gold sourc engin get rid glitch origin end half life sourc realli isnt much improv origin half life improv ps actual think graphic blurri person opinion', 'game interest tower defens mechan primit bore gameplay cool theme', 'want zombi surviv game buy dayz', 'full twelv year old spammer time waister cours drop out start game like game alot player immposs get game togeth without spam cuss leav game report noth develop joke want money take action keep claim im fed crap someth game hard find decent game good develop priceybut get pay ehh', 'find wait line forev join battl rare final get spot join battl actual pretti fun good game play want give wait forev', 'gta iv fantast game stori onlin great reconmen game issu run modern hardwar window run window might alright might issu', 'steem pile graphic' ]\n",
    "\n",
    "\n",
    "x = extract_labels(current_cat)\n",
    "x"
   ]
  },
  {
   "cell_type": "code",
   "execution_count": 102,
   "id": "9b3d4430",
   "metadata": {},
   "outputs": [
    {
     "data": {
      "text/plain": [
       "['* * * * dis ripoff leagu legend damn itsuck ballsssssssssssss',\n",
       " 'new updat broke tf that say kill valv good job',\n",
       " 'alway troll made video esea vs faceit worth buy troll everi game toxic karma system gon na f * ck troll team would use * * * * f * ck * * * *',\n",
       " 'dota amaz game updat real s * * t lot player like new updat like dota classic dota year game map differ map sooo big rune ( for cant even fight first blood rune ) new hud small useless play hour game spent lot money think i ll stop play updat ruin game valv good job ( iron )',\n",
       " \"* * * * ing r p e cell ' know fun part leav got leav emot physic turmoil r @ ped behind oh wait i 'm permanent emot scar * * * * ing hell hole cell ' contempl everi day whether go live kill distress feel day-to-day basi * * * * ing game ' i 'm * * * * ing done\",\n",
       " 'wtf * * * * patch * * * * like leagu legend wtf bot * * * * ness whichev bot bought cour they re gon na make fallow entir game like * * * *',\n",
       " \"rememb day could put one treb shot treb rememb real raid instead * * * * raid rememb join server ping realli matter day * * * * ing gone rememb good game pick rock build cobbleston ' ' i 'm sorri cut head guy pillor ' rok develop * * * * ed game real good updat suck major * * * * ca n't figur want keep treb normal perfect came wtf counter weight adjust aim ' * * * * rememb yo aim dam thing * * * * ing fire ' take risk hite game laggi * * * * game noth blocksyour sieg weapon suck sooo much * * * * no build king castl ' * * * * stop * * * * ing game think ' good realli happi play game cring see man full steel either lag fli like bird keep swing one shot connect lag help trash game recommend game anyon true surviv ' player\",\n",
       " 'like tohsaka fxxked end',\n",
       " \"i ve play dota sinc beta experi dota communiti alway most cesspit new stuff go player ' seem like grew constant develop ( valv ) could much encourag posit behavior feel like prioriti im say would play game encourag kind behavior\",\n",
       " \"game lot fun take moba genr fresh new way isometr view charact instead gamealmost like side scroller minion awesomenaut turret jungl ( although jungler role game jungl main use get hp ) map object moba 's main featur charact mani they re differ fun play plus ronimo releas new charact everi coupl month recommend clear ronimo new moba genr game poor balanc naut flat better team composit disgust power get skree coco nibb gg wp easi infinit sieg potenti enemi ca n't * * * * coco 's nibb ' abilit go terrain tower oneshot peopl burst half second plus server host depend dude 's connect he 's lag win see peopl warp around get hit abil dodg second ago kind stuff tri download porno play game easi win edit coupl month level updat alright pure shit level system copi hot make game incred snowbal game flaw still guess better add new useless stuff instead fix broken mechan mean forc camp base minut enemi leon infinit stealht backdoor anytim soon great fun mechan play gj ronimo tri make way riot 's balanc team could realli need hand right\",\n",
       " 'honest want like game major titan fan horribl need titan fix wait honor glori id go titan advantur time even old still better',\n",
       " 'leagu better even leagu less toxic communiti',\n",
       " 'dont buy не покупайте multiplay work game мультиплеер не работает see game mid play make everyon lag join even break game crash cant join half game lobbi game lagg sometim wait end turn половина игр в лобби уже начата и вы испортите им игру если присоединитесь в часть игр не возможно зайти из за ошибки соединения игра зависает на конце хода в слачайные моменты wait year buy ждите год пока не пофиксят всё',\n",
       " \"lem me tell think arma arma fantast militari sim game physic great graphic awesom everyth enjoy especi addon great improv know dayz run amaz engin zoombi mod enjoy gone thank bohemia dayz hope guy rot hell hate game come deep part soul also extern part amount dip * * * * tri hard * * * * ing poser come across rattl bone like go server spec op ' slot choos make want shoot brain moment went server felt heard spec op readi pick up ' this spec op go fire ' this spec op suck * * * * crack money ' last one joke see anger ask chat bar scroll option * * * * ing reason are guy militari serv ' gust wind scream oh * * * * go came no never serv luckili game ' wtf face big enough show felt * * * * head idea like combat know yet self plan know soon militari tactic anyth particular militari anyon spec op ' dumbass anyway get server caus point grow giant vein templ hold back self tear guy new one alright ' tell self decid brows server ah one must great seal team ' okay serious get * * * * ing * * * * want actual serv name * * * * ing server seal team # make look cool piss peopl go server ask serv serv noope serious * * * * think part seal team * * * * ing know besid call duti stupid * * * * okay well there 's alot let get close statement arma fun love game graphic nice mulitplay un-optim drive insan nice pc tri enjoy game without dev optim game use bit game even though game releas pretti hefti game play baffl physic engin great physx engin call nvidia cool * * * * bad look cool fps tri drive go right * * * * ing rock physic work though good * * * * anyway also game feel strip like there 's noth compar arma regard weapon vehicl would recommend game ever served/serv militari want someth casual serv serv want gut everyon there 's point play game one know pretend badass never except mayb onlin pre pubesc go puberti voic sound like want follow amount poser wan na be 's ruin game oh especi th meu ' oh pretend real marin meu like serious guy think marin websit say much follow marin even pretend medal shadow box * * * * * * * * someon work * * * * join special group peopl longer play game without get rage singleplay fun though like singl player mod nice realli ca n't say much els would recommend game\",\n",
       " \"stare play lol coupl year ago okay want someth challeng ' tri dota fell love game much fun angri happi punch keyboard like challeng new patch dota lolifi miss dota\"]"
      ]
     },
     "execution_count": 102,
     "metadata": {},
     "output_type": "execute_result"
    }
   ],
   "source": [
    "list(get_group(data_clustered, 'label_st1', 5 )['text'])"
   ]
  },
  {
   "cell_type": "code",
   "execution_count": 103,
   "id": "a3d0f257",
   "metadata": {},
   "outputs": [],
   "source": [
    "def apply_and_summarize_labels(df, category_col ):\n",
    "    \"\"\"\n",
    "    Assign groups to original documents and provide group counts\n",
    "\n",
    "    Arguments:\n",
    "        df: pandas dataframe of original documents of interest to\n",
    "            cluster\n",
    "        category_col: str, column name corresponding to categories or clusters\n",
    "\n",
    "    Returns:\n",
    "        summary_df: pandas dataframe with model cluster assignment, number\n",
    "                    of documents in each cluster and derived labels\n",
    "    \"\"\"\n",
    "    \n",
    "    numerical_labels = df[category_col].unique()\n",
    "    \n",
    "    label_dict = {}\n",
    "    \n",
    "    for label in numerical_labels:\n",
    "        current_category = list(get_group(data_clustered, category_col, label )['text'])\n",
    "        \n",
    "        label_dict[label] = extract_labels(current_category)\n",
    "        \n",
    "    summary_df = (df.groupby(category_col)['text'].count()\n",
    "                  .reset_index()\n",
    "                  .rename(columns={'text' : 'count' })\n",
    "                  .sort_values('count', ascending = False )\n",
    "                  )\n",
    "    \n",
    "    summary_df['label'] = summary_df.apply(lambda x: label_dict[x[category_col]] , axis = 1 )\n",
    "    \n",
    "    return summary_df"
   ]
  },
  {
   "cell_type": "code",
   "execution_count": 104,
   "id": "42f17e72",
   "metadata": {},
   "outputs": [
    {
     "data": {
      "text/html": [
       "<div>\n",
       "<style scoped>\n",
       "    .dataframe tbody tr th:only-of-type {\n",
       "        vertical-align: middle;\n",
       "    }\n",
       "\n",
       "    .dataframe tbody tr th {\n",
       "        vertical-align: top;\n",
       "    }\n",
       "\n",
       "    .dataframe thead th {\n",
       "        text-align: right;\n",
       "    }\n",
       "</style>\n",
       "<table border=\"1\" class=\"dataframe\">\n",
       "  <thead>\n",
       "    <tr style=\"text-align: right;\">\n",
       "      <th></th>\n",
       "      <th>label_st1</th>\n",
       "      <th>count</th>\n",
       "      <th>label</th>\n",
       "    </tr>\n",
       "  </thead>\n",
       "  <tbody>\n",
       "    <tr>\n",
       "      <th>0</th>\n",
       "      <td>-1</td>\n",
       "      <td>717</td>\n",
       "      <td>play_game</td>\n",
       "    </tr>\n",
       "    <tr>\n",
       "      <th>7</th>\n",
       "      <td>6</td>\n",
       "      <td>508</td>\n",
       "      <td>feel_game_time</td>\n",
       "    </tr>\n",
       "    <tr>\n",
       "      <th>9</th>\n",
       "      <td>8</td>\n",
       "      <td>307</td>\n",
       "      <td>buy_game_play</td>\n",
       "    </tr>\n",
       "    <tr>\n",
       "      <th>4</th>\n",
       "      <td>3</td>\n",
       "      <td>232</td>\n",
       "      <td>play_game</td>\n",
       "    </tr>\n",
       "    <tr>\n",
       "      <th>2</th>\n",
       "      <td>1</td>\n",
       "      <td>120</td>\n",
       "      <td>buy_money_game</td>\n",
       "    </tr>\n",
       "    <tr>\n",
       "      <th>5</th>\n",
       "      <td>4</td>\n",
       "      <td>23</td>\n",
       "      <td>recommend_demo_game_farm</td>\n",
       "    </tr>\n",
       "    <tr>\n",
       "      <th>10</th>\n",
       "      <td>9</td>\n",
       "      <td>23</td>\n",
       "      <td>buy_consol_game_pc</td>\n",
       "    </tr>\n",
       "    <tr>\n",
       "      <th>1</th>\n",
       "      <td>0</td>\n",
       "      <td>21</td>\n",
       "      <td>pay_game_dlc</td>\n",
       "    </tr>\n",
       "    <tr>\n",
       "      <th>3</th>\n",
       "      <td>2</td>\n",
       "      <td>17</td>\n",
       "      <td>shoot_game_gun</td>\n",
       "    </tr>\n",
       "    <tr>\n",
       "      <th>8</th>\n",
       "      <td>7</td>\n",
       "      <td>17</td>\n",
       "      <td>want_game_server</td>\n",
       "    </tr>\n",
       "    <tr>\n",
       "      <th>6</th>\n",
       "      <td>5</td>\n",
       "      <td>15</td>\n",
       "      <td>want_game_ing</td>\n",
       "    </tr>\n",
       "  </tbody>\n",
       "</table>\n",
       "</div>"
      ],
      "text/plain": [
       "    label_st1  count                     label\n",
       "0          -1    717                 play_game\n",
       "7           6    508            feel_game_time\n",
       "9           8    307             buy_game_play\n",
       "4           3    232                 play_game\n",
       "2           1    120            buy_money_game\n",
       "5           4     23  recommend_demo_game_farm\n",
       "10          9     23        buy_consol_game_pc\n",
       "1           0     21              pay_game_dlc\n",
       "3           2     17            shoot_game_gun\n",
       "8           7     17          want_game_server\n",
       "6           5     15             want_game_ing"
      ]
     },
     "execution_count": 104,
     "metadata": {},
     "output_type": "execute_result"
    }
   ],
   "source": [
    "cluster_summary = apply_and_summarize_labels(data_clustered, 'label_st1' )\n",
    "cluster_summary"
   ]
  },
  {
   "cell_type": "code",
   "execution_count": 105,
   "id": "3bf80fa0",
   "metadata": {},
   "outputs": [
    {
     "name": "stdout",
     "output_type": "stream",
     "text": [
      "2.1.4\n"
     ]
    }
   ],
   "source": [
    "print(pd.__version__)"
   ]
  },
  {
   "cell_type": "code",
   "execution_count": null,
   "id": "91a3dfe2",
   "metadata": {},
   "outputs": [],
   "source": []
  },
  {
   "cell_type": "code",
   "execution_count": 75,
   "id": "7ac0c04f",
   "metadata": {},
   "outputs": [],
   "source": [
    "# https://www.analyticsvidhya.com/blog/2020/08/top-4-sentence-embedding-techniques-using-python/"
   ]
  },
  {
   "cell_type": "code",
   "execution_count": null,
   "id": "5f8d96b8",
   "metadata": {},
   "outputs": [],
   "source": []
  }
 ],
 "metadata": {
  "kernelspec": {
   "display_name": "Python 3 (ipykernel)",
   "language": "python",
   "name": "python3"
  },
  "language_info": {
   "codemirror_mode": {
    "name": "ipython",
    "version": 3
   },
   "file_extension": ".py",
   "mimetype": "text/x-python",
   "name": "python",
   "nbconvert_exporter": "python",
   "pygments_lexer": "ipython3",
   "version": "3.10.9"
  }
 },
 "nbformat": 4,
 "nbformat_minor": 5
}
