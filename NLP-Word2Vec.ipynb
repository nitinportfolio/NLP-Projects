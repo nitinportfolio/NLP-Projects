{
 "cells": [
  {
   "cell_type": "markdown",
   "id": "40875cff",
   "metadata": {},
   "source": [
    "https://www.scirp.org/journal/paperinformation?paperid=122466"
   ]
  },
  {
   "cell_type": "markdown",
   "id": "aa65ed44",
   "metadata": {},
   "source": [
    "https://link.springer.com/article/10.1007/s10462-023-10419-1#Fig1"
   ]
  },
  {
   "cell_type": "markdown",
   "id": "58da1d5e",
   "metadata": {},
   "source": [
    "https://journalofbigdata.springeropen.com/articles/10.1186/s40537-021-00488-w"
   ]
  },
  {
   "cell_type": "markdown",
   "id": "108aab98",
   "metadata": {},
   "source": [
    "https://medium.com/nlplanet/two-minutes-nlp-11-word-embeddings-models-you-should-know-a0581763b9a9"
   ]
  },
  {
   "cell_type": "markdown",
   "id": "e7e2eee0",
   "metadata": {},
   "source": [
    "https://dataaspirant.com/word-embedding-techniques-nlp/"
   ]
  },
  {
   "cell_type": "code",
   "execution_count": null,
   "id": "af7d81f4",
   "metadata": {},
   "outputs": [],
   "source": []
  }
 ],
 "metadata": {
  "kernelspec": {
   "display_name": "Python 3 (ipykernel)",
   "language": "python",
   "name": "python3"
  },
  "language_info": {
   "codemirror_mode": {
    "name": "ipython",
    "version": 3
   },
   "file_extension": ".py",
   "mimetype": "text/x-python",
   "name": "python",
   "nbconvert_exporter": "python",
   "pygments_lexer": "ipython3",
   "version": "3.10.9"
  }
 },
 "nbformat": 4,
 "nbformat_minor": 5
}
