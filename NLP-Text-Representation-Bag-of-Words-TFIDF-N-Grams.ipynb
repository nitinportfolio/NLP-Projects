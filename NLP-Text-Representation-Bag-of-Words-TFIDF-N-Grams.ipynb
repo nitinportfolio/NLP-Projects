{
 "cells": [
  {
   "cell_type": "markdown",
   "id": "d60288c8",
   "metadata": {},
   "source": [
    "# Text-Representation-BagOfWords-TFIDF-NGrams\n",
    "\n",
    "\n",
    "## Feature Exraction - Text to Numbers in NLP\n",
    "- Also called Text Represntation or Text Vectorization\n",
    "- Vectorization should be in such a way thay it tells  the hidden meaning - semantic meaning"
   ]
  },
  {
   "cell_type": "markdown",
   "id": "b5e001f6",
   "metadata": {},
   "source": [
    "## Techniques for Vectorization\n",
    "1. One Hot Encoding - Not used - Disadvantage - Sparsity & overfitting, No Fixed Size, OOV (out of vocabulary problem), no capturing sematic meaning\n",
    "2. Bag of Words - Text classification perform good - Based on Frequency of words - DisAdv - Sparsity, OOV, Ordering of word (meaning changes), Not able to capture small changes like (i am going & I am not going) both are very different meaning.\n",
    "3. ngrams - Able to capture semantic better if we take value 2 or 3. DisAdv - Slow, more sparsity, \n",
    "4. TFIDF - Term frequency & Inverse Doc frequency. Get the wt & multiplied together\n",
    "5. Custom Features\n",
    "6. Word2Vec - Embedding - Deep learning (Best)"
   ]
  },
  {
   "cell_type": "markdown",
   "id": "311a0715",
   "metadata": {},
   "source": [
    "# Say that we have dataset of 5000 reviews\n",
    "- Corpus - All the text - reviews combined together or dataset joined together\n",
    "- Vocabulary - All unique words that  you have in a corpus\n",
    "- Document - All the individual reviews are individual documents\n",
    "- Word - simple individual words"
   ]
  },
  {
   "cell_type": "markdown",
   "id": "6d350257",
   "metadata": {},
   "source": [
    "# Bag of Words"
   ]
  },
  {
   "cell_type": "code",
   "execution_count": 13,
   "id": "dc74dcb3",
   "metadata": {},
   "outputs": [],
   "source": [
    "from sklearn.feature_extraction.text import CountVectorizer\n",
    "import pandas as pd\n",
    "import numpy as np"
   ]
  },
  {
   "cell_type": "code",
   "execution_count": 6,
   "id": "aaaabcc3",
   "metadata": {},
   "outputs": [],
   "source": [
    "text = [\"I like reading book\", \"Which book are you reading, is this good book\" ]"
   ]
  },
  {
   "cell_type": "code",
   "execution_count": 7,
   "id": "74330960",
   "metadata": {},
   "outputs": [],
   "source": [
    "cv = CountVectorizer()\n",
    "count = cv.fit_transform(text)"
   ]
  },
  {
   "cell_type": "code",
   "execution_count": 8,
   "id": "3dee50d2",
   "metadata": {},
   "outputs": [
    {
     "data": {
      "text/plain": [
       "array([[0, 1, 0, 0, 1, 1, 0, 0, 0],\n",
       "       [1, 2, 1, 1, 0, 1, 1, 1, 1]], dtype=int64)"
      ]
     },
     "execution_count": 8,
     "metadata": {},
     "output_type": "execute_result"
    }
   ],
   "source": [
    "count.toarray()"
   ]
  },
  {
   "cell_type": "code",
   "execution_count": 12,
   "id": "0be88bc2",
   "metadata": {},
   "outputs": [
    {
     "data": {
      "text/plain": [
       "array(['are', 'book', 'good', 'is', 'like', 'reading', 'this', 'which',\n",
       "       'you'], dtype=object)"
      ]
     },
     "execution_count": 12,
     "metadata": {},
     "output_type": "execute_result"
    }
   ],
   "source": [
    "cv.get_feature_names_out()"
   ]
  },
  {
   "cell_type": "code",
   "execution_count": 14,
   "id": "89a5ed18",
   "metadata": {},
   "outputs": [],
   "source": [
    "df = pd.DataFrame(count.toarray(), columns=cv.get_feature_names_out())"
   ]
  },
  {
   "cell_type": "code",
   "execution_count": 15,
   "id": "87cb2ef4",
   "metadata": {},
   "outputs": [
    {
     "data": {
      "text/html": [
       "<div>\n",
       "<style scoped>\n",
       "    .dataframe tbody tr th:only-of-type {\n",
       "        vertical-align: middle;\n",
       "    }\n",
       "\n",
       "    .dataframe tbody tr th {\n",
       "        vertical-align: top;\n",
       "    }\n",
       "\n",
       "    .dataframe thead th {\n",
       "        text-align: right;\n",
       "    }\n",
       "</style>\n",
       "<table border=\"1\" class=\"dataframe\">\n",
       "  <thead>\n",
       "    <tr style=\"text-align: right;\">\n",
       "      <th></th>\n",
       "      <th>are</th>\n",
       "      <th>book</th>\n",
       "      <th>good</th>\n",
       "      <th>is</th>\n",
       "      <th>like</th>\n",
       "      <th>reading</th>\n",
       "      <th>this</th>\n",
       "      <th>which</th>\n",
       "      <th>you</th>\n",
       "    </tr>\n",
       "  </thead>\n",
       "  <tbody>\n",
       "    <tr>\n",
       "      <th>0</th>\n",
       "      <td>0</td>\n",
       "      <td>1</td>\n",
       "      <td>0</td>\n",
       "      <td>0</td>\n",
       "      <td>1</td>\n",
       "      <td>1</td>\n",
       "      <td>0</td>\n",
       "      <td>0</td>\n",
       "      <td>0</td>\n",
       "    </tr>\n",
       "    <tr>\n",
       "      <th>1</th>\n",
       "      <td>1</td>\n",
       "      <td>2</td>\n",
       "      <td>1</td>\n",
       "      <td>1</td>\n",
       "      <td>0</td>\n",
       "      <td>1</td>\n",
       "      <td>1</td>\n",
       "      <td>1</td>\n",
       "      <td>1</td>\n",
       "    </tr>\n",
       "  </tbody>\n",
       "</table>\n",
       "</div>"
      ],
      "text/plain": [
       "   are  book  good  is  like  reading  this  which  you\n",
       "0    0     1     0   0     1        1     0      0    0\n",
       "1    1     2     1   1     0        1     1      1    1"
      ]
     },
     "execution_count": 15,
     "metadata": {},
     "output_type": "execute_result"
    }
   ],
   "source": [
    "df"
   ]
  },
  {
   "cell_type": "code",
   "execution_count": 26,
   "id": "dd6f0d04",
   "metadata": {},
   "outputs": [
    {
     "data": {
      "text/plain": [
       "array([[0, 1, 2, 1, 0, 1, 0, 0, 0]], dtype=int64)"
      ]
     },
     "execution_count": 26,
     "metadata": {},
     "output_type": "execute_result"
    }
   ],
   "source": [
    "val = cv.transform([\"Reading a good book is good for the brain\"]).toarray()\n",
    "val\n",
    "# The word that is not the part of vocabulary will not be considered, "
   ]
  },
  {
   "cell_type": "code",
   "execution_count": 27,
   "id": "1e757f41",
   "metadata": {},
   "outputs": [],
   "source": [
    "#df.loc[len(df.index)] = ['Amy', 89, 93] \n",
    "df1 = pd.DataFrame(val,columns=cv.get_feature_names_out() )"
   ]
  },
  {
   "cell_type": "code",
   "execution_count": 28,
   "id": "9ef221bd",
   "metadata": {},
   "outputs": [
    {
     "data": {
      "text/html": [
       "<div>\n",
       "<style scoped>\n",
       "    .dataframe tbody tr th:only-of-type {\n",
       "        vertical-align: middle;\n",
       "    }\n",
       "\n",
       "    .dataframe tbody tr th {\n",
       "        vertical-align: top;\n",
       "    }\n",
       "\n",
       "    .dataframe thead th {\n",
       "        text-align: right;\n",
       "    }\n",
       "</style>\n",
       "<table border=\"1\" class=\"dataframe\">\n",
       "  <thead>\n",
       "    <tr style=\"text-align: right;\">\n",
       "      <th></th>\n",
       "      <th>are</th>\n",
       "      <th>book</th>\n",
       "      <th>good</th>\n",
       "      <th>is</th>\n",
       "      <th>like</th>\n",
       "      <th>reading</th>\n",
       "      <th>this</th>\n",
       "      <th>which</th>\n",
       "      <th>you</th>\n",
       "    </tr>\n",
       "  </thead>\n",
       "  <tbody>\n",
       "    <tr>\n",
       "      <th>0</th>\n",
       "      <td>0</td>\n",
       "      <td>1</td>\n",
       "      <td>2</td>\n",
       "      <td>1</td>\n",
       "      <td>0</td>\n",
       "      <td>1</td>\n",
       "      <td>0</td>\n",
       "      <td>0</td>\n",
       "      <td>0</td>\n",
       "    </tr>\n",
       "  </tbody>\n",
       "</table>\n",
       "</div>"
      ],
      "text/plain": [
       "   are  book  good  is  like  reading  this  which  you\n",
       "0    0     1     2   1     0        1     0      0    0"
      ]
     },
     "execution_count": 28,
     "metadata": {},
     "output_type": "execute_result"
    }
   ],
   "source": [
    "df1"
   ]
  },
  {
   "cell_type": "code",
   "execution_count": 29,
   "id": "1dca0579",
   "metadata": {},
   "outputs": [
    {
     "data": {
      "text/html": [
       "<div>\n",
       "<style scoped>\n",
       "    .dataframe tbody tr th:only-of-type {\n",
       "        vertical-align: middle;\n",
       "    }\n",
       "\n",
       "    .dataframe tbody tr th {\n",
       "        vertical-align: top;\n",
       "    }\n",
       "\n",
       "    .dataframe thead th {\n",
       "        text-align: right;\n",
       "    }\n",
       "</style>\n",
       "<table border=\"1\" class=\"dataframe\">\n",
       "  <thead>\n",
       "    <tr style=\"text-align: right;\">\n",
       "      <th></th>\n",
       "      <th>are</th>\n",
       "      <th>book</th>\n",
       "      <th>good</th>\n",
       "      <th>is</th>\n",
       "      <th>like</th>\n",
       "      <th>reading</th>\n",
       "      <th>this</th>\n",
       "      <th>which</th>\n",
       "      <th>you</th>\n",
       "    </tr>\n",
       "  </thead>\n",
       "  <tbody>\n",
       "    <tr>\n",
       "      <th>0</th>\n",
       "      <td>0</td>\n",
       "      <td>1</td>\n",
       "      <td>0</td>\n",
       "      <td>0</td>\n",
       "      <td>1</td>\n",
       "      <td>1</td>\n",
       "      <td>0</td>\n",
       "      <td>0</td>\n",
       "      <td>0</td>\n",
       "    </tr>\n",
       "    <tr>\n",
       "      <th>1</th>\n",
       "      <td>1</td>\n",
       "      <td>2</td>\n",
       "      <td>1</td>\n",
       "      <td>1</td>\n",
       "      <td>0</td>\n",
       "      <td>1</td>\n",
       "      <td>1</td>\n",
       "      <td>1</td>\n",
       "      <td>1</td>\n",
       "    </tr>\n",
       "    <tr>\n",
       "      <th>0</th>\n",
       "      <td>0</td>\n",
       "      <td>1</td>\n",
       "      <td>2</td>\n",
       "      <td>1</td>\n",
       "      <td>0</td>\n",
       "      <td>1</td>\n",
       "      <td>0</td>\n",
       "      <td>0</td>\n",
       "      <td>0</td>\n",
       "    </tr>\n",
       "  </tbody>\n",
       "</table>\n",
       "</div>"
      ],
      "text/plain": [
       "   are  book  good  is  like  reading  this  which  you\n",
       "0    0     1     0   0     1        1     0      0    0\n",
       "1    1     2     1   1     0        1     1      1    1\n",
       "0    0     1     2   1     0        1     0      0    0"
      ]
     },
     "execution_count": 29,
     "metadata": {},
     "output_type": "execute_result"
    }
   ],
   "source": [
    "pd.concat([df, df1])"
   ]
  },
  {
   "cell_type": "markdown",
   "id": "8a14351a",
   "metadata": {},
   "source": [
    "- Remember Bag of words is the N grams with paramter ngram_range=(1, 1)"
   ]
  },
  {
   "cell_type": "markdown",
   "id": "d08189d7",
   "metadata": {},
   "source": [
    "# N Grams"
   ]
  },
  {
   "cell_type": "markdown",
   "id": "4a76735e",
   "metadata": {},
   "source": [
    " - ngram_range = (2,2) - two words will be combined for the vocab\n",
    "- ngram_range = (1,2) - bith one word & two wprds will be combined "
   ]
  },
  {
   "cell_type": "code",
   "execution_count": 40,
   "id": "99bd6823",
   "metadata": {},
   "outputs": [],
   "source": [
    "# for the same example\n",
    "cv = CountVectorizer(ngram_range=(2,2))\n",
    "count = cv.fit_transform(text)"
   ]
  },
  {
   "cell_type": "code",
   "execution_count": 41,
   "id": "e8288954",
   "metadata": {},
   "outputs": [
    {
     "data": {
      "text/plain": [
       "array([[0, 0, 0, 0, 1, 1, 0, 0, 0, 0],\n",
       "       [1, 1, 1, 1, 0, 0, 1, 1, 1, 1]], dtype=int64)"
      ]
     },
     "execution_count": 41,
     "metadata": {},
     "output_type": "execute_result"
    }
   ],
   "source": [
    "count.toarray()"
   ]
  },
  {
   "cell_type": "code",
   "execution_count": 42,
   "id": "a1071e6c",
   "metadata": {},
   "outputs": [
    {
     "data": {
      "text/plain": [
       "array(['are you', 'book are', 'good book', 'is this', 'like reading',\n",
       "       'reading book', 'reading is', 'this good', 'which book',\n",
       "       'you reading'], dtype=object)"
      ]
     },
     "execution_count": 42,
     "metadata": {},
     "output_type": "execute_result"
    }
   ],
   "source": [
    "cv.get_feature_names_out()"
   ]
  },
  {
   "cell_type": "code",
   "execution_count": 43,
   "id": "fe69efc9",
   "metadata": {},
   "outputs": [],
   "source": [
    "df = pd.DataFrame(count.toarray(), columns=cv.get_feature_names_out())"
   ]
  },
  {
   "cell_type": "code",
   "execution_count": 44,
   "id": "73e75b5e",
   "metadata": {},
   "outputs": [
    {
     "data": {
      "text/html": [
       "<div>\n",
       "<style scoped>\n",
       "    .dataframe tbody tr th:only-of-type {\n",
       "        vertical-align: middle;\n",
       "    }\n",
       "\n",
       "    .dataframe tbody tr th {\n",
       "        vertical-align: top;\n",
       "    }\n",
       "\n",
       "    .dataframe thead th {\n",
       "        text-align: right;\n",
       "    }\n",
       "</style>\n",
       "<table border=\"1\" class=\"dataframe\">\n",
       "  <thead>\n",
       "    <tr style=\"text-align: right;\">\n",
       "      <th></th>\n",
       "      <th>are you</th>\n",
       "      <th>book are</th>\n",
       "      <th>good book</th>\n",
       "      <th>is this</th>\n",
       "      <th>like reading</th>\n",
       "      <th>reading book</th>\n",
       "      <th>reading is</th>\n",
       "      <th>this good</th>\n",
       "      <th>which book</th>\n",
       "      <th>you reading</th>\n",
       "    </tr>\n",
       "  </thead>\n",
       "  <tbody>\n",
       "    <tr>\n",
       "      <th>0</th>\n",
       "      <td>0</td>\n",
       "      <td>0</td>\n",
       "      <td>0</td>\n",
       "      <td>0</td>\n",
       "      <td>1</td>\n",
       "      <td>1</td>\n",
       "      <td>0</td>\n",
       "      <td>0</td>\n",
       "      <td>0</td>\n",
       "      <td>0</td>\n",
       "    </tr>\n",
       "    <tr>\n",
       "      <th>1</th>\n",
       "      <td>1</td>\n",
       "      <td>1</td>\n",
       "      <td>1</td>\n",
       "      <td>1</td>\n",
       "      <td>0</td>\n",
       "      <td>0</td>\n",
       "      <td>1</td>\n",
       "      <td>1</td>\n",
       "      <td>1</td>\n",
       "      <td>1</td>\n",
       "    </tr>\n",
       "  </tbody>\n",
       "</table>\n",
       "</div>"
      ],
      "text/plain": [
       "   are you  book are  good book  is this  like reading  reading book  \\\n",
       "0        0         0          0        0             1             1   \n",
       "1        1         1          1        1             0             0   \n",
       "\n",
       "   reading is  this good  which book  you reading  \n",
       "0           0          0           0            0  \n",
       "1           1          1           1            1  "
      ]
     },
     "execution_count": 44,
     "metadata": {},
     "output_type": "execute_result"
    }
   ],
   "source": [
    "df"
   ]
  },
  {
   "cell_type": "markdown",
   "id": "e800e42f",
   "metadata": {},
   "source": [
    "# Tf-TDF\n",
    "Term Frequency(t,d) = freq. of term t in document d **/ total number of terms in document d**\n",
    "- TF - acts like a probability\n",
    "\n",
    "Inverse Document Frequency = **log**(Total no. of documents in the corpus **/ No. of documents with term t in them**)\n",
    "- IDF - Gives less wt to the common words\n",
    "- We take log so that value of idf is comparable to value of tf. Reducing hte value of idf by taking the log\n",
    "- Used in search engine to get the key word retrival\n",
    "- Sparsity, OOV, Dimension, No semantic, not capturing the meaning"
   ]
  },
  {
   "cell_type": "code",
   "execution_count": 46,
   "id": "db215c55",
   "metadata": {},
   "outputs": [],
   "source": [
    "from sklearn.feature_extraction.text import TfidfVectorizer"
   ]
  },
  {
   "cell_type": "code",
   "execution_count": 50,
   "id": "93238d02",
   "metadata": {},
   "outputs": [
    {
     "data": {
      "text/plain": [
       "['I like reading book', 'Which book are you reading, is this good book']"
      ]
     },
     "execution_count": 50,
     "metadata": {},
     "output_type": "execute_result"
    }
   ],
   "source": [
    "text"
   ]
  },
  {
   "cell_type": "code",
   "execution_count": 48,
   "id": "5e879394",
   "metadata": {},
   "outputs": [
    {
     "data": {
      "text/plain": [
       "array([[0.        , 0.50154891, 0.        , 0.        , 0.70490949,\n",
       "        0.50154891, 0.        , 0.        , 0.        ],\n",
       "       [0.342369  , 0.48719673, 0.342369  , 0.342369  , 0.        ,\n",
       "        0.24359836, 0.342369  , 0.342369  , 0.342369  ]])"
      ]
     },
     "execution_count": 48,
     "metadata": {},
     "output_type": "execute_result"
    }
   ],
   "source": [
    "tfidf = TfidfVectorizer()\n",
    "tfidf.fit_transform(text).toarray()"
   ]
  },
  {
   "cell_type": "code",
   "execution_count": 49,
   "id": "d4739cb0",
   "metadata": {},
   "outputs": [
    {
     "data": {
      "text/plain": [
       "(2, 9)"
      ]
     },
     "execution_count": 49,
     "metadata": {},
     "output_type": "execute_result"
    }
   ],
   "source": [
    "tfidf.fit_transform(text).toarray().shape"
   ]
  },
  {
   "cell_type": "code",
   "execution_count": 53,
   "id": "00cd649c",
   "metadata": {},
   "outputs": [
    {
     "data": {
      "text/plain": [
       "array([1.40546511, 1.        , 1.40546511, 1.40546511, 1.40546511,\n",
       "       1.        , 1.40546511, 1.40546511, 1.40546511])"
      ]
     },
     "execution_count": 53,
     "metadata": {},
     "output_type": "execute_result"
    }
   ],
   "source": [
    "tfidf.idf_"
   ]
  },
  {
   "cell_type": "code",
   "execution_count": 54,
   "id": "c566b233",
   "metadata": {},
   "outputs": [
    {
     "data": {
      "text/plain": [
       "array(['are', 'book', 'good', 'is', 'like', 'reading', 'this', 'which',\n",
       "       'you'], dtype=object)"
      ]
     },
     "execution_count": 54,
     "metadata": {},
     "output_type": "execute_result"
    }
   ],
   "source": [
    "tfidf.get_feature_names_out()"
   ]
  },
  {
   "cell_type": "code",
   "execution_count": 57,
   "id": "2638db60",
   "metadata": {},
   "outputs": [
    {
     "name": "stdout",
     "output_type": "stream",
     "text": [
      "[1.40546511 1.         1.40546511 1.40546511 1.40546511 1.\n",
      " 1.40546511 1.40546511 1.40546511]\n",
      "['are' 'book' 'good' 'is' 'like' 'reading' 'this' 'which' 'you']\n"
     ]
    }
   ],
   "source": [
    "print(tfidf.idf_)\n",
    "print(tfidf.get_feature_names_out())"
   ]
  },
  {
   "cell_type": "markdown",
   "id": "14e1a0db",
   "metadata": {},
   "source": [
    "# Custom Features -\n",
    "- **Hybrid Features** Generally we use both custom features & feature technique above \n",
    "- You create your features based on your requirement or domain knowledge such as number of positive words in the document or no. of negative words or ratio or positive & negative word or word count (postive review are lengthy compared to negative)"
   ]
  },
  {
   "cell_type": "code",
   "execution_count": null,
   "id": "498e0f11",
   "metadata": {},
   "outputs": [],
   "source": []
  }
 ],
 "metadata": {
  "kernelspec": {
   "display_name": "Python 3 (ipykernel)",
   "language": "python",
   "name": "python3"
  },
  "language_info": {
   "codemirror_mode": {
    "name": "ipython",
    "version": 3
   },
   "file_extension": ".py",
   "mimetype": "text/x-python",
   "name": "python",
   "nbconvert_exporter": "python",
   "pygments_lexer": "ipython3",
   "version": "3.10.9"
  }
 },
 "nbformat": 4,
 "nbformat_minor": 5
}
